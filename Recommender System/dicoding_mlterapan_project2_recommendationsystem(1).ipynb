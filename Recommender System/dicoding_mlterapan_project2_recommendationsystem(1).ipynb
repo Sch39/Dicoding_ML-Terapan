{
  "metadata": {
    "kernelspec": {
      "language": "python",
      "display_name": "Python 3",
      "name": "python3"
    },
    "language_info": {
      "name": "python",
      "version": "3.10.12",
      "mimetype": "text/x-python",
      "codemirror_mode": {
        "name": "ipython",
        "version": 3
      },
      "pygments_lexer": "ipython3",
      "nbconvert_exporter": "python",
      "file_extension": ".py"
    },
    "colab": {
      "provenance": [],
      "collapsed_sections": [
        "ia6Sthzty-hQ",
        "E-SPo6qty-hR",
        "5CR-IdBby-hS",
        "bZulvlCDy-hT",
        "m_3o0tXly-hV",
        "CNaBNjjUy-hf"
      ]
    }
  },
  "nbformat_minor": 0,
  "nbformat": 4,
  "cells": [
    {
      "cell_type": "markdown",
      "source": [
        "# Projek Akhir Machine Learning - Sukron Chafidhi\n",
        "\n",
        "![animes](https://res.cloudinary.com/da0hsihog/image/upload/v1690711687/Portofolio/animes_wtf6kl.jpg)\n",
        "\n",
        "Anime adalah istilah Jepang untuk segala jenis animasi, tak peduli dari negara mana asalnya. Industri anime tumbuh pesat dari tahun 2013 hingga 2018, dengan pasar rata-rata sekitar 2 triliun yen. Pada tahun 2018, pasar luar negeri mencapai lebih dari 1 triliun yen, atau sekitar 46,3% dari total pasar animasi Jepang. Pertumbuhan ini menghasilkan banyak karya anime baru untuk dinikmati pengguna. Namun, keberagaman anime bisa membuat pengguna kesulitan mencari anime sesuai preferensi mereka. Sistem rekomendasi adalah solusi untuk menyandingkan pengguna dengan anime yang cocok secara otomatis, tanpa mencari manual.\n",
        "\n",
        "List Content:\n",
        "* [Project Overview](#scrollTo=RiltQKQDy-g5)\n",
        "* [Business Understanding](#scrollTo=jhiEw3kPy-hB)\n",
        "* [Data Understanding](#scrollTo=wcgn9-Uoy-hE)\n",
        "* [Exploratory Data Analysis - Univariate](#scrollTo=ia6Sthzty-hQ)\n",
        "* [Data Preparation](#scrollTo=j30Q4LIfy-hY)\n",
        "* [Modelling and Results](#scrollTo=zJ0eHx-Jy-hk)\n",
        "* [Evaluation](#scrollTo=p2GVmBudy-hr)"
      ],
      "metadata": {
        "id": "RiltQKQDy-g5"
      }
    },
    {
      "cell_type": "markdown",
      "source": [
        "## Business Understanding\n",
        "Problem Statements\n",
        "\n",
        "•\tBagaimana cara merekomendasikan anime berdasarkan riwayat user?\n",
        "\n",
        "•\tBagaimana cara merekomendasikan anime berdasarkan penilaian user lain?\n",
        "\n",
        "Goals\n",
        "\n",
        "•\tMembuat Sistem Rekomendasi anime berdasarkan riwayat user\n",
        "\n",
        "•\tMembuat Sistem Rekomendasi anime berdasarkan penilaian user lain\n"
      ],
      "metadata": {
        "id": "jhiEw3kPy-hB"
      }
    },
    {
      "cell_type": "markdown",
      "source": [
        "## Data Understanding\n",
        "\n",
        "Variabel-variabel yang terdapat pada dataset adalah sebagai berikut:\n",
        "\n",
        "### animelist.csv\n",
        "Dataset ini berisi daftar semua anime yang terdaftar oleh pengguna berserta skor, status menonton, dan jumlah episode yang telah ditonton oleh pengguna. Terdapat 20 juta baris data, 16.745 anime berbeda, dan 74.129 pengguna berbeda dalam dataset ini. File tersebut memiliki kolom-kolom berikut:\n",
        "\n",
        "1. user_id: ID pengguna yang dihasilkan secara acak dan tidak dapat diidentifikasi.\n",
        "2. anime_id: ID Anime-planet dari anime tersebut. (contoh: 1).\n",
        "3. score: Nilai antara 1 hingga 5 yang diberikan oleh pengguna dalam skala 0.5. Nilai 0 jika pengguna tidak memberikan penilaian. (contoh: 3.5).\n",
        "4. watching_status: ID status dari anime tersebut dalam daftar anime pengguna. (contoh: 2).\n",
        "5. watched_episodes: Jumlah episode yang telah ditonton oleh pengguna. (contoh: 24).\n",
        "\n",
        "### watching_status.csv\n",
        "Berikut adalah deskripsi dari setiap kemungkinan status dalam kolom \"watching_status\" dalam file animelist.csv:\n",
        "•\tWatched: Sudah Ditonton\n",
        "•\tWatching: Sedang Ditonton\n",
        "•\tDropped: Dihentikan (Tidak Dilanjutkan)\n",
        "•\tWant to Watch: Ingin Ditonton\n",
        "•\tStalled: Mandek (Ditunda)\n",
        "•\tWon't Watch: Tidak Akan Ditonton\n",
        "\n",
        "\n",
        "### rating_complete.csv\n",
        "Ini adalah subset dari animelist.csv. Dataset ini hanya mempertimbangkan anime-anime yang telah ditonton secara lengkap oleh pengguna (watching_status==1) dan diberi penilaian (score!=0). Dataset ini berisi 8 juta penilaian yang diberikan untuk 15.681 anime oleh 68.199 pengguna. File ini memiliki kolom-kolom berikut:\n",
        "Berikut adalah terjemahan dari kolom-kolom dataset:\n",
        "\n",
        "- user_id: ID pengguna yang dihasilkan secara acak dan tidak dapat diidentifikasi.\n",
        "- anime_id: ID Anime-planet dari anime tersebut. (contoh: 1).\n",
        "- rating: Nilai penilaian yang diberikan oleh pengguna untuk anime ini.\n",
        "\n",
        "\n",
        "### anime_recommendations.csv\n",
        "File ini berisi daftar semua anime yang direkomendasikan berdasarkan satu anime tertentu. Informasi ini diambil dari tab \"recommendation\" (misalnya: https://www.anime-planet.com/anime/the-saints-magic-power-is-omnipotent/recommendations ). File ini memiliki kolom-kolom berikut:\n",
        "\n",
        "- Anime: ID Anime Planet dari anime tertentu. (contoh: 1).\n",
        "- Recommendation: ID Anime Planet dari anime yang direkomendasikan. (contoh: 1).\n",
        "- Agree Votes: jumlah pengguna yang setuju dengan rekomendasi tersebut.\n",
        "\n",
        "\n",
        "### anime.csv\n",
        "File ini berisi informasi umum dari setiap anime (16.621 anime berbeda) seperti Tag, tipe, studio, sinopsis, dan lain-lain. File ini memiliki kolom-kolom berikut:\n",
        "\n",
        "- Anime-PlanetID: ID Anime Planet dari anime tersebut. (contoh: 1).\n",
        "- Nama: nama lengkap dari anime tersebut. (contoh: FLCL)\n",
        "- Nama Alternatif: cara lain untuk menyebut anime tersebut. (contoh: Furi Kuri)\n",
        "- Skor Rating: skor rata-rata dari anime tersebut yang diberikan oleh seluruh pengguna di database Anime Planet. (contoh: 8.78)\n",
        "- Jumlah Suara: jumlah pengguna yang memberikan skor untuk anime tersebut. (contoh: 1241)\n",
        "- Tag: daftar tag yang dipisahkan dengan koma untuk anime tersebut. (contoh: Comedy, Mecha, Sci Fi, Outer Space, Original Work)\n",
        "- Peringatan Konten: daftar tag peringatan konten yang dipisahkan dengan koma. (contoh: Explicit Violence, Mature Themes, Nudity)\n",
        "- Tipe: TV, film, OVA, dll. (contoh: TV).\n",
        "- Episode: jumlah episode. (contoh: 26)\n",
        "- Selesai: Benar (True) jika anime tersebut sudah selesai ketika data diambil, Salah (False) jika anime tersebut masih berlanjut saat itu.\n",
        "- Durasi: durasi anime dalam menit (contoh: 60)\n",
        "- Tahun Mulai: tahun ketika anime mulai ditayangkan. (contoh: 2016)\n",
        "- Tahun Selesai: tahun ketika anime selesai ditayangkan. (contoh: 2017)\n",
        "- Musim: musim dan tahun rilis (contoh: Fall 2000)\n",
        "- Studio: daftar studio yang dipisahkan dengan koma (contoh: Sunrise)\n",
        "- Sinopsis: sinopsis dari anime tersebut.\n",
        "- URL: tautan ke halaman utama anime di Anime Planet (contoh: https://www.anime-planet.com/anime/vandread)"
      ],
      "metadata": {
        "id": "wcgn9-Uoy-hE"
      }
    },
    {
      "cell_type": "markdown",
      "source": [
        "list semua file"
      ],
      "metadata": {
        "id": "iCSujKhv-bKh"
      }
    },
    {
      "cell_type": "code",
      "source": [
        "%ls /kaggle/input/animeplanet-recommendation-database-2020"
      ],
      "metadata": {
        "_uuid": "8f2839f25d086af736a60e9eeb907d3b93b6e0e5",
        "_cell_guid": "b1076dfc-b9ad-4769-8c92-a6c4dae69d19",
        "execution": {
          "iopub.status.busy": "2023-07-30T14:34:44.130195Z",
          "iopub.execute_input": "2023-07-30T14:34:44.130591Z",
          "iopub.status.idle": "2023-07-30T14:34:45.142836Z",
          "shell.execute_reply.started": "2023-07-30T14:34:44.130550Z",
          "shell.execute_reply": "2023-07-30T14:34:45.141441Z"
        },
        "trusted": true,
        "id": "fdze2Spmy-hG",
        "outputId": "8ad8332e-e358-4b7e-f25a-9f101c13d15a"
      },
      "execution_count": null,
      "outputs": [
        {
          "name": "stdout",
          "text": " anime.csv                   animelist.csv   rating_complete.csv\n anime_recommendations.csv  \u001b[0m\u001b[01;34m'html folder'\u001b[0m/   watching_status.csv\n",
          "output_type": "stream"
        }
      ]
    },
    {
      "cell_type": "markdown",
      "source": [
        "install seaborn"
      ],
      "metadata": {
        "id": "4n1Nh7R2-fuY"
      }
    },
    {
      "cell_type": "code",
      "source": [
        "%pip install seaborn"
      ],
      "metadata": {
        "execution": {
          "iopub.status.busy": "2023-07-30T14:34:52.630605Z",
          "iopub.execute_input": "2023-07-30T14:34:52.630999Z",
          "iopub.status.idle": "2023-07-30T14:35:07.202628Z",
          "shell.execute_reply.started": "2023-07-30T14:34:52.630965Z",
          "shell.execute_reply": "2023-07-30T14:35:07.201280Z"
        },
        "trusted": true,
        "id": "5DvsyoHPy-hJ",
        "outputId": "ff052eb9-165d-4c20-d7ad-231b1f70061b"
      },
      "execution_count": null,
      "outputs": [
        {
          "name": "stdout",
          "text": "Requirement already satisfied: seaborn in /opt/conda/lib/python3.10/site-packages (0.12.2)\nRequirement already satisfied: numpy!=1.24.0,>=1.17 in /opt/conda/lib/python3.10/site-packages (from seaborn) (1.23.5)\nRequirement already satisfied: pandas>=0.25 in /opt/conda/lib/python3.10/site-packages (from seaborn) (1.5.3)\nRequirement already satisfied: matplotlib!=3.6.1,>=3.1 in /opt/conda/lib/python3.10/site-packages (from seaborn) (3.7.1)\nRequirement already satisfied: contourpy>=1.0.1 in /opt/conda/lib/python3.10/site-packages (from matplotlib!=3.6.1,>=3.1->seaborn) (1.1.0)\nRequirement already satisfied: cycler>=0.10 in /opt/conda/lib/python3.10/site-packages (from matplotlib!=3.6.1,>=3.1->seaborn) (0.11.0)\nRequirement already satisfied: fonttools>=4.22.0 in /opt/conda/lib/python3.10/site-packages (from matplotlib!=3.6.1,>=3.1->seaborn) (4.40.0)\nRequirement already satisfied: kiwisolver>=1.0.1 in /opt/conda/lib/python3.10/site-packages (from matplotlib!=3.6.1,>=3.1->seaborn) (1.4.4)\nRequirement already satisfied: packaging>=20.0 in /opt/conda/lib/python3.10/site-packages (from matplotlib!=3.6.1,>=3.1->seaborn) (21.3)\nRequirement already satisfied: pillow>=6.2.0 in /opt/conda/lib/python3.10/site-packages (from matplotlib!=3.6.1,>=3.1->seaborn) (9.5.0)\nRequirement already satisfied: pyparsing>=2.3.1 in /opt/conda/lib/python3.10/site-packages (from matplotlib!=3.6.1,>=3.1->seaborn) (3.0.9)\nRequirement already satisfied: python-dateutil>=2.7 in /opt/conda/lib/python3.10/site-packages (from matplotlib!=3.6.1,>=3.1->seaborn) (2.8.2)\nRequirement already satisfied: pytz>=2020.1 in /opt/conda/lib/python3.10/site-packages (from pandas>=0.25->seaborn) (2023.3)\nRequirement already satisfied: six>=1.5 in /opt/conda/lib/python3.10/site-packages (from python-dateutil>=2.7->matplotlib!=3.6.1,>=3.1->seaborn) (1.16.0)\nNote: you may need to restart the kernel to use updated packages.\n",
          "output_type": "stream"
        }
      ]
    },
    {
      "cell_type": "markdown",
      "source": [
        "import library"
      ],
      "metadata": {
        "id": "-4T1CmpP-kIY"
      }
    },
    {
      "cell_type": "code",
      "source": [
        "import pandas as pd\n",
        "import numpy as np\n",
        "import seaborn as sns\n",
        "import re\n",
        "import matplotlib.pyplot as plt\n",
        "from sklearn.feature_extraction.text import TfidfVectorizer\n"
      ],
      "metadata": {
        "execution": {
          "iopub.status.busy": "2023-07-30T14:35:51.789979Z",
          "iopub.execute_input": "2023-07-30T14:35:51.790424Z",
          "iopub.status.idle": "2023-07-30T14:35:52.634082Z",
          "shell.execute_reply.started": "2023-07-30T14:35:51.790391Z",
          "shell.execute_reply": "2023-07-30T14:35:52.633041Z"
        },
        "trusted": true,
        "id": "cYHmI01uy-hK",
        "outputId": "b4d1f88f-ef2e-4c6c-b860-fb8fce61deaa"
      },
      "execution_count": null,
      "outputs": [
        {
          "name": "stderr",
          "text": "/opt/conda/lib/python3.10/site-packages/scipy/__init__.py:146: UserWarning: A NumPy version >=1.16.5 and <1.23.0 is required for this version of SciPy (detected version 1.23.5\n  warnings.warn(f\"A NumPy version >={np_minversion} and <{np_maxversion}\"\n",
          "output_type": "stream"
        }
      ]
    },
    {
      "cell_type": "markdown",
      "source": [
        "load dataset"
      ],
      "metadata": {
        "id": "hXPsbUkb-oyE"
      }
    },
    {
      "cell_type": "code",
      "source": [
        "animelist = pd.read_csv('/kaggle/input/animeplanet-recommendation-database-2020/animelist.csv')\n",
        "watching_status = pd.read_csv('/kaggle/input/animeplanet-recommendation-database-2020/watching_status.csv')\n",
        "rating_complete = pd.read_csv('/kaggle/input/animeplanet-recommendation-database-2020/rating_complete.csv')\n",
        "anime_recommendations = pd.read_csv('/kaggle/input/animeplanet-recommendation-database-2020/anime_recommendations.csv')\n",
        "anime = pd.read_csv('/kaggle/input/animeplanet-recommendation-database-2020/anime.csv')"
      ],
      "metadata": {
        "execution": {
          "iopub.status.busy": "2023-07-30T14:35:59.533506Z",
          "iopub.execute_input": "2023-07-30T14:35:59.533895Z",
          "iopub.status.idle": "2023-07-30T14:36:16.753205Z",
          "shell.execute_reply.started": "2023-07-30T14:35:59.533861Z",
          "shell.execute_reply": "2023-07-30T14:36:16.752117Z"
        },
        "trusted": true,
        "id": "yhOAyOngy-hL"
      },
      "execution_count": null,
      "outputs": []
    },
    {
      "cell_type": "markdown",
      "source": [
        "Format nama kolom dengan mendeklarasikan fungsi"
      ],
      "metadata": {
        "id": "Ix1yXnE8-rv-"
      }
    },
    {
      "cell_type": "code",
      "source": [
        "def columns_formater(data):\n",
        "    for column in data:\n",
        "        try:\n",
        "          data = data.rename(\n",
        "            columns = {column : column.lower()\n",
        "            .replace(\" \", \"_\")\n",
        "            .replace(\"-\", \"_\")\n",
        "            .replace(\"[\", \"\")\n",
        "            .replace(\"]\", \"\")})\n",
        "        except:\n",
        "          pass\n",
        "\n",
        "    return data"
      ],
      "metadata": {
        "execution": {
          "iopub.status.busy": "2023-07-30T14:36:28.387152Z",
          "iopub.execute_input": "2023-07-30T14:36:28.387515Z",
          "iopub.status.idle": "2023-07-30T14:36:28.394967Z",
          "shell.execute_reply.started": "2023-07-30T14:36:28.387482Z",
          "shell.execute_reply": "2023-07-30T14:36:28.393035Z"
        },
        "trusted": true,
        "id": "iHobdtcNy-hL"
      },
      "execution_count": null,
      "outputs": []
    },
    {
      "cell_type": "markdown",
      "source": [
        "Menerapkan format"
      ],
      "metadata": {
        "id": "LdSPy9F0-y14"
      }
    },
    {
      "cell_type": "code",
      "source": [
        "animelist = columns_formater(animelist)\n",
        "watching_status = columns_formater(watching_status)\n",
        "rating_complete = columns_formater(rating_complete)\n",
        "anime_recommendations = columns_formater(anime_recommendations)\n",
        "anime = columns_formater(anime)"
      ],
      "metadata": {
        "execution": {
          "iopub.status.busy": "2023-07-30T14:36:35.592565Z",
          "iopub.execute_input": "2023-07-30T14:36:35.592939Z",
          "iopub.status.idle": "2023-07-30T14:36:37.444564Z",
          "shell.execute_reply.started": "2023-07-30T14:36:35.592908Z",
          "shell.execute_reply": "2023-07-30T14:36:37.443557Z"
        },
        "trusted": true,
        "id": "poz39N8vy-hM"
      },
      "execution_count": null,
      "outputs": []
    },
    {
      "cell_type": "markdown",
      "source": [
        "Print informasi jumlah per variabel"
      ],
      "metadata": {
        "id": "Cz1GTlP3-2kp"
      }
    },
    {
      "cell_type": "code",
      "source": [
        "print('Jumlah data user: ', len(animelist.user_id.unique()))\n",
        "print('Jumlah data anime yang didaftarkan user: ', len(animelist.anime_id.unique()))\n",
        "print('Jumlah data anime: ', len(anime.anime_planetid.unique()))\n",
        "print('Jumlah data anime ber-rating dan selesai ditonton: ', len(rating_complete.anime_id.unique()))\n",
        "print('Jumlah kategori status ditonton: ', len(watching_status.status.unique()))\n",
        "print('Rekomendasi anime berdasarkan anime yang dilihat: ', len(anime_recommendations.anime.unique()))"
      ],
      "metadata": {
        "execution": {
          "iopub.status.busy": "2023-07-30T14:36:40.829061Z",
          "iopub.execute_input": "2023-07-30T14:36:40.829447Z",
          "iopub.status.idle": "2023-07-30T14:36:41.198991Z",
          "shell.execute_reply.started": "2023-07-30T14:36:40.829413Z",
          "shell.execute_reply": "2023-07-30T14:36:41.197761Z"
        },
        "trusted": true,
        "id": "TSm2vm2Gy-hP",
        "outputId": "52cc23bb-9b09-4824-ff33-4e5873bb129d"
      },
      "execution_count": null,
      "outputs": [
        {
          "name": "stdout",
          "text": "Jumlah data user:  74129\nJumlah data anime yang didaftarkan user:  16745\nJumlah data anime:  16621\nJumlah data anime ber-rating dan selesai ditonton:  15681\nJumlah kategori status ditonton:  6\nRekomendasi anime berdasarkan anime yang dilihat:  14881\n",
          "output_type": "stream"
        }
      ]
    },
    {
      "cell_type": "code",
      "source": [
        "# Tampilkan grafik anime yang paling banyak dilihat\n",
        "top_10_anime = anime['name'].value_counts().nlargest(10)\n",
        "palette = sns.color_palette('rocket', len(top_10_anime))\n",
        "\n",
        "# Buat grafik\n",
        "plt.bar(top_10_anime.index, top_10_anime.values, color=palette)\n",
        "\n",
        "# Set judul dan label\n",
        "plt.title('Top 10 Anime by User Most Watch')\n",
        "plt.xlabel('Anime Name')\n",
        "plt.ylabel('User Watch Count')\n",
        "plt.xticks(rotation=40, ha=\"right\")\n",
        "\n",
        "# Tampilkan plot\n",
        "plt.show()"
      ],
      "metadata": {
        "execution": {
          "iopub.status.busy": "2023-07-30T14:38:27.130231Z",
          "iopub.execute_input": "2023-07-30T14:38:27.130632Z",
          "iopub.status.idle": "2023-07-30T14:38:29.884084Z",
          "shell.execute_reply.started": "2023-07-30T14:38:27.130599Z",
          "shell.execute_reply": "2023-07-30T14:38:29.883166Z"
        },
        "trusted": true,
        "id": "el5LuAflPs29",
        "outputId": "b6783cff-62fc-4407-955d-bbf47b4bafeb"
      },
      "execution_count": null,
      "outputs": [
        {
          "output_type": "display_data",
          "data": {
            "text/plain": "<Figure size 640x480 with 1 Axes>",
            "image/png": "[encoded data removed]"
          },
          "metadata": {}
        }
      ]
    },
    {
      "cell_type": "markdown",
      "source": [
        "## Exploratory Data Analysis"
      ],
      "metadata": {
        "id": "ia6Sthzty-hQ"
      }
    },
    {
      "cell_type": "markdown",
      "source": [
        "### Univariate\n",
        "Variabel-variabel pada Animeplanet Recommendation dataset adalah sebagai berikut:\n",
        "* animelist: list anime yang terdaftar user\n",
        "* watching_status: kategori untuk status anime ditonton\n",
        "* rating_complete: list anime yang telah ditonton hingga selesai dan memiliki rating\n",
        "* anime_recommendations: list anime yang direkomendasikan berdasarkan suatu anime yang dipilih (tidak digunakan)\n",
        "* anime: informasi umum untuk setiap anime"
      ],
      "metadata": {
        "id": "QlkCn-mgy-hR"
      }
    },
    {
      "cell_type": "markdown",
      "source": [
        "### Variabel Anime List"
      ],
      "metadata": {
        "id": "E-SPo6qty-hR"
      }
    },
    {
      "cell_type": "code",
      "source": [
        "animelist.info()"
      ],
      "metadata": {
        "execution": {
          "iopub.status.busy": "2023-07-30T14:36:47.570419Z",
          "iopub.execute_input": "2023-07-30T14:36:47.571155Z",
          "iopub.status.idle": "2023-07-30T14:36:47.595043Z",
          "shell.execute_reply.started": "2023-07-30T14:36:47.571115Z",
          "shell.execute_reply": "2023-07-30T14:36:47.593690Z"
        },
        "trusted": true,
        "id": "xWwiksfqy-hR",
        "outputId": "6d8ba1e5-c5b5-471b-b914-054fcc994861"
      },
      "execution_count": null,
      "outputs": [
        {
          "name": "stdout",
          "text": "<class 'pandas.core.frame.DataFrame'>\nRangeIndex: 20842201 entries, 0 to 20842200\nData columns (total 5 columns):\n #   Column            Dtype  \n---  ------            -----  \n 0   user_id           int64  \n 1   anime_id          int64  \n 2   rating            float64\n 3   watching_status   int64  \n 4   watched_episodes  int64  \ndtypes: float64(1), int64(4)\nmemory usage: 795.1 MB\n",
          "output_type": "stream"
        }
      ]
    },
    {
      "cell_type": "code",
      "source": [
        "print('Banyak user yang mendaftarkan anime: ', len(animelist.user_id.unique()))\n",
        "print('Banyak anime didaftarkan: ', len(animelist.anime_id.unique()))"
      ],
      "metadata": {
        "execution": {
          "iopub.status.busy": "2023-07-30T14:36:48.892287Z",
          "iopub.execute_input": "2023-07-30T14:36:48.892671Z",
          "iopub.status.idle": "2023-07-30T14:36:49.270679Z",
          "shell.execute_reply.started": "2023-07-30T14:36:48.892639Z",
          "shell.execute_reply": "2023-07-30T14:36:49.269602Z"
        },
        "trusted": true,
        "id": "Mh19wm7ry-hR",
        "outputId": "a12ff485-b2fb-472c-fe4c-d30938a980af"
      },
      "execution_count": null,
      "outputs": [
        {
          "name": "stdout",
          "text": "Banyak user yang mendaftarkan anime:  74129\nBanyak anime didaftarkan:  16745\n",
          "output_type": "stream"
        }
      ]
    },
    {
      "cell_type": "markdown",
      "source": [
        "### Variabel Watching Status"
      ],
      "metadata": {
        "id": "5CR-IdBby-hS"
      }
    },
    {
      "cell_type": "code",
      "source": [
        "watching_status.info()"
      ],
      "metadata": {
        "execution": {
          "iopub.status.busy": "2023-07-30T14:36:51.081087Z",
          "iopub.execute_input": "2023-07-30T14:36:51.081446Z",
          "iopub.status.idle": "2023-07-30T14:36:51.093008Z",
          "shell.execute_reply.started": "2023-07-30T14:36:51.081415Z",
          "shell.execute_reply": "2023-07-30T14:36:51.091753Z"
        },
        "trusted": true,
        "id": "7iYCHZ7Cy-hS",
        "outputId": "774713f9-2e26-4ee6-ca75-1057d024d6e0"
      },
      "execution_count": null,
      "outputs": [
        {
          "name": "stdout",
          "text": "<class 'pandas.core.frame.DataFrame'>\nRangeIndex: 6 entries, 0 to 5\nData columns (total 2 columns):\n #   Column        Non-Null Count  Dtype \n---  ------        --------------  ----- \n 0   status        6 non-null      int64 \n 1   _description  6 non-null      object\ndtypes: int64(1), object(1)\nmemory usage: 224.0+ bytes\n",
          "output_type": "stream"
        }
      ]
    },
    {
      "cell_type": "code",
      "source": [
        "print('Banyak data: ', len(watching_status.status.unique()))\n",
        "print('Jenis Status: ', watching_status._description.unique())"
      ],
      "metadata": {
        "execution": {
          "iopub.status.busy": "2023-07-30T14:36:54.430019Z",
          "iopub.execute_input": "2023-07-30T14:36:54.430756Z",
          "iopub.status.idle": "2023-07-30T14:36:54.438591Z",
          "shell.execute_reply.started": "2023-07-30T14:36:54.430718Z",
          "shell.execute_reply": "2023-07-30T14:36:54.437603Z"
        },
        "trusted": true,
        "id": "AQCX3XLxy-hT",
        "outputId": "8496d167-4485-439d-c91f-03c992c1f213"
      },
      "execution_count": null,
      "outputs": [
        {
          "name": "stdout",
          "text": "Banyak data:  6\nJenis Status:  ['Watched' 'Watching' 'Dropped' 'Want to Watch' 'Stalled' \"Won't Watch\"]\n",
          "output_type": "stream"
        }
      ]
    },
    {
      "cell_type": "markdown",
      "source": [
        "### Variabel Rating Complete"
      ],
      "metadata": {
        "id": "bZulvlCDy-hT"
      }
    },
    {
      "cell_type": "code",
      "source": [
        "rating_complete.describe().round(3)"
      ],
      "metadata": {
        "execution": {
          "iopub.status.busy": "2023-07-30T14:36:57.790079Z",
          "iopub.execute_input": "2023-07-30T14:36:57.790795Z",
          "iopub.status.idle": "2023-07-30T14:36:58.693252Z",
          "shell.execute_reply.started": "2023-07-30T14:36:57.790756Z",
          "shell.execute_reply": "2023-07-30T14:36:58.691984Z"
        },
        "trusted": true,
        "id": "A5fj7xaJy-hU",
        "outputId": "02dc4f5f-0ee7-4ce6-cdcc-9529d873a2ad"
      },
      "execution_count": null,
      "outputs": [
        {
          "execution_count": 32,
          "output_type": "execute_result",
          "data": {
            "text/plain": "           user_id     anime_id      rating\ncount  8765945.000  8765945.000  8765945.00\nmean     39805.765     4458.325        3.82\nstd      22891.123     3455.517        1.00\nmin          0.000        2.000        0.50\n25%      19832.000     1502.000        3.00\n50%      40194.000     3753.000        4.00\n75%      59420.000     6719.000        4.50\nmax      79300.000    17364.000        5.00",
            "text/html": "<div>\n<style scoped>\n    .dataframe tbody tr th:only-of-type {\n        vertical-align: middle;\n    }\n\n    .dataframe tbody tr th {\n        vertical-align: top;\n    }\n\n    .dataframe thead th {\n        text-align: right;\n    }\n</style>\n<table border=\"1\" class=\"dataframe\">\n  <thead>\n    <tr style=\"text-align: right;\">\n      <th></th>\n      <th>user_id</th>\n      <th>anime_id</th>\n      <th>rating</th>\n    </tr>\n  </thead>\n  <tbody>\n    <tr>\n      <th>count</th>\n      <td>8765945.000</td>\n      <td>8765945.000</td>\n      <td>8765945.00</td>\n    </tr>\n    <tr>\n      <th>mean</th>\n      <td>39805.765</td>\n      <td>4458.325</td>\n      <td>3.82</td>\n    </tr>\n    <tr>\n      <th>std</th>\n      <td>22891.123</td>\n      <td>3455.517</td>\n      <td>1.00</td>\n    </tr>\n    <tr>\n      <th>min</th>\n      <td>0.000</td>\n      <td>2.000</td>\n      <td>0.50</td>\n    </tr>\n    <tr>\n      <th>25%</th>\n      <td>19832.000</td>\n      <td>1502.000</td>\n      <td>3.00</td>\n    </tr>\n    <tr>\n      <th>50%</th>\n      <td>40194.000</td>\n      <td>3753.000</td>\n      <td>4.00</td>\n    </tr>\n    <tr>\n      <th>75%</th>\n      <td>59420.000</td>\n      <td>6719.000</td>\n      <td>4.50</td>\n    </tr>\n    <tr>\n      <th>max</th>\n      <td>79300.000</td>\n      <td>17364.000</td>\n      <td>5.00</td>\n    </tr>\n  </tbody>\n</table>\n</div>"
          },
          "metadata": {}
        }
      ]
    },
    {
      "cell_type": "code",
      "source": [
        "print('Jumlah user_id: ', len(rating_complete.user_id.unique()))\n",
        "print('Jumlah anime_id: ', len(rating_complete.anime_id.unique()))\n",
        "print('Jumlah data rating: ', len(rating_complete))"
      ],
      "metadata": {
        "execution": {
          "iopub.status.busy": "2023-07-30T14:37:00.990222Z",
          "iopub.execute_input": "2023-07-30T14:37:00.990971Z",
          "iopub.status.idle": "2023-07-30T14:37:01.124744Z",
          "shell.execute_reply.started": "2023-07-30T14:37:00.990933Z",
          "shell.execute_reply": "2023-07-30T14:37:01.123681Z"
        },
        "trusted": true,
        "id": "MoNRudXfy-hU",
        "outputId": "8ea8a350-9f3c-4a05-a88a-df64c0d522a2"
      },
      "execution_count": null,
      "outputs": [
        {
          "name": "stdout",
          "text": "Jumlah user_id:  68199\nJumlah anime_id:  15681\nJumlah data rating:  8765945\n",
          "output_type": "stream"
        }
      ]
    },
    {
      "cell_type": "markdown",
      "source": [
        "### Variabel Anime"
      ],
      "metadata": {
        "id": "m_3o0tXly-hV"
      }
    },
    {
      "cell_type": "code",
      "source": [
        "anime.info()"
      ],
      "metadata": {
        "execution": {
          "iopub.status.busy": "2023-07-30T14:37:03.409365Z",
          "iopub.execute_input": "2023-07-30T14:37:03.409742Z",
          "iopub.status.idle": "2023-07-30T14:37:03.496538Z",
          "shell.execute_reply.started": "2023-07-30T14:37:03.409709Z",
          "shell.execute_reply": "2023-07-30T14:37:03.494790Z"
        },
        "trusted": true,
        "id": "RYPCIdrFy-hW",
        "outputId": "30f17a6b-5840-451b-8066-54a182fc86f4"
      },
      "execution_count": null,
      "outputs": [
        {
          "name": "stdout",
          "text": "<class 'pandas.core.frame.DataFrame'>\nRangeIndex: 16621 entries, 0 to 16620\nData columns (total 17 columns):\n #   Column            Non-Null Count  Dtype \n---  ------            --------------  ----- \n 0   anime_planetid    16621 non-null  int64 \n 1   name              16621 non-null  object\n 2   alternative_name  16621 non-null  object\n 3   rating_score      16621 non-null  object\n 4   number_votes      16621 non-null  object\n 5   tags              16621 non-null  object\n 6   content_warning   16621 non-null  object\n 7   type              16621 non-null  object\n 8   episodes          16621 non-null  object\n 9   finished          16621 non-null  bool  \n 10  duration          16621 non-null  object\n 11  startyear         16621 non-null  object\n 12  endyear           16621 non-null  object\n 13  season            16621 non-null  object\n 14  studios           16621 non-null  object\n 15  synopsis          16615 non-null  object\n 16  url               16621 non-null  object\ndtypes: bool(1), int64(1), object(15)\nmemory usage: 2.0+ MB\n",
          "output_type": "stream"
        }
      ]
    },
    {
      "cell_type": "code",
      "source": [
        "print('Jumlah anime: ', len(anime.anime_planetid.unique()))\n",
        "print('Jumlah tags: ', len(anime.tags.unique()))"
      ],
      "metadata": {
        "execution": {
          "iopub.status.busy": "2023-07-30T15:32:23.496029Z",
          "iopub.execute_input": "2023-07-30T15:32:23.496435Z",
          "iopub.status.idle": "2023-07-30T15:32:23.508564Z",
          "shell.execute_reply.started": "2023-07-30T15:32:23.496402Z",
          "shell.execute_reply": "2023-07-30T15:32:23.507345Z"
        },
        "trusted": true,
        "id": "axrOOp0ly-hY",
        "outputId": "38987f80-ff64-458e-a7b9-4a58811e765c"
      },
      "execution_count": null,
      "outputs": [
        {
          "name": "stdout",
          "text": "Jumlah anime:  16621\nJumlah tags:  10782\n",
          "output_type": "stream"
        }
      ]
    },
    {
      "cell_type": "markdown",
      "source": [
        "## Data Preparation"
      ],
      "metadata": {
        "id": "j30Q4LIfy-hY"
      }
    },
    {
      "cell_type": "markdown",
      "source": [
        "Seleksi fitur"
      ],
      "metadata": {
        "id": "BOywOniF_G60"
      }
    },
    {
      "cell_type": "code",
      "source": [
        "anime_data = anime[['anime_planetid', 'name', 'rating_score', 'tags']]"
      ],
      "metadata": {
        "execution": {
          "iopub.status.busy": "2023-07-30T14:37:06.749497Z",
          "iopub.execute_input": "2023-07-30T14:37:06.750431Z",
          "iopub.status.idle": "2023-07-30T14:37:06.757982Z",
          "shell.execute_reply.started": "2023-07-30T14:37:06.750392Z",
          "shell.execute_reply": "2023-07-30T14:37:06.756593Z"
        },
        "trusted": true,
        "id": "E2tS5lWNy-hZ"
      },
      "execution_count": null,
      "outputs": []
    },
    {
      "cell_type": "code",
      "source": [
        "anime_data.info()"
      ],
      "metadata": {
        "execution": {
          "iopub.status.busy": "2023-07-30T14:37:11.381517Z",
          "iopub.execute_input": "2023-07-30T14:37:11.381943Z",
          "iopub.status.idle": "2023-07-30T14:37:11.410367Z",
          "shell.execute_reply.started": "2023-07-30T14:37:11.381909Z",
          "shell.execute_reply": "2023-07-30T14:37:11.409073Z"
        },
        "trusted": true,
        "id": "0mpa-0iVy-hZ",
        "outputId": "ae0086e3-a21d-45bf-f707-c3e36ecc3382"
      },
      "execution_count": null,
      "outputs": [
        {
          "name": "stdout",
          "text": "<class 'pandas.core.frame.DataFrame'>\nRangeIndex: 16621 entries, 0 to 16620\nData columns (total 4 columns):\n #   Column          Non-Null Count  Dtype \n---  ------          --------------  ----- \n 0   anime_planetid  16621 non-null  int64 \n 1   name            16621 non-null  object\n 2   rating_score    16621 non-null  object\n 3   tags            16621 non-null  object\ndtypes: int64(1), object(3)\nmemory usage: 519.5+ KB\n",
          "output_type": "stream"
        }
      ]
    },
    {
      "cell_type": "markdown",
      "source": [
        "Seleksi fitur ke variabel baru"
      ],
      "metadata": {
        "id": "Yz5VbSKK_KRX"
      }
    },
    {
      "cell_type": "code",
      "source": [
        "animelist_data = animelist.iloc[:,:3]"
      ],
      "metadata": {
        "execution": {
          "iopub.status.busy": "2023-07-30T14:37:16.861123Z",
          "iopub.execute_input": "2023-07-30T14:37:16.861506Z",
          "iopub.status.idle": "2023-07-30T14:37:17.043192Z",
          "shell.execute_reply.started": "2023-07-30T14:37:16.861470Z",
          "shell.execute_reply": "2023-07-30T14:37:17.041976Z"
        },
        "trusted": true,
        "id": "cQcSKPqyy-hZ"
      },
      "execution_count": null,
      "outputs": []
    },
    {
      "cell_type": "code",
      "source": [
        "animelist_data.info()"
      ],
      "metadata": {
        "execution": {
          "iopub.status.busy": "2023-07-30T14:37:25.650437Z",
          "iopub.execute_input": "2023-07-30T14:37:25.650858Z",
          "iopub.status.idle": "2023-07-30T14:37:25.662827Z",
          "shell.execute_reply.started": "2023-07-30T14:37:25.650825Z",
          "shell.execute_reply": "2023-07-30T14:37:25.661667Z"
        },
        "trusted": true,
        "id": "NIcpYWEEy-hZ",
        "outputId": "53c7c7bb-5d41-43a2-b090-edf0895457e9"
      },
      "execution_count": null,
      "outputs": [
        {
          "name": "stdout",
          "text": "<class 'pandas.core.frame.DataFrame'>\nRangeIndex: 20842201 entries, 0 to 20842200\nData columns (total 3 columns):\n #   Column    Dtype  \n---  ------    -----  \n 0   user_id   int64  \n 1   anime_id  int64  \n 2   rating    float64\ndtypes: float64(1), int64(2)\nmemory usage: 477.0 MB\n",
          "output_type": "stream"
        }
      ]
    },
    {
      "cell_type": "markdown",
      "source": [
        "Menggabungkan Fitur"
      ],
      "metadata": {
        "id": "JRQayCgd_SYX"
      }
    },
    {
      "cell_type": "code",
      "source": [
        "anime_complete = pd.merge(anime_data, animelist_data, left_on='anime_planetid', right_on='anime_id').drop(columns='anime_planetid')\n",
        "\n",
        "\n",
        "first_column = anime_complete.pop('anime_id')\n",
        "\n",
        "anime_complete.insert(0, 'anime_id', first_column)"
      ],
      "metadata": {
        "execution": {
          "iopub.status.busy": "2023-07-30T14:37:29.129581Z",
          "iopub.execute_input": "2023-07-30T14:37:29.130112Z",
          "iopub.status.idle": "2023-07-30T14:37:34.708414Z",
          "shell.execute_reply.started": "2023-07-30T14:37:29.130064Z",
          "shell.execute_reply": "2023-07-30T14:37:34.707294Z"
        },
        "trusted": true,
        "id": "FJoSMsXZy-ha"
      },
      "execution_count": null,
      "outputs": []
    },
    {
      "cell_type": "code",
      "source": [
        "anime_complete.head()"
      ],
      "metadata": {
        "execution": {
          "iopub.status.busy": "2023-07-30T14:37:34.710909Z",
          "iopub.execute_input": "2023-07-30T14:37:34.711373Z",
          "iopub.status.idle": "2023-07-30T14:37:34.725120Z",
          "shell.execute_reply.started": "2023-07-30T14:37:34.711332Z",
          "shell.execute_reply": "2023-07-30T14:37:34.724065Z"
        },
        "trusted": true,
        "id": "esbPYa-My-ha",
        "outputId": "1a810041-dd54-4ec6-dae9-ade6a00f6518"
      },
      "execution_count": null,
      "outputs": [
        {
          "execution_count": 41,
          "output_type": "execute_result",
          "data": {
            "text/plain": "   anime_id                  name rating_score  \\\n0        10  The Prince of Tennis        4.037   \n1        10  The Prince of Tennis        4.037   \n2        10  The Prince of Tennis        4.037   \n3        10  The Prince of Tennis        4.037   \n4        10  The Prince of Tennis        4.037   \n\n                                                tags  user_id  rating  \n0  Comedy, Drama, Shounen, Sports, Tennis, Based ...        7     0.0  \n1  Comedy, Drama, Shounen, Sports, Tennis, Based ...        8     3.5  \n2  Comedy, Drama, Shounen, Sports, Tennis, Based ...       22     0.0  \n3  Comedy, Drama, Shounen, Sports, Tennis, Based ...       34     4.0  \n4  Comedy, Drama, Shounen, Sports, Tennis, Based ...       37     3.0  ",
            "text/html": "<div>\n<style scoped>\n    .dataframe tbody tr th:only-of-type {\n        vertical-align: middle;\n    }\n\n    .dataframe tbody tr th {\n        vertical-align: top;\n    }\n\n    .dataframe thead th {\n        text-align: right;\n    }\n</style>\n<table border=\"1\" class=\"dataframe\">\n  <thead>\n    <tr style=\"text-align: right;\">\n      <th></th>\n      <th>anime_id</th>\n      <th>name</th>\n      <th>rating_score</th>\n      <th>tags</th>\n      <th>user_id</th>\n      <th>rating</th>\n    </tr>\n  </thead>\n  <tbody>\n    <tr>\n      <th>0</th>\n      <td>10</td>\n      <td>The Prince of Tennis</td>\n      <td>4.037</td>\n      <td>Comedy, Drama, Shounen, Sports, Tennis, Based ...</td>\n      <td>7</td>\n      <td>0.0</td>\n    </tr>\n    <tr>\n      <th>1</th>\n      <td>10</td>\n      <td>The Prince of Tennis</td>\n      <td>4.037</td>\n      <td>Comedy, Drama, Shounen, Sports, Tennis, Based ...</td>\n      <td>8</td>\n      <td>3.5</td>\n    </tr>\n    <tr>\n      <th>2</th>\n      <td>10</td>\n      <td>The Prince of Tennis</td>\n      <td>4.037</td>\n      <td>Comedy, Drama, Shounen, Sports, Tennis, Based ...</td>\n      <td>22</td>\n      <td>0.0</td>\n    </tr>\n    <tr>\n      <th>3</th>\n      <td>10</td>\n      <td>The Prince of Tennis</td>\n      <td>4.037</td>\n      <td>Comedy, Drama, Shounen, Sports, Tennis, Based ...</td>\n      <td>34</td>\n      <td>4.0</td>\n    </tr>\n    <tr>\n      <th>4</th>\n      <td>10</td>\n      <td>The Prince of Tennis</td>\n      <td>4.037</td>\n      <td>Comedy, Drama, Shounen, Sports, Tennis, Based ...</td>\n      <td>37</td>\n      <td>3.0</td>\n    </tr>\n  </tbody>\n</table>\n</div>"
          },
          "metadata": {}
        }
      ]
    },
    {
      "cell_type": "code",
      "source": [
        "anime_complete.info()"
      ],
      "metadata": {
        "execution": {
          "iopub.status.busy": "2023-07-30T14:37:37.489499Z",
          "iopub.execute_input": "2023-07-30T14:37:37.490504Z",
          "iopub.status.idle": "2023-07-30T14:37:37.503301Z",
          "shell.execute_reply.started": "2023-07-30T14:37:37.490453Z",
          "shell.execute_reply": "2023-07-30T14:37:37.502108Z"
        },
        "trusted": true,
        "id": "2HRqtiCxy-ha",
        "outputId": "f49bb324-bc51-4799-e887-98ec96680a15"
      },
      "execution_count": null,
      "outputs": [
        {
          "name": "stdout",
          "text": "<class 'pandas.core.frame.DataFrame'>\nInt64Index: 20840693 entries, 0 to 20840692\nData columns (total 6 columns):\n #   Column        Dtype  \n---  ------        -----  \n 0   anime_id      int64  \n 1   name          object \n 2   rating_score  object \n 3   tags          object \n 4   user_id       int64  \n 5   rating        float64\ndtypes: float64(1), int64(2), object(3)\nmemory usage: 1.1+ GB\n",
          "output_type": "stream"
        }
      ]
    },
    {
      "cell_type": "markdown",
      "source": [
        "Cek missing value"
      ],
      "metadata": {
        "id": "r4ku8cFd_V8z"
      }
    },
    {
      "cell_type": "code",
      "source": [
        "anime_complete.isna().sum()"
      ],
      "metadata": {
        "execution": {
          "iopub.status.busy": "2023-07-30T14:37:39.389850Z",
          "iopub.execute_input": "2023-07-30T14:37:39.390472Z",
          "iopub.status.idle": "2023-07-30T14:37:57.270989Z",
          "shell.execute_reply.started": "2023-07-30T14:37:39.390428Z",
          "shell.execute_reply": "2023-07-30T14:37:57.269766Z"
        },
        "trusted": true,
        "id": "uKQahT_2y-hb",
        "outputId": "7d86ad8f-1d2b-4cf4-d8ea-243a989d8826"
      },
      "execution_count": null,
      "outputs": [
        {
          "execution_count": 43,
          "output_type": "execute_result",
          "data": {
            "text/plain": "anime_id        0\nname            0\nrating_score    0\ntags            0\nuser_id         0\nrating          0\ndtype: int64"
          },
          "metadata": {}
        }
      ]
    },
    {
      "cell_type": "markdown",
      "source": [
        "Copy nilai ke variabel baru"
      ],
      "metadata": {
        "id": "LQiORd4J_ddP"
      }
    },
    {
      "cell_type": "code",
      "source": [
        "anime_features = anime_complete.copy()\n",
        "anime_features.head()"
      ],
      "metadata": {
        "execution": {
          "iopub.status.busy": "2023-07-30T14:38:29.885664Z",
          "iopub.execute_input": "2023-07-30T14:38:29.887131Z",
          "iopub.status.idle": "2023-07-30T14:38:31.102703Z",
          "shell.execute_reply.started": "2023-07-30T14:38:29.887090Z",
          "shell.execute_reply": "2023-07-30T14:38:31.101599Z"
        },
        "trusted": true,
        "id": "EpKXBOrKy-hb",
        "outputId": "a5d7e97c-f1da-4eaa-f8a5-dc3252bf9c86"
      },
      "execution_count": null,
      "outputs": [
        {
          "execution_count": 45,
          "output_type": "execute_result",
          "data": {
            "text/plain": "   anime_id                  name rating_score  \\\n0        10  The Prince of Tennis        4.037   \n1        10  The Prince of Tennis        4.037   \n2        10  The Prince of Tennis        4.037   \n3        10  The Prince of Tennis        4.037   \n4        10  The Prince of Tennis        4.037   \n\n                                                tags  user_id  rating  \n0  Comedy, Drama, Shounen, Sports, Tennis, Based ...        7     0.0  \n1  Comedy, Drama, Shounen, Sports, Tennis, Based ...        8     3.5  \n2  Comedy, Drama, Shounen, Sports, Tennis, Based ...       22     0.0  \n3  Comedy, Drama, Shounen, Sports, Tennis, Based ...       34     4.0  \n4  Comedy, Drama, Shounen, Sports, Tennis, Based ...       37     3.0  ",
            "text/html": "<div>\n<style scoped>\n    .dataframe tbody tr th:only-of-type {\n        vertical-align: middle;\n    }\n\n    .dataframe tbody tr th {\n        vertical-align: top;\n    }\n\n    .dataframe thead th {\n        text-align: right;\n    }\n</style>\n<table border=\"1\" class=\"dataframe\">\n  <thead>\n    <tr style=\"text-align: right;\">\n      <th></th>\n      <th>anime_id</th>\n      <th>name</th>\n      <th>rating_score</th>\n      <th>tags</th>\n      <th>user_id</th>\n      <th>rating</th>\n    </tr>\n  </thead>\n  <tbody>\n    <tr>\n      <th>0</th>\n      <td>10</td>\n      <td>The Prince of Tennis</td>\n      <td>4.037</td>\n      <td>Comedy, Drama, Shounen, Sports, Tennis, Based ...</td>\n      <td>7</td>\n      <td>0.0</td>\n    </tr>\n    <tr>\n      <th>1</th>\n      <td>10</td>\n      <td>The Prince of Tennis</td>\n      <td>4.037</td>\n      <td>Comedy, Drama, Shounen, Sports, Tennis, Based ...</td>\n      <td>8</td>\n      <td>3.5</td>\n    </tr>\n    <tr>\n      <th>2</th>\n      <td>10</td>\n      <td>The Prince of Tennis</td>\n      <td>4.037</td>\n      <td>Comedy, Drama, Shounen, Sports, Tennis, Based ...</td>\n      <td>22</td>\n      <td>0.0</td>\n    </tr>\n    <tr>\n      <th>3</th>\n      <td>10</td>\n      <td>The Prince of Tennis</td>\n      <td>4.037</td>\n      <td>Comedy, Drama, Shounen, Sports, Tennis, Based ...</td>\n      <td>34</td>\n      <td>4.0</td>\n    </tr>\n    <tr>\n      <th>4</th>\n      <td>10</td>\n      <td>The Prince of Tennis</td>\n      <td>4.037</td>\n      <td>Comedy, Drama, Shounen, Sports, Tennis, Based ...</td>\n      <td>37</td>\n      <td>3.0</td>\n    </tr>\n  </tbody>\n</table>\n</div>"
          },
          "metadata": {}
        }
      ]
    },
    {
      "cell_type": "markdown",
      "source": [
        "Bersihkan teks"
      ],
      "metadata": {
        "id": "S0upYErk_hwd"
      }
    },
    {
      "cell_type": "code",
      "source": [
        "def text_cleaning(text):\n",
        "    text = re.sub(r'&quot;', '', text)\n",
        "    text = re.sub(r'.hack//', '', text)\n",
        "    text = re.sub(r'&#039;', '', text)\n",
        "    text = re.sub(r'A&#039;s', '', text)\n",
        "    text = re.sub(r'I&#039;', 'I\\'', text)\n",
        "    text = re.sub(r'&amp;', 'and', text)\n",
        "\n",
        "    return text"
      ],
      "metadata": {
        "execution": {
          "iopub.status.busy": "2023-07-30T14:38:40.937986Z",
          "iopub.execute_input": "2023-07-30T14:38:40.938352Z",
          "iopub.status.idle": "2023-07-30T14:38:40.944722Z",
          "shell.execute_reply.started": "2023-07-30T14:38:40.938320Z",
          "shell.execute_reply": "2023-07-30T14:38:40.943593Z"
        },
        "trusted": true,
        "id": "3hIX7Y4my-hc"
      },
      "execution_count": null,
      "outputs": []
    },
    {
      "cell_type": "markdown",
      "source": [
        "Terapkan pembersihan teks"
      ],
      "metadata": {
        "id": "x1rppNDV_mBK"
      }
    },
    {
      "cell_type": "code",
      "source": [
        "anime_features['name'] = anime_features['name'].apply(text_cleaning)"
      ],
      "metadata": {
        "execution": {
          "iopub.status.busy": "2023-07-30T14:38:42.369066Z",
          "iopub.execute_input": "2023-07-30T14:38:42.369448Z",
          "iopub.status.idle": "2023-07-30T14:41:40.496192Z",
          "shell.execute_reply.started": "2023-07-30T14:38:42.369414Z",
          "shell.execute_reply": "2023-07-30T14:41:40.495024Z"
        },
        "trusted": true,
        "id": "CVgqeRT6y-hc"
      },
      "execution_count": null,
      "outputs": []
    },
    {
      "cell_type": "code",
      "source": [
        "anime_features"
      ],
      "metadata": {
        "execution": {
          "iopub.status.busy": "2023-07-30T14:41:40.498182Z",
          "iopub.execute_input": "2023-07-30T14:41:40.498604Z",
          "iopub.status.idle": "2023-07-30T14:41:40.517138Z",
          "shell.execute_reply.started": "2023-07-30T14:41:40.498570Z",
          "shell.execute_reply": "2023-07-30T14:41:40.516004Z"
        },
        "trusted": true,
        "id": "M0T72SIvy-hc",
        "outputId": "1f802d81-bfcd-4e26-de90-500416212f99"
      },
      "execution_count": null,
      "outputs": [
        {
          "execution_count": 50,
          "output_type": "execute_result",
          "data": {
            "text/plain": "          anime_id                                           name  \\\n0               10                           The Prince of Tennis   \n1               10                           The Prince of Tennis   \n2               10                           The Prince of Tennis   \n3               10                           The Prince of Tennis   \n4               10                           The Prince of Tennis   \n...            ...                                            ...   \n20840688      9999  Drive Agent Personal: Shiawase wo Mamoru Mono   \n20840689      9999  Drive Agent Personal: Shiawase wo Mamoru Mono   \n20840690      9999  Drive Agent Personal: Shiawase wo Mamoru Mono   \n20840691      9999  Drive Agent Personal: Shiawase wo Mamoru Mono   \n20840692      9999  Drive Agent Personal: Shiawase wo Mamoru Mono   \n\n         rating_score                                               tags  \\\n0               4.037  Comedy, Drama, Shounen, Sports, Tennis, Based ...   \n1               4.037  Comedy, Drama, Shounen, Sports, Tennis, Based ...   \n2               4.037  Comedy, Drama, Shounen, Sports, Tennis, Based ...   \n3               4.037  Comedy, Drama, Shounen, Sports, Tennis, Based ...   \n4               4.037  Comedy, Drama, Shounen, Sports, Tennis, Based ...   \n...               ...                                                ...   \n20840688        2.462                                 Drama, Promotional   \n20840689        2.462                                 Drama, Promotional   \n20840690        2.462                                 Drama, Promotional   \n20840691        2.462                                 Drama, Promotional   \n20840692        2.462                                 Drama, Promotional   \n\n          user_id  rating  \n0               7     0.0  \n1               8     3.5  \n2              22     0.0  \n3              34     4.0  \n4              37     3.0  \n...           ...     ...  \n20840688    70500     0.0  \n20840689    70660     0.0  \n20840690    73216     3.0  \n20840691    74265     1.0  \n20840692    78054     0.0  \n\n[20840693 rows x 6 columns]",
            "text/html": "<div>\n<style scoped>\n    .dataframe tbody tr th:only-of-type {\n        vertical-align: middle;\n    }\n\n    .dataframe tbody tr th {\n        vertical-align: top;\n    }\n\n    .dataframe thead th {\n        text-align: right;\n    }\n</style>\n<table border=\"1\" class=\"dataframe\">\n  <thead>\n    <tr style=\"text-align: right;\">\n      <th></th>\n      <th>anime_id</th>\n      <th>name</th>\n      <th>rating_score</th>\n      <th>tags</th>\n      <th>user_id</th>\n      <th>rating</th>\n    </tr>\n  </thead>\n  <tbody>\n    <tr>\n      <th>0</th>\n      <td>10</td>\n      <td>The Prince of Tennis</td>\n      <td>4.037</td>\n      <td>Comedy, Drama, Shounen, Sports, Tennis, Based ...</td>\n      <td>7</td>\n      <td>0.0</td>\n    </tr>\n    <tr>\n      <th>1</th>\n      <td>10</td>\n      <td>The Prince of Tennis</td>\n      <td>4.037</td>\n      <td>Comedy, Drama, Shounen, Sports, Tennis, Based ...</td>\n      <td>8</td>\n      <td>3.5</td>\n    </tr>\n    <tr>\n      <th>2</th>\n      <td>10</td>\n      <td>The Prince of Tennis</td>\n      <td>4.037</td>\n      <td>Comedy, Drama, Shounen, Sports, Tennis, Based ...</td>\n      <td>22</td>\n      <td>0.0</td>\n    </tr>\n    <tr>\n      <th>3</th>\n      <td>10</td>\n      <td>The Prince of Tennis</td>\n      <td>4.037</td>\n      <td>Comedy, Drama, Shounen, Sports, Tennis, Based ...</td>\n      <td>34</td>\n      <td>4.0</td>\n    </tr>\n    <tr>\n      <th>4</th>\n      <td>10</td>\n      <td>The Prince of Tennis</td>\n      <td>4.037</td>\n      <td>Comedy, Drama, Shounen, Sports, Tennis, Based ...</td>\n      <td>37</td>\n      <td>3.0</td>\n    </tr>\n    <tr>\n      <th>...</th>\n      <td>...</td>\n      <td>...</td>\n      <td>...</td>\n      <td>...</td>\n      <td>...</td>\n      <td>...</td>\n    </tr>\n    <tr>\n      <th>20840688</th>\n      <td>9999</td>\n      <td>Drive Agent Personal: Shiawase wo Mamoru Mono</td>\n      <td>2.462</td>\n      <td>Drama, Promotional</td>\n      <td>70500</td>\n      <td>0.0</td>\n    </tr>\n    <tr>\n      <th>20840689</th>\n      <td>9999</td>\n      <td>Drive Agent Personal: Shiawase wo Mamoru Mono</td>\n      <td>2.462</td>\n      <td>Drama, Promotional</td>\n      <td>70660</td>\n      <td>0.0</td>\n    </tr>\n    <tr>\n      <th>20840690</th>\n      <td>9999</td>\n      <td>Drive Agent Personal: Shiawase wo Mamoru Mono</td>\n      <td>2.462</td>\n      <td>Drama, Promotional</td>\n      <td>73216</td>\n      <td>3.0</td>\n    </tr>\n    <tr>\n      <th>20840691</th>\n      <td>9999</td>\n      <td>Drive Agent Personal: Shiawase wo Mamoru Mono</td>\n      <td>2.462</td>\n      <td>Drama, Promotional</td>\n      <td>74265</td>\n      <td>1.0</td>\n    </tr>\n    <tr>\n      <th>20840692</th>\n      <td>9999</td>\n      <td>Drive Agent Personal: Shiawase wo Mamoru Mono</td>\n      <td>2.462</td>\n      <td>Drama, Promotional</td>\n      <td>78054</td>\n      <td>0.0</td>\n    </tr>\n  </tbody>\n</table>\n<p>20840693 rows × 6 columns</p>\n</div>"
          },
          "metadata": {}
        }
      ]
    },
    {
      "cell_type": "markdown",
      "source": [
        "Cek missing value"
      ],
      "metadata": {
        "id": "jdwgqkmd_o9T"
      }
    },
    {
      "cell_type": "code",
      "source": [
        "anime_features.isnull().sum()"
      ],
      "metadata": {
        "execution": {
          "iopub.status.busy": "2023-07-30T14:41:50.425524Z",
          "iopub.execute_input": "2023-07-30T14:41:50.426679Z",
          "iopub.status.idle": "2023-07-30T14:42:09.367628Z",
          "shell.execute_reply.started": "2023-07-30T14:41:50.426637Z",
          "shell.execute_reply": "2023-07-30T14:42:09.366579Z"
        },
        "trusted": true,
        "id": "KK8Qg_8-y-hc",
        "outputId": "f02385a9-9b46-4972-b43c-7ece02212c11"
      },
      "execution_count": null,
      "outputs": [
        {
          "execution_count": 51,
          "output_type": "execute_result",
          "data": {
            "text/plain": "anime_id        0\nname            0\nrating_score    0\ntags            0\nuser_id         0\nrating          0\ndtype: int64"
          },
          "metadata": {}
        }
      ]
    },
    {
      "cell_type": "markdown",
      "source": [
        "Membuat variabel preparation yang berisi dataframe anime_features kemudian mengurutkan berdasarkan anime_id"
      ],
      "metadata": {
        "id": "KnMdFwZg_tZS"
      }
    },
    {
      "cell_type": "code",
      "source": [
        "preparation = anime_features\n",
        "preparation.sort_values('anime_id', ascending=True)"
      ],
      "metadata": {
        "execution": {
          "iopub.status.busy": "2023-07-30T14:42:26.549228Z",
          "iopub.execute_input": "2023-07-30T14:42:26.549637Z",
          "iopub.status.idle": "2023-07-30T14:42:28.889215Z",
          "shell.execute_reply.started": "2023-07-30T14:42:26.549604Z",
          "shell.execute_reply": "2023-07-30T14:42:28.888245Z"
        },
        "trusted": true,
        "id": "JRZMtVgYy-hd",
        "outputId": "1fc96b11-f508-4e5c-de35-508a0485c7c6"
      },
      "execution_count": null,
      "outputs": [
        {
          "execution_count": 53,
          "output_type": "execute_result",
          "data": {
            "text/plain": "         anime_id               name rating_score  \\\n5682756         2           Vandread        3.836   \n5681821         2           Vandread        3.836   \n5681822         2           Vandread        3.836   \n5681823         2           Vandread        3.836   \n5681824         2           Vandread        3.836   \n...           ...                ...          ...   \n4959772     17231  Allegseuui Moheom      Unknown   \n4959773     17231  Allegseuui Moheom      Unknown   \n4959774     17231  Allegseuui Moheom      Unknown   \n4959775     17231  Allegseuui Moheom      Unknown   \n4959769     17231  Allegseuui Moheom      Unknown   \n\n                                                      tags  user_id  rating  \n5682756  Comedy, Mecha, Sci Fi, Outer Space, Original Work    64775     3.0  \n5681821  Comedy, Mecha, Sci Fi, Outer Space, Original Work    50851     4.0  \n5681822  Comedy, Mecha, Sci Fi, Outer Space, Original Work    50852     2.0  \n5681823  Comedy, Mecha, Sci Fi, Outer Space, Original Work    50854     3.5  \n5681824  Comedy, Mecha, Sci Fi, Outer Space, Original Work    50856     5.0  \n...                                                    ...      ...     ...  \n4959772         Fantasy, Family Friendly, Korean Animation    51418     0.0  \n4959773         Fantasy, Family Friendly, Korean Animation    52542     0.0  \n4959774         Fantasy, Family Friendly, Korean Animation    56411     0.0  \n4959775         Fantasy, Family Friendly, Korean Animation    70500     0.0  \n4959769         Fantasy, Family Friendly, Korean Animation    40329     0.0  \n\n[20840693 rows x 6 columns]",
            "text/html": "<div>\n<style scoped>\n    .dataframe tbody tr th:only-of-type {\n        vertical-align: middle;\n    }\n\n    .dataframe tbody tr th {\n        vertical-align: top;\n    }\n\n    .dataframe thead th {\n        text-align: right;\n    }\n</style>\n<table border=\"1\" class=\"dataframe\">\n  <thead>\n    <tr style=\"text-align: right;\">\n      <th></th>\n      <th>anime_id</th>\n      <th>name</th>\n      <th>rating_score</th>\n      <th>tags</th>\n      <th>user_id</th>\n      <th>rating</th>\n    </tr>\n  </thead>\n  <tbody>\n    <tr>\n      <th>5682756</th>\n      <td>2</td>\n      <td>Vandread</td>\n      <td>3.836</td>\n      <td>Comedy, Mecha, Sci Fi, Outer Space, Original Work</td>\n      <td>64775</td>\n      <td>3.0</td>\n    </tr>\n    <tr>\n      <th>5681821</th>\n      <td>2</td>\n      <td>Vandread</td>\n      <td>3.836</td>\n      <td>Comedy, Mecha, Sci Fi, Outer Space, Original Work</td>\n      <td>50851</td>\n      <td>4.0</td>\n    </tr>\n    <tr>\n      <th>5681822</th>\n      <td>2</td>\n      <td>Vandread</td>\n      <td>3.836</td>\n      <td>Comedy, Mecha, Sci Fi, Outer Space, Original Work</td>\n      <td>50852</td>\n      <td>2.0</td>\n    </tr>\n    <tr>\n      <th>5681823</th>\n      <td>2</td>\n      <td>Vandread</td>\n      <td>3.836</td>\n      <td>Comedy, Mecha, Sci Fi, Outer Space, Original Work</td>\n      <td>50854</td>\n      <td>3.5</td>\n    </tr>\n    <tr>\n      <th>5681824</th>\n      <td>2</td>\n      <td>Vandread</td>\n      <td>3.836</td>\n      <td>Comedy, Mecha, Sci Fi, Outer Space, Original Work</td>\n      <td>50856</td>\n      <td>5.0</td>\n    </tr>\n    <tr>\n      <th>...</th>\n      <td>...</td>\n      <td>...</td>\n      <td>...</td>\n      <td>...</td>\n      <td>...</td>\n      <td>...</td>\n    </tr>\n    <tr>\n      <th>4959772</th>\n      <td>17231</td>\n      <td>Allegseuui Moheom</td>\n      <td>Unknown</td>\n      <td>Fantasy, Family Friendly, Korean Animation</td>\n      <td>51418</td>\n      <td>0.0</td>\n    </tr>\n    <tr>\n      <th>4959773</th>\n      <td>17231</td>\n      <td>Allegseuui Moheom</td>\n      <td>Unknown</td>\n      <td>Fantasy, Family Friendly, Korean Animation</td>\n      <td>52542</td>\n      <td>0.0</td>\n    </tr>\n    <tr>\n      <th>4959774</th>\n      <td>17231</td>\n      <td>Allegseuui Moheom</td>\n      <td>Unknown</td>\n      <td>Fantasy, Family Friendly, Korean Animation</td>\n      <td>56411</td>\n      <td>0.0</td>\n    </tr>\n    <tr>\n      <th>4959775</th>\n      <td>17231</td>\n      <td>Allegseuui Moheom</td>\n      <td>Unknown</td>\n      <td>Fantasy, Family Friendly, Korean Animation</td>\n      <td>70500</td>\n      <td>0.0</td>\n    </tr>\n    <tr>\n      <th>4959769</th>\n      <td>17231</td>\n      <td>Allegseuui Moheom</td>\n      <td>Unknown</td>\n      <td>Fantasy, Family Friendly, Korean Animation</td>\n      <td>40329</td>\n      <td>0.0</td>\n    </tr>\n  </tbody>\n</table>\n<p>20840693 rows × 6 columns</p>\n</div>"
          },
          "metadata": {}
        }
      ]
    },
    {
      "cell_type": "markdown",
      "source": [
        "Membuang data duplikat pada variabel preparation"
      ],
      "metadata": {
        "id": "RP8ivivT_w4B"
      }
    },
    {
      "cell_type": "code",
      "source": [
        "preparation = preparation.drop_duplicates('anime_id')\n",
        "preparation"
      ],
      "metadata": {
        "execution": {
          "iopub.status.busy": "2023-07-30T14:42:30.937612Z",
          "iopub.execute_input": "2023-07-30T14:42:30.938011Z",
          "iopub.status.idle": "2023-07-30T14:42:32.930925Z",
          "shell.execute_reply.started": "2023-07-30T14:42:30.937980Z",
          "shell.execute_reply": "2023-07-30T14:42:32.929545Z"
        },
        "trusted": true,
        "id": "2ohsruBDy-hd",
        "outputId": "e0ebcc79-98d3-4c65-8581-954d78766b50"
      },
      "execution_count": null,
      "outputs": [
        {
          "execution_count": 54,
          "output_type": "execute_result",
          "data": {
            "text/plain": "          anime_id                                           name  \\\n0               10                           The Prince of Tennis   \n7352           100                        Neon Genesis Evangelion   \n32566         1000              Full Metal Panic! The Second Raid   \n42770        10000                 22/7: Shampoo no Nioi ga Shita   \n42936        10001  Oshiri Tantei: Puputto Fumutto Kaiketsu Dance   \n...            ...                                            ...   \n20839914      9995                   Kitsunetsuki: Kedamonodamono   \n20840035      9996                Irodorimidori: Outsider Requiem   \n20840132      9997                                     Kura Sushi   \n20840214      9998                        High School Fleet Movie   \n20840616      9999  Drive Agent Personal: Shiawase wo Mamoru Mono   \n\n         rating_score                                               tags  \\\n0               4.037  Comedy, Drama, Shounen, Sports, Tennis, Based ...   \n7352            4.248  Drama, Mecha, Sci Fi, Conspiracy, Kaijuu, Lone...   \n32566            4.35  Action, Comedy, Mecha, Sci Fi, Shounen, Milita...   \n42770             2.8                   Idols, School Life, CG Animation   \n42936           1.271                                    Family Friendly   \n...               ...                                                ...   \n20839914         2.32                                             Demons   \n20840035        2.277                                       Idols, Music   \n20840132        3.087  Coworkers, Food and Beverage, Promotional, Res...   \n20840214        3.912  Action, Military, Military School, Ocean, Scho...   \n20840616        2.462                                 Drama, Promotional   \n\n          user_id  rating  \n0               7     0.0  \n7352            5     0.0  \n32566           1     3.5  \n42770          68     0.0  \n42936        1635     0.0  \n...           ...     ...  \n20839914     1001     3.0  \n20840035     1635     0.0  \n20840132     1635     0.0  \n20840214      188     0.0  \n20840616      494     0.0  \n\n[16621 rows x 6 columns]",
            "text/html": "<div>\n<style scoped>\n    .dataframe tbody tr th:only-of-type {\n        vertical-align: middle;\n    }\n\n    .dataframe tbody tr th {\n        vertical-align: top;\n    }\n\n    .dataframe thead th {\n        text-align: right;\n    }\n</style>\n<table border=\"1\" class=\"dataframe\">\n  <thead>\n    <tr style=\"text-align: right;\">\n      <th></th>\n      <th>anime_id</th>\n      <th>name</th>\n      <th>rating_score</th>\n      <th>tags</th>\n      <th>user_id</th>\n      <th>rating</th>\n    </tr>\n  </thead>\n  <tbody>\n    <tr>\n      <th>0</th>\n      <td>10</td>\n      <td>The Prince of Tennis</td>\n      <td>4.037</td>\n      <td>Comedy, Drama, Shounen, Sports, Tennis, Based ...</td>\n      <td>7</td>\n      <td>0.0</td>\n    </tr>\n    <tr>\n      <th>7352</th>\n      <td>100</td>\n      <td>Neon Genesis Evangelion</td>\n      <td>4.248</td>\n      <td>Drama, Mecha, Sci Fi, Conspiracy, Kaijuu, Lone...</td>\n      <td>5</td>\n      <td>0.0</td>\n    </tr>\n    <tr>\n      <th>32566</th>\n      <td>1000</td>\n      <td>Full Metal Panic! The Second Raid</td>\n      <td>4.35</td>\n      <td>Action, Comedy, Mecha, Sci Fi, Shounen, Milita...</td>\n      <td>1</td>\n      <td>3.5</td>\n    </tr>\n    <tr>\n      <th>42770</th>\n      <td>10000</td>\n      <td>22/7: Shampoo no Nioi ga Shita</td>\n      <td>2.8</td>\n      <td>Idols, School Life, CG Animation</td>\n      <td>68</td>\n      <td>0.0</td>\n    </tr>\n    <tr>\n      <th>42936</th>\n      <td>10001</td>\n      <td>Oshiri Tantei: Puputto Fumutto Kaiketsu Dance</td>\n      <td>1.271</td>\n      <td>Family Friendly</td>\n      <td>1635</td>\n      <td>0.0</td>\n    </tr>\n    <tr>\n      <th>...</th>\n      <td>...</td>\n      <td>...</td>\n      <td>...</td>\n      <td>...</td>\n      <td>...</td>\n      <td>...</td>\n    </tr>\n    <tr>\n      <th>20839914</th>\n      <td>9995</td>\n      <td>Kitsunetsuki: Kedamonodamono</td>\n      <td>2.32</td>\n      <td>Demons</td>\n      <td>1001</td>\n      <td>3.0</td>\n    </tr>\n    <tr>\n      <th>20840035</th>\n      <td>9996</td>\n      <td>Irodorimidori: Outsider Requiem</td>\n      <td>2.277</td>\n      <td>Idols, Music</td>\n      <td>1635</td>\n      <td>0.0</td>\n    </tr>\n    <tr>\n      <th>20840132</th>\n      <td>9997</td>\n      <td>Kura Sushi</td>\n      <td>3.087</td>\n      <td>Coworkers, Food and Beverage, Promotional, Res...</td>\n      <td>1635</td>\n      <td>0.0</td>\n    </tr>\n    <tr>\n      <th>20840214</th>\n      <td>9998</td>\n      <td>High School Fleet Movie</td>\n      <td>3.912</td>\n      <td>Action, Military, Military School, Ocean, Scho...</td>\n      <td>188</td>\n      <td>0.0</td>\n    </tr>\n    <tr>\n      <th>20840616</th>\n      <td>9999</td>\n      <td>Drive Agent Personal: Shiawase wo Mamoru Mono</td>\n      <td>2.462</td>\n      <td>Drama, Promotional</td>\n      <td>494</td>\n      <td>0.0</td>\n    </tr>\n  </tbody>\n</table>\n<p>16621 rows × 6 columns</p>\n</div>"
          },
          "metadata": {}
        }
      ]
    },
    {
      "cell_type": "code",
      "source": [
        "data = preparation\n",
        "data.sample(5)"
      ],
      "metadata": {
        "execution": {
          "iopub.status.busy": "2023-07-30T14:42:43.555369Z",
          "iopub.execute_input": "2023-07-30T14:42:43.555744Z",
          "iopub.status.idle": "2023-07-30T14:42:43.569573Z",
          "shell.execute_reply.started": "2023-07-30T14:42:43.555712Z",
          "shell.execute_reply": "2023-07-30T14:42:43.568573Z"
        },
        "trusted": true,
        "id": "hIM_uisUy-hf",
        "outputId": "45c3b59d-2d4a-474c-87da-7600570bf8b1"
      },
      "execution_count": null,
      "outputs": [
        {
          "execution_count": 55,
          "output_type": "execute_result",
          "data": {
            "text/plain": "          anime_id                               name rating_score  \\\n4645497      16118          Taisho Otome Otogibanashi      Unknown   \n2990172      13718  Uchitama?! Have you seen my Tama?        3.273   \n7959283       2889                   Crush Gear Turbo        2.795   \n16704637      7184                    Obake no Dokuro        2.283   \n19273367      8649           Uma Musume: Pretty Derby        3.676   \n\n                                                       tags  user_id  rating  \n4645497   Comedy, Romance, Shounen, Slice of Life, Arran...     1240     0.0  \n2990172   Slice of Life, Animal Characteristics, Anthrop...       37     0.0  \n7959283   Action, Comedy, Drama, Family Friendly, Proxy ...       76     0.0  \n16704637  Family Friendly, Shorts, Supernatural, Origina...     1635     0.0  \n19273367  Comedy, Drama, Sports, All-Girls School, Anima...       24     0.0  ",
            "text/html": "<div>\n<style scoped>\n    .dataframe tbody tr th:only-of-type {\n        vertical-align: middle;\n    }\n\n    .dataframe tbody tr th {\n        vertical-align: top;\n    }\n\n    .dataframe thead th {\n        text-align: right;\n    }\n</style>\n<table border=\"1\" class=\"dataframe\">\n  <thead>\n    <tr style=\"text-align: right;\">\n      <th></th>\n      <th>anime_id</th>\n      <th>name</th>\n      <th>rating_score</th>\n      <th>tags</th>\n      <th>user_id</th>\n      <th>rating</th>\n    </tr>\n  </thead>\n  <tbody>\n    <tr>\n      <th>4645497</th>\n      <td>16118</td>\n      <td>Taisho Otome Otogibanashi</td>\n      <td>Unknown</td>\n      <td>Comedy, Romance, Shounen, Slice of Life, Arran...</td>\n      <td>1240</td>\n      <td>0.0</td>\n    </tr>\n    <tr>\n      <th>2990172</th>\n      <td>13718</td>\n      <td>Uchitama?! Have you seen my Tama?</td>\n      <td>3.273</td>\n      <td>Slice of Life, Animal Characteristics, Anthrop...</td>\n      <td>37</td>\n      <td>0.0</td>\n    </tr>\n    <tr>\n      <th>7959283</th>\n      <td>2889</td>\n      <td>Crush Gear Turbo</td>\n      <td>2.795</td>\n      <td>Action, Comedy, Drama, Family Friendly, Proxy ...</td>\n      <td>76</td>\n      <td>0.0</td>\n    </tr>\n    <tr>\n      <th>16704637</th>\n      <td>7184</td>\n      <td>Obake no Dokuro</td>\n      <td>2.283</td>\n      <td>Family Friendly, Shorts, Supernatural, Origina...</td>\n      <td>1635</td>\n      <td>0.0</td>\n    </tr>\n    <tr>\n      <th>19273367</th>\n      <td>8649</td>\n      <td>Uma Musume: Pretty Derby</td>\n      <td>3.676</td>\n      <td>Comedy, Drama, Sports, All-Girls School, Anima...</td>\n      <td>24</td>\n      <td>0.0</td>\n    </tr>\n  </tbody>\n</table>\n</div>"
          },
          "metadata": {}
        }
      ]
    },
    {
      "cell_type": "markdown",
      "source": [
        "### Preparation - Content Based Filtering"
      ],
      "metadata": {
        "id": "CNaBNjjUy-hf"
      }
    },
    {
      "cell_type": "markdown",
      "source": [
        "Replace tanda koma dengan spasi"
      ],
      "metadata": {
        "id": "igSy61iN_0Ne"
      }
    },
    {
      "cell_type": "code",
      "source": [
        "tags_combined = data['tags'].str.replace(',', ' ')\n",
        "tags_combined"
      ],
      "metadata": {
        "execution": {
          "iopub.status.busy": "2023-07-30T14:42:45.189058Z",
          "iopub.execute_input": "2023-07-30T14:42:45.189427Z",
          "iopub.status.idle": "2023-07-30T14:42:45.211201Z",
          "shell.execute_reply.started": "2023-07-30T14:42:45.189395Z",
          "shell.execute_reply": "2023-07-30T14:42:45.209947Z"
        },
        "trusted": true,
        "id": "fYIbKJqLy-hf",
        "outputId": "53c14009-6ec4-4fa3-c09d-1b1816eba84c"
      },
      "execution_count": null,
      "outputs": [
        {
          "execution_count": 56,
          "output_type": "execute_result",
          "data": {
            "text/plain": "0           Comedy  Drama  Shounen  Sports  Tennis  Based ...\n7352        Drama  Mecha  Sci Fi  Conspiracy  Kaijuu  Lone...\n32566       Action  Comedy  Mecha  Sci Fi  Shounen  Milita...\n42770                        Idols  School Life  CG Animation\n42936                                         Family Friendly\n                                  ...                        \n20839914                                               Demons\n20840035                                         Idols  Music\n20840132    Coworkers  Food and Beverage  Promotional  Res...\n20840214    Action  Military  Military School  Ocean  Scho...\n20840616                                   Drama  Promotional\nName: tags, Length: 16621, dtype: object"
          },
          "metadata": {}
        }
      ]
    },
    {
      "cell_type": "markdown",
      "source": [
        "### Preparation - Collaborative Filtering"
      ],
      "metadata": {
        "id": "i0GHpjWUy-hf"
      }
    },
    {
      "cell_type": "markdown",
      "source": [
        "Seleksi fitur"
      ],
      "metadata": {
        "id": "D9_krkT9_4iY"
      }
    },
    {
      "cell_type": "code",
      "source": [
        "data_cbf = data.drop(['rating_score', 'tags'], axis=1)\n",
        "data_cbf"
      ],
      "metadata": {
        "execution": {
          "iopub.status.busy": "2023-07-30T14:44:09.258601Z",
          "iopub.execute_input": "2023-07-30T14:44:09.258980Z",
          "iopub.status.idle": "2023-07-30T14:44:09.277489Z",
          "shell.execute_reply.started": "2023-07-30T14:44:09.258948Z",
          "shell.execute_reply": "2023-07-30T14:44:09.276380Z"
        },
        "trusted": true,
        "id": "Gaw9rjoCy-hf",
        "outputId": "1a8265ba-3a5d-42ca-9f67-c42637af74bf"
      },
      "execution_count": null,
      "outputs": [
        {
          "execution_count": 66,
          "output_type": "execute_result",
          "data": {
            "text/plain": "          anime_id                                           name  user_id  \\\n0               10                           The Prince of Tennis        7   \n7352           100                        Neon Genesis Evangelion        5   \n32566         1000              Full Metal Panic! The Second Raid        1   \n42770        10000                 22/7: Shampoo no Nioi ga Shita       68   \n42936        10001  Oshiri Tantei: Puputto Fumutto Kaiketsu Dance     1635   \n...            ...                                            ...      ...   \n20839914      9995                   Kitsunetsuki: Kedamonodamono     1001   \n20840035      9996                Irodorimidori: Outsider Requiem     1635   \n20840132      9997                                     Kura Sushi     1635   \n20840214      9998                        High School Fleet Movie      188   \n20840616      9999  Drive Agent Personal: Shiawase wo Mamoru Mono      494   \n\n          rating  \n0            0.0  \n7352         0.0  \n32566        3.5  \n42770        0.0  \n42936        0.0  \n...          ...  \n20839914     3.0  \n20840035     0.0  \n20840132     0.0  \n20840214     0.0  \n20840616     0.0  \n\n[16621 rows x 4 columns]",
            "text/html": "<div>\n<style scoped>\n    .dataframe tbody tr th:only-of-type {\n        vertical-align: middle;\n    }\n\n    .dataframe tbody tr th {\n        vertical-align: top;\n    }\n\n    .dataframe thead th {\n        text-align: right;\n    }\n</style>\n<table border=\"1\" class=\"dataframe\">\n  <thead>\n    <tr style=\"text-align: right;\">\n      <th></th>\n      <th>anime_id</th>\n      <th>name</th>\n      <th>user_id</th>\n      <th>rating</th>\n    </tr>\n  </thead>\n  <tbody>\n    <tr>\n      <th>0</th>\n      <td>10</td>\n      <td>The Prince of Tennis</td>\n      <td>7</td>\n      <td>0.0</td>\n    </tr>\n    <tr>\n      <th>7352</th>\n      <td>100</td>\n      <td>Neon Genesis Evangelion</td>\n      <td>5</td>\n      <td>0.0</td>\n    </tr>\n    <tr>\n      <th>32566</th>\n      <td>1000</td>\n      <td>Full Metal Panic! The Second Raid</td>\n      <td>1</td>\n      <td>3.5</td>\n    </tr>\n    <tr>\n      <th>42770</th>\n      <td>10000</td>\n      <td>22/7: Shampoo no Nioi ga Shita</td>\n      <td>68</td>\n      <td>0.0</td>\n    </tr>\n    <tr>\n      <th>42936</th>\n      <td>10001</td>\n      <td>Oshiri Tantei: Puputto Fumutto Kaiketsu Dance</td>\n      <td>1635</td>\n      <td>0.0</td>\n    </tr>\n    <tr>\n      <th>...</th>\n      <td>...</td>\n      <td>...</td>\n      <td>...</td>\n      <td>...</td>\n    </tr>\n    <tr>\n      <th>20839914</th>\n      <td>9995</td>\n      <td>Kitsunetsuki: Kedamonodamono</td>\n      <td>1001</td>\n      <td>3.0</td>\n    </tr>\n    <tr>\n      <th>20840035</th>\n      <td>9996</td>\n      <td>Irodorimidori: Outsider Requiem</td>\n      <td>1635</td>\n      <td>0.0</td>\n    </tr>\n    <tr>\n      <th>20840132</th>\n      <td>9997</td>\n      <td>Kura Sushi</td>\n      <td>1635</td>\n      <td>0.0</td>\n    </tr>\n    <tr>\n      <th>20840214</th>\n      <td>9998</td>\n      <td>High School Fleet Movie</td>\n      <td>188</td>\n      <td>0.0</td>\n    </tr>\n    <tr>\n      <th>20840616</th>\n      <td>9999</td>\n      <td>Drive Agent Personal: Shiawase wo Mamoru Mono</td>\n      <td>494</td>\n      <td>0.0</td>\n    </tr>\n  </tbody>\n</table>\n<p>16621 rows × 4 columns</p>\n</div>"
          },
          "metadata": {}
        }
      ]
    },
    {
      "cell_type": "markdown",
      "source": [
        "Membuat dataframe rating_df yang menyimpan data user jika telah me-rating setidaknya 10 anime"
      ],
      "metadata": {
        "id": "XGMy6J2j_8E4"
      }
    },
    {
      "cell_type": "code",
      "source": [
        "# user harus sudah me-rate minimal 10 anime\n",
        "n_ratings = data_cbf['user_id'].value_counts()\n",
        "rating_df = data_cbf[data_cbf['user_id'].isin(n_ratings[n_ratings >= 10].index)].copy()\n",
        "len(rating_df)"
      ],
      "metadata": {
        "execution": {
          "iopub.status.busy": "2023-07-30T14:44:11.141856Z",
          "iopub.execute_input": "2023-07-30T14:44:11.142218Z",
          "iopub.status.idle": "2023-07-30T14:44:11.154913Z",
          "shell.execute_reply.started": "2023-07-30T14:44:11.142188Z",
          "shell.execute_reply": "2023-07-30T14:44:11.153596Z"
        },
        "trusted": true,
        "id": "rFU3Esxny-hh",
        "outputId": "906e5ab9-3642-47f2-d0f8-3430f1d7883a"
      },
      "execution_count": null,
      "outputs": [
        {
          "execution_count": 67,
          "output_type": "execute_result",
          "data": {
            "text/plain": "15762"
          },
          "metadata": {}
        }
      ]
    },
    {
      "cell_type": "markdown",
      "source": [
        "Scaling BTW (0 , 1.0)"
      ],
      "metadata": {
        "id": "GxwfaPW7AMeM"
      }
    },
    {
      "cell_type": "code",
      "source": [
        "min_rating = min(rating_df['rating'])\n",
        "max_rating = max(rating_df['rating'])\n",
        "rating_df['rating'] = rating_df[\"rating\"].apply(lambda x: (x - min_rating) / (max_rating - min_rating)).values.astype(np.float64)\n",
        "\n",
        "AvgRating = np.mean(rating_df['rating'])\n",
        "print('Avg', AvgRating)"
      ],
      "metadata": {
        "execution": {
          "iopub.status.busy": "2023-07-30T14:44:14.101971Z",
          "iopub.execute_input": "2023-07-30T14:44:14.102694Z",
          "iopub.status.idle": "2023-07-30T14:44:14.126880Z",
          "shell.execute_reply.started": "2023-07-30T14:44:14.102656Z",
          "shell.execute_reply": "2023-07-30T14:44:14.125739Z"
        },
        "trusted": true,
        "id": "-33VvTIwy-hh",
        "outputId": "4cf9999a-187e-4a6c-ae3c-fb042ff6f9cf"
      },
      "execution_count": null,
      "outputs": [
        {
          "name": "stdout",
          "text": "Avg 0.10336568963329529\n",
          "output_type": "stream"
        }
      ]
    },
    {
      "cell_type": "code",
      "source": [
        "duplicates = rating_df.duplicated()\n",
        "\n",
        "if duplicates.sum() > 0:\n",
        "    print('> {} duplicates'.format(duplicates.sum()))\n",
        "    rating_df = rating_df[~duplicates]\n",
        "\n",
        "print('> {} duplicates'.format(rating_df.duplicated().sum()))"
      ],
      "metadata": {
        "execution": {
          "iopub.status.busy": "2023-07-30T14:44:18.457023Z",
          "iopub.execute_input": "2023-07-30T14:44:18.457403Z",
          "iopub.status.idle": "2023-07-30T14:44:18.477160Z",
          "shell.execute_reply.started": "2023-07-30T14:44:18.457372Z",
          "shell.execute_reply": "2023-07-30T14:44:18.476139Z"
        },
        "trusted": true,
        "id": "H9REQ_OYy-hh",
        "outputId": "0c2e3fc3-ffb9-476a-c949-268a350f7665"
      },
      "execution_count": null,
      "outputs": [
        {
          "name": "stdout",
          "text": "> 0 duplicates\n",
          "output_type": "stream"
        }
      ]
    },
    {
      "cell_type": "markdown",
      "source": [
        "Encoding"
      ],
      "metadata": {
        "id": "odWpsGwHAQB1"
      }
    },
    {
      "cell_type": "code",
      "source": [
        "# Mengubah userID menjadi list tanpa nilai yang sama\n",
        "user_ids = rating_df['user_id'].unique().tolist()\n",
        "\n",
        "# Melakukan encoding userID\n",
        "user2user_encoded  = {x: i for i, x in enumerate(user_ids)}\n",
        "\n",
        "# Melakukan proses encoding angka ke ke user_id\n",
        "user_encoded2user = {i: x for i, x in enumerate(user_ids)}\n",
        "rating_df[\"user\"] = rating_df[\"user_id\"].map(user2user_encoded)\n",
        "n_users = len(user2user_encoded)\n",
        "\n",
        "\n",
        "anime_ids = rating_df['anime_id'].unique().tolist()\n",
        "anime2anime_encoded  = {x: i for i, x in enumerate(anime_ids)}\n",
        "\n",
        "# Melakukan proses encoding angka ke anime_ids\n",
        "anime_encoded2anime = {i: x for i, x in enumerate(anime_ids)}\n",
        "\n",
        "rating_df[\"anime\"] = rating_df[\"anime_id\"].map(anime2anime_encoded)\n",
        "n_animes = len(anime2anime_encoded)\n",
        "\n",
        "print(\"Num of users: {}, Num of animes: {}\".format(n_users, n_animes))\n",
        "print(\"Min rating: {}, Max rating: {}\".format(min(rating_df['rating']), max(rating_df['rating'])))"
      ],
      "metadata": {
        "execution": {
          "iopub.status.busy": "2023-07-30T14:44:42.997449Z",
          "iopub.execute_input": "2023-07-30T14:44:42.997895Z",
          "iopub.status.idle": "2023-07-30T14:44:43.037136Z",
          "shell.execute_reply.started": "2023-07-30T14:44:42.997860Z",
          "shell.execute_reply": "2023-07-30T14:44:43.036010Z"
        },
        "trusted": true,
        "id": "LefNhIdQy-hi",
        "outputId": "29ed4121-b6b7-4b93-e859-ba4237023a28"
      },
      "execution_count": null,
      "outputs": [
        {
          "name": "stdout",
          "text": "Num of users: 133, Num of animes: 15762\nMin rating: 0.0, Max rating: 1.0\n",
          "output_type": "stream"
        }
      ]
    },
    {
      "cell_type": "markdown",
      "source": [
        "Split train test data dengan rasio 80:20"
      ],
      "metadata": {
        "id": "8CYTSlEoAT_G"
      }
    },
    {
      "cell_type": "code",
      "source": [
        "rating_df = rating_df.sample(frac=1, random_state=39)\n",
        "\n",
        "# Membuat variabel x untuk mencocokkan data user dan resto menjadi satu value\n",
        "x = rating_df[['user', 'anime']].values\n",
        "\n",
        "# Membuat variabel y untuk membuat rating dari hasil\n",
        "y = rating_df['rating'].values\n",
        "\n",
        "# Membagi menjadi 80% data train dan 20% data validasi\n",
        "train_indices = int(0.8 * rating_df.shape[0])\n",
        "x_train, x_test, y_train, y_test = (\n",
        "      x[:train_indices],\n",
        "      x[train_indices:],\n",
        "      y[:train_indices],\n",
        "      y[train_indices:]\n",
        "  )\n",
        "\n",
        "print('> Train set ratings: {}'.format(len(y_train)))\n",
        "print('> Test set ratings: {}'.format(len(y_test)))"
      ],
      "metadata": {
        "execution": {
          "iopub.status.busy": "2023-07-30T14:44:51.053873Z",
          "iopub.execute_input": "2023-07-30T14:44:51.054256Z",
          "iopub.status.idle": "2023-07-30T14:44:51.069702Z",
          "shell.execute_reply.started": "2023-07-30T14:44:51.054223Z",
          "shell.execute_reply": "2023-07-30T14:44:51.068214Z"
        },
        "trusted": true,
        "id": "61nbUP5-y-hj",
        "outputId": "115ca019-6073-4bf6-c439-6a570717b24c"
      },
      "execution_count": null,
      "outputs": [
        {
          "name": "stdout",
          "text": "> Train set ratings: 12609\n> Test set ratings: 3153\n",
          "output_type": "stream"
        }
      ]
    },
    {
      "cell_type": "markdown",
      "source": [
        "Membuat array untuk train dan test"
      ],
      "metadata": {
        "id": "SbBahD1kAdbx"
      }
    },
    {
      "cell_type": "code",
      "source": [
        "x_train_array = [x_train[:, 0], x_train[:, 1]]\n",
        "x_test_array = [x_test[:, 0], x_test[:, 1]]\n",
        "x_train_array"
      ],
      "metadata": {
        "execution": {
          "iopub.status.busy": "2023-07-30T14:45:01.784250Z",
          "iopub.execute_input": "2023-07-30T14:45:01.784648Z",
          "iopub.status.idle": "2023-07-30T14:45:01.793881Z",
          "shell.execute_reply.started": "2023-07-30T14:45:01.784616Z",
          "shell.execute_reply": "2023-07-30T14:45:01.792788Z"
        },
        "trusted": true,
        "id": "pk5vN8lYy-hj",
        "outputId": "4901c7cb-302a-4cbd-c78c-48a000777af4"
      },
      "execution_count": null,
      "outputs": [
        {
          "execution_count": 73,
          "output_type": "execute_result",
          "data": {
            "text/plain": "[array([ 3, 47, 55, ..., 40,  5, 28]),\n array([ 2702,  4453,  4833, ...,  9169,  3593, 12698])]"
          },
          "metadata": {}
        }
      ]
    },
    {
      "cell_type": "markdown",
      "source": [
        "## Modeling and Result"
      ],
      "metadata": {
        "id": "zJ0eHx-Jy-hk"
      }
    },
    {
      "cell_type": "markdown",
      "source": [
        "### Content Based Filtering - Modelling"
      ],
      "metadata": {
        "id": "0494j5MMy-hk"
      }
    },
    {
      "cell_type": "code",
      "source": [
        "# Inisialisasi TfidfVectorizer\n",
        "tf = TfidfVectorizer()\n",
        "\n",
        "# fit dan transformasi ke dalam bentuk matriks\n",
        "tfidf_matrix = tf.fit_transform(tags_combined)\n",
        "\n",
        "# Mapping array dari fitur index integer ke fitur nama\n",
        "tfidf_matrix.shape"
      ],
      "metadata": {
        "execution": {
          "iopub.status.busy": "2023-07-30T14:42:49.781395Z",
          "iopub.execute_input": "2023-07-30T14:42:49.782051Z",
          "iopub.status.idle": "2023-07-30T14:42:50.058757Z",
          "shell.execute_reply.started": "2023-07-30T14:42:49.782017Z",
          "shell.execute_reply": "2023-07-30T14:42:50.057609Z"
        },
        "trusted": true,
        "id": "x6_cE_ypy-hk",
        "outputId": "4be2798a-0179-4db5-95c9-9ecc2aa0b317"
      },
      "execution_count": null,
      "outputs": [
        {
          "execution_count": 57,
          "output_type": "execute_result",
          "data": {
            "text/plain": "(16621, 616)"
          },
          "metadata": {}
        }
      ]
    },
    {
      "cell_type": "markdown",
      "source": [
        "Mengubah vektor tf-idf dalam bentuk matriks dengan fungsi todense()"
      ],
      "metadata": {
        "id": "aR9e5x-vBZ3-"
      }
    },
    {
      "cell_type": "code",
      "source": [
        "tfidf_matrix.todense()"
      ],
      "metadata": {
        "execution": {
          "iopub.status.busy": "2023-07-30T14:42:51.629226Z",
          "iopub.execute_input": "2023-07-30T14:42:51.629614Z",
          "iopub.status.idle": "2023-07-30T14:42:51.736948Z",
          "shell.execute_reply.started": "2023-07-30T14:42:51.629582Z",
          "shell.execute_reply": "2023-07-30T14:42:51.735758Z"
        },
        "trusted": true,
        "id": "nff5PRO5y-hk",
        "outputId": "3d7005fb-276e-4780-8794-94ccb4f65323"
      },
      "execution_count": null,
      "outputs": [
        {
          "execution_count": 58,
          "output_type": "execute_result",
          "data": {
            "text/plain": "matrix([[0., 0., 0., ..., 0., 0., 0.],\n        [0., 0., 0., ..., 0., 0., 0.],\n        [0., 0., 0., ..., 0., 0., 0.],\n        ...,\n        [0., 0., 0., ..., 0., 0., 0.],\n        [0., 0., 0., ..., 0., 0., 0.],\n        [0., 0., 0., ..., 0., 0., 0.]])"
          },
          "metadata": {}
        }
      ]
    },
    {
      "cell_type": "markdown",
      "source": [
        "Lihat matriks tf-idf"
      ],
      "metadata": {
        "id": "VGH9EoEFBos_"
      }
    },
    {
      "cell_type": "code",
      "source": [
        "pd.DataFrame(\n",
        "    tfidf_matrix.todense(),\n",
        "    columns=tf.get_feature_names_out(),\n",
        "    index=data.name\n",
        ").sample(50, axis=1).sample(10, axis=0)"
      ],
      "metadata": {
        "execution": {
          "iopub.status.busy": "2023-07-30T14:42:52.989865Z",
          "iopub.execute_input": "2023-07-30T14:42:52.990754Z",
          "iopub.status.idle": "2023-07-30T14:42:53.227601Z",
          "shell.execute_reply.started": "2023-07-30T14:42:52.990704Z",
          "shell.execute_reply": "2023-07-30T14:42:53.226576Z"
        },
        "trusted": true,
        "id": "6JG9AbCLy-hl",
        "outputId": "58d12eb1-749a-4807-baa5-736e0816b1b7"
      },
      "execution_count": null,
      "outputs": [
        {
          "execution_count": 59,
          "output_type": "execute_result",
          "data": {
            "text/plain": "                                                    modelling  rivalries  \\\nname                                                                       \nCharlotte                                                 0.0        0.0   \nAloha! Youkai Watch: Rakuen Hawaii de Geragerap...        0.0        0.0   \nMars                                                      0.0        0.0   \nYaiba                                                     0.0        0.0   \nBoyfriend                                                 0.0        0.0   \nSeraph of the End: Battle in Nagoya Specials              0.0        0.0   \nPanpaka Pants Matsuri Movie: Purin Ara, Domo              0.0        0.0   \nItsuka Aeru Kimi ni                                       0.0        0.0   \nIchiban Chikaku ni                                        0.0        0.0   \nTONIKAWA: Over the Moon for You                           0.0        0.0   \n\n                                                    happy  bodyguards  \\\nname                                                                    \nCharlotte                                             0.0         0.0   \nAloha! Youkai Watch: Rakuen Hawaii de Geragerap...    0.0         0.0   \nMars                                                  0.0         0.0   \nYaiba                                                 0.0         0.0   \nBoyfriend                                             0.0         0.0   \nSeraph of the End: Battle in Nagoya Specials          0.0         0.0   \nPanpaka Pants Matsuri Movie: Purin Ara, Domo          0.0         0.0   \nItsuka Aeru Kimi ni                                   0.0         0.0   \nIchiban Chikaku ni                                    0.0         0.0   \nTONIKAWA: Over the Moon for You                       0.0         0.0   \n\n                                                    swimming  age  san  ocean  \\\nname                                                                            \nCharlotte                                                0.0  0.0  0.0    0.0   \nAloha! Youkai Watch: Rakuen Hawaii de Geragerap...       0.0  0.0  0.0    0.0   \nMars                                                     0.0  0.0  0.0    0.0   \nYaiba                                                    0.0  0.0  0.0    0.0   \nBoyfriend                                                0.0  0.0  0.0    0.0   \nSeraph of the End: Battle in Nagoya Specials             0.0  0.0  0.0    0.0   \nPanpaka Pants Matsuri Movie: Purin Ara, Domo             0.0  0.0  0.0    0.0   \nItsuka Aeru Kimi ni                                      0.0  0.0  0.0    0.0   \nIchiban Chikaku ni                                       0.0  0.0  0.0    0.0   \nTONIKAWA: Over the Moon for You                          0.0  0.0  0.0    0.0   \n\n                                                    arranged  short  ...   ga  \\\nname                                                                 ...        \nCharlotte                                                0.0    0.0  ...  0.0   \nAloha! Youkai Watch: Rakuen Hawaii de Geragerap...       0.0    0.0  ...  0.0   \nMars                                                     0.0    0.0  ...  0.0   \nYaiba                                                    0.0    0.0  ...  0.0   \nBoyfriend                                                0.0    0.0  ...  0.0   \nSeraph of the End: Battle in Nagoya Specials             0.0    0.0  ...  0.0   \nPanpaka Pants Matsuri Movie: Purin Ara, Domo             0.0    0.0  ...  0.0   \nItsuka Aeru Kimi ni                                      0.0    0.0  ...  0.0   \nIchiban Chikaku ni                                       0.0    0.0  ...  0.0   \nTONIKAWA: Over the Moon for You                          0.0    0.0  ...  0.0   \n\n                                                    mermaids  bar      pigs  \\\nname                                                                          \nCharlotte                                                0.0  0.0  0.000000   \nAloha! Youkai Watch: Rakuen Hawaii de Geragerap...       0.0  0.0  0.000000   \nMars                                                     0.0  0.0  0.000000   \nYaiba                                                    0.0  0.0  0.000000   \nBoyfriend                                                0.0  0.0  0.000000   \nSeraph of the End: Battle in Nagoya Specials             0.0  0.0  0.000000   \nPanpaka Pants Matsuri Movie: Purin Ara, Domo             0.0  0.0  0.511265   \nItsuka Aeru Kimi ni                                      0.0  0.0  0.000000   \nIchiban Chikaku ni                                       0.0  0.0  0.000000   \nTONIKAWA: Over the Moon for You                          0.0  0.0  0.000000   \n\n                                                    food  contemporary  power  \\\nname                                                                            \nCharlotte                                            0.0           0.0    0.0   \nAloha! Youkai Watch: Rakuen Hawaii de Geragerap...   0.0           0.0    0.0   \nMars                                                 0.0           0.0    0.0   \nYaiba                                                0.0           0.0    0.0   \nBoyfriend                                            0.0           0.0    0.0   \nSeraph of the End: Battle in Nagoya Specials         0.0           0.0    0.0   \nPanpaka Pants Matsuri Movie: Purin Ara, Domo         0.0           0.0    0.0   \nItsuka Aeru Kimi ni                                  0.0           0.0    0.0   \nIchiban Chikaku ni                                   0.0           0.0    0.0   \nTONIKAWA: Over the Moon for You                      0.0           0.0    0.0   \n\n                                                    conspiracy  combat  cheats  \nname                                                                            \nCharlotte                                                  0.0     0.0     0.0  \nAloha! Youkai Watch: Rakuen Hawaii de Geragerap...         0.0     0.0     0.0  \nMars                                                       0.0     0.0     0.0  \nYaiba                                                      0.0     0.0     0.0  \nBoyfriend                                                  0.0     0.0     0.0  \nSeraph of the End: Battle in Nagoya Specials               0.0     0.0     0.0  \nPanpaka Pants Matsuri Movie: Purin Ara, Domo               0.0     0.0     0.0  \nItsuka Aeru Kimi ni                                        0.0     0.0     0.0  \nIchiban Chikaku ni                                         0.0     0.0     0.0  \nTONIKAWA: Over the Moon for You                            0.0     0.0     0.0  \n\n[10 rows x 50 columns]",
            "text/html": "<div>\n<style scoped>\n    .dataframe tbody tr th:only-of-type {\n        vertical-align: middle;\n    }\n\n    .dataframe tbody tr th {\n        vertical-align: top;\n    }\n\n    .dataframe thead th {\n        text-align: right;\n    }\n</style>\n<table border=\"1\" class=\"dataframe\">\n  <thead>\n    <tr style=\"text-align: right;\">\n      <th></th>\n      <th>modelling</th>\n      <th>rivalries</th>\n      <th>happy</th>\n      <th>bodyguards</th>\n      <th>swimming</th>\n      <th>age</th>\n      <th>san</th>\n      <th>ocean</th>\n      <th>arranged</th>\n      <th>short</th>\n      <th>...</th>\n      <th>ga</th>\n      <th>mermaids</th>\n      <th>bar</th>\n      <th>pigs</th>\n      <th>food</th>\n      <th>contemporary</th>\n      <th>power</th>\n      <th>conspiracy</th>\n      <th>combat</th>\n      <th>cheats</th>\n    </tr>\n    <tr>\n      <th>name</th>\n      <th></th>\n      <th></th>\n      <th></th>\n      <th></th>\n      <th></th>\n      <th></th>\n      <th></th>\n      <th></th>\n      <th></th>\n      <th></th>\n      <th></th>\n      <th></th>\n      <th></th>\n      <th></th>\n      <th></th>\n      <th></th>\n      <th></th>\n      <th></th>\n      <th></th>\n      <th></th>\n      <th></th>\n    </tr>\n  </thead>\n  <tbody>\n    <tr>\n      <th>Charlotte</th>\n      <td>0.0</td>\n      <td>0.0</td>\n      <td>0.0</td>\n      <td>0.0</td>\n      <td>0.0</td>\n      <td>0.0</td>\n      <td>0.0</td>\n      <td>0.0</td>\n      <td>0.0</td>\n      <td>0.0</td>\n      <td>...</td>\n      <td>0.0</td>\n      <td>0.0</td>\n      <td>0.0</td>\n      <td>0.000000</td>\n      <td>0.0</td>\n      <td>0.0</td>\n      <td>0.0</td>\n      <td>0.0</td>\n      <td>0.0</td>\n      <td>0.0</td>\n    </tr>\n    <tr>\n      <th>Aloha! Youkai Watch: Rakuen Hawaii de Geragerapou!!</th>\n      <td>0.0</td>\n      <td>0.0</td>\n      <td>0.0</td>\n      <td>0.0</td>\n      <td>0.0</td>\n      <td>0.0</td>\n      <td>0.0</td>\n      <td>0.0</td>\n      <td>0.0</td>\n      <td>0.0</td>\n      <td>...</td>\n      <td>0.0</td>\n      <td>0.0</td>\n      <td>0.0</td>\n      <td>0.000000</td>\n      <td>0.0</td>\n      <td>0.0</td>\n      <td>0.0</td>\n      <td>0.0</td>\n      <td>0.0</td>\n      <td>0.0</td>\n    </tr>\n    <tr>\n      <th>Mars</th>\n      <td>0.0</td>\n      <td>0.0</td>\n      <td>0.0</td>\n      <td>0.0</td>\n      <td>0.0</td>\n      <td>0.0</td>\n      <td>0.0</td>\n      <td>0.0</td>\n      <td>0.0</td>\n      <td>0.0</td>\n      <td>...</td>\n      <td>0.0</td>\n      <td>0.0</td>\n      <td>0.0</td>\n      <td>0.000000</td>\n      <td>0.0</td>\n      <td>0.0</td>\n      <td>0.0</td>\n      <td>0.0</td>\n      <td>0.0</td>\n      <td>0.0</td>\n    </tr>\n    <tr>\n      <th>Yaiba</th>\n      <td>0.0</td>\n      <td>0.0</td>\n      <td>0.0</td>\n      <td>0.0</td>\n      <td>0.0</td>\n      <td>0.0</td>\n      <td>0.0</td>\n      <td>0.0</td>\n      <td>0.0</td>\n      <td>0.0</td>\n      <td>...</td>\n      <td>0.0</td>\n      <td>0.0</td>\n      <td>0.0</td>\n      <td>0.000000</td>\n      <td>0.0</td>\n      <td>0.0</td>\n      <td>0.0</td>\n      <td>0.0</td>\n      <td>0.0</td>\n      <td>0.0</td>\n    </tr>\n    <tr>\n      <th>Boyfriend</th>\n      <td>0.0</td>\n      <td>0.0</td>\n      <td>0.0</td>\n      <td>0.0</td>\n      <td>0.0</td>\n      <td>0.0</td>\n      <td>0.0</td>\n      <td>0.0</td>\n      <td>0.0</td>\n      <td>0.0</td>\n      <td>...</td>\n      <td>0.0</td>\n      <td>0.0</td>\n      <td>0.0</td>\n      <td>0.000000</td>\n      <td>0.0</td>\n      <td>0.0</td>\n      <td>0.0</td>\n      <td>0.0</td>\n      <td>0.0</td>\n      <td>0.0</td>\n    </tr>\n    <tr>\n      <th>Seraph of the End: Battle in Nagoya Specials</th>\n      <td>0.0</td>\n      <td>0.0</td>\n      <td>0.0</td>\n      <td>0.0</td>\n      <td>0.0</td>\n      <td>0.0</td>\n      <td>0.0</td>\n      <td>0.0</td>\n      <td>0.0</td>\n      <td>0.0</td>\n      <td>...</td>\n      <td>0.0</td>\n      <td>0.0</td>\n      <td>0.0</td>\n      <td>0.000000</td>\n      <td>0.0</td>\n      <td>0.0</td>\n      <td>0.0</td>\n      <td>0.0</td>\n      <td>0.0</td>\n      <td>0.0</td>\n    </tr>\n    <tr>\n      <th>Panpaka Pants Matsuri Movie: Purin Ara, Domo</th>\n      <td>0.0</td>\n      <td>0.0</td>\n      <td>0.0</td>\n      <td>0.0</td>\n      <td>0.0</td>\n      <td>0.0</td>\n      <td>0.0</td>\n      <td>0.0</td>\n      <td>0.0</td>\n      <td>0.0</td>\n      <td>...</td>\n      <td>0.0</td>\n      <td>0.0</td>\n      <td>0.0</td>\n      <td>0.511265</td>\n      <td>0.0</td>\n      <td>0.0</td>\n      <td>0.0</td>\n      <td>0.0</td>\n      <td>0.0</td>\n      <td>0.0</td>\n    </tr>\n    <tr>\n      <th>Itsuka Aeru Kimi ni</th>\n      <td>0.0</td>\n      <td>0.0</td>\n      <td>0.0</td>\n      <td>0.0</td>\n      <td>0.0</td>\n      <td>0.0</td>\n      <td>0.0</td>\n      <td>0.0</td>\n      <td>0.0</td>\n      <td>0.0</td>\n      <td>...</td>\n      <td>0.0</td>\n      <td>0.0</td>\n      <td>0.0</td>\n      <td>0.000000</td>\n      <td>0.0</td>\n      <td>0.0</td>\n      <td>0.0</td>\n      <td>0.0</td>\n      <td>0.0</td>\n      <td>0.0</td>\n    </tr>\n    <tr>\n      <th>Ichiban Chikaku ni</th>\n      <td>0.0</td>\n      <td>0.0</td>\n      <td>0.0</td>\n      <td>0.0</td>\n      <td>0.0</td>\n      <td>0.0</td>\n      <td>0.0</td>\n      <td>0.0</td>\n      <td>0.0</td>\n      <td>0.0</td>\n      <td>...</td>\n      <td>0.0</td>\n      <td>0.0</td>\n      <td>0.0</td>\n      <td>0.000000</td>\n      <td>0.0</td>\n      <td>0.0</td>\n      <td>0.0</td>\n      <td>0.0</td>\n      <td>0.0</td>\n      <td>0.0</td>\n    </tr>\n    <tr>\n      <th>TONIKAWA: Over the Moon for You</th>\n      <td>0.0</td>\n      <td>0.0</td>\n      <td>0.0</td>\n      <td>0.0</td>\n      <td>0.0</td>\n      <td>0.0</td>\n      <td>0.0</td>\n      <td>0.0</td>\n      <td>0.0</td>\n      <td>0.0</td>\n      <td>...</td>\n      <td>0.0</td>\n      <td>0.0</td>\n      <td>0.0</td>\n      <td>0.000000</td>\n      <td>0.0</td>\n      <td>0.0</td>\n      <td>0.0</td>\n      <td>0.0</td>\n      <td>0.0</td>\n      <td>0.0</td>\n    </tr>\n  </tbody>\n</table>\n<p>10 rows × 50 columns</p>\n</div>"
          },
          "metadata": {}
        }
      ]
    },
    {
      "cell_type": "code",
      "source": [
        "from sklearn.metrics.pairwise import cosine_similarity\n",
        "\n",
        "# Menghitung cosine similarity pada matrix tf-idf\n",
        "cosine_sim = cosine_similarity(tfidf_matrix)\n",
        "cosine_sim"
      ],
      "metadata": {
        "execution": {
          "iopub.status.busy": "2023-07-30T14:42:53.789826Z",
          "iopub.execute_input": "2023-07-30T14:42:53.790661Z",
          "iopub.status.idle": "2023-07-30T14:43:00.328653Z",
          "shell.execute_reply.started": "2023-07-30T14:42:53.790619Z",
          "shell.execute_reply": "2023-07-30T14:43:00.327250Z"
        },
        "trusted": true,
        "id": "6AwxERHYy-hl",
        "outputId": "227ed9e8-16ce-4ea7-ba70-8cf1e15b3d41"
      },
      "execution_count": null,
      "outputs": [
        {
          "execution_count": 60,
          "output_type": "execute_result",
          "data": {
            "text/plain": "array([[1.        , 0.0466116 , 0.14367045, ..., 0.        , 0.        ,\n        0.18767336],\n       [0.0466116 , 1.        , 0.26561408, ..., 0.02807647, 0.18462736,\n        0.09190499],\n       [0.14367045, 0.26561408, 1.        , ..., 0.        , 0.21993891,\n        0.        ],\n       ...,\n       [0.        , 0.02807647, 0.        , ..., 1.        , 0.07187223,\n        0.22808514],\n       [0.        , 0.18462736, 0.21993891, ..., 0.07187223, 1.        ,\n        0.        ],\n       [0.18767336, 0.09190499, 0.        , ..., 0.22808514, 0.        ,\n        1.        ]])"
          },
          "metadata": {}
        }
      ]
    },
    {
      "cell_type": "markdown",
      "source": [
        "Membuat dataframe dari variabel cosine_sim dengan baris dan kolom berupa nama anime"
      ],
      "metadata": {
        "id": "fPyp85EQCCQu"
      }
    },
    {
      "cell_type": "code",
      "source": [
        "cosine_sim_df = pd.DataFrame(cosine_sim, index=data['name'], columns=data['name'])\n",
        "print('Shape:', cosine_sim_df.shape)\n",
        "\n",
        "# Melihat similarity matrix pada setiap anime\n",
        "cosine_sim_df"
      ],
      "metadata": {
        "execution": {
          "iopub.status.busy": "2023-07-30T14:43:02.529361Z",
          "iopub.execute_input": "2023-07-30T14:43:02.529737Z",
          "iopub.status.idle": "2023-07-30T14:43:02.643461Z",
          "shell.execute_reply.started": "2023-07-30T14:43:02.529704Z",
          "shell.execute_reply": "2023-07-30T14:43:02.642586Z"
        },
        "trusted": true,
        "id": "mALmQisGy-hm",
        "outputId": "052c707b-2481-401a-e618-cf9b09483efe"
      },
      "execution_count": null,
      "outputs": [
        {
          "name": "stdout",
          "text": "Shape: (16621, 16621)\n",
          "output_type": "stream"
        },
        {
          "execution_count": 61,
          "output_type": "execute_result",
          "data": {
            "text/plain": "name                                           The Prince of Tennis  \\\nname                                                                  \nThe Prince of Tennis                                       1.000000   \nNeon Genesis Evangelion                                    0.046612   \nFull Metal Panic! The Second Raid                          0.143670   \n22/7: Shampoo no Nioi ga Shita                             0.000000   \nOshiri Tantei: Puputto Fumutto Kaiketsu Dance              0.000000   \n...                                                             ...   \nKitsunetsuki: Kedamonodamono                               0.000000   \nIrodorimidori: Outsider Requiem                            0.000000   \nKura Sushi                                                 0.000000   \nHigh School Fleet Movie                                    0.000000   \nDrive Agent Personal: Shiawase wo Mamoru Mono              0.187673   \n\nname                                           Neon Genesis Evangelion  \\\nname                                                                     \nThe Prince of Tennis                                          0.046612   \nNeon Genesis Evangelion                                       1.000000   \nFull Metal Panic! The Second Raid                             0.265614   \n22/7: Shampoo no Nioi ga Shita                                0.000000   \nOshiri Tantei: Puputto Fumutto Kaiketsu Dance                 0.000000   \n...                                                                ...   \nKitsunetsuki: Kedamonodamono                                  0.000000   \nIrodorimidori: Outsider Requiem                               0.000000   \nKura Sushi                                                    0.028076   \nHigh School Fleet Movie                                       0.184627   \nDrive Agent Personal: Shiawase wo Mamoru Mono                 0.091905   \n\nname                                           Full Metal Panic! The Second Raid  \\\nname                                                                               \nThe Prince of Tennis                                                    0.143670   \nNeon Genesis Evangelion                                                 0.265614   \nFull Metal Panic! The Second Raid                                       1.000000   \n22/7: Shampoo no Nioi ga Shita                                          0.000000   \nOshiri Tantei: Puputto Fumutto Kaiketsu Dance                           0.000000   \n...                                                                          ...   \nKitsunetsuki: Kedamonodamono                                            0.000000   \nIrodorimidori: Outsider Requiem                                         0.000000   \nKura Sushi                                                              0.000000   \nHigh School Fleet Movie                                                 0.219939   \nDrive Agent Personal: Shiawase wo Mamoru Mono                           0.000000   \n\nname                                           22/7: Shampoo no Nioi ga Shita  \\\nname                                                                            \nThe Prince of Tennis                                                 0.000000   \nNeon Genesis Evangelion                                              0.000000   \nFull Metal Panic! The Second Raid                                    0.000000   \n22/7: Shampoo no Nioi ga Shita                                       1.000000   \nOshiri Tantei: Puputto Fumutto Kaiketsu Dance                        0.000000   \n...                                                                       ...   \nKitsunetsuki: Kedamonodamono                                         0.000000   \nIrodorimidori: Outsider Requiem                                      0.426297   \nKura Sushi                                                           0.069993   \nHigh School Fleet Movie                                              0.247229   \nDrive Agent Personal: Shiawase wo Mamoru Mono                        0.000000   \n\nname                                           Oshiri Tantei: Puputto Fumutto Kaiketsu Dance  \\\nname                                                                                           \nThe Prince of Tennis                                                                     0.0   \nNeon Genesis Evangelion                                                                  0.0   \nFull Metal Panic! The Second Raid                                                        0.0   \n22/7: Shampoo no Nioi ga Shita                                                           0.0   \nOshiri Tantei: Puputto Fumutto Kaiketsu Dance                                            1.0   \n...                                                                                      ...   \nKitsunetsuki: Kedamonodamono                                                             0.0   \nIrodorimidori: Outsider Requiem                                                          0.0   \nKura Sushi                                                                               0.0   \nHigh School Fleet Movie                                                                  0.0   \nDrive Agent Personal: Shiawase wo Mamoru Mono                                            0.0   \n\nname                                           BACK DROP BOMB: Sigh  \\\nname                                                                  \nThe Prince of Tennis                                            0.0   \nNeon Genesis Evangelion                                         0.0   \nFull Metal Panic! The Second Raid                               0.0   \n22/7: Shampoo no Nioi ga Shita                                  0.0   \nOshiri Tantei: Puputto Fumutto Kaiketsu Dance                   0.0   \n...                                                             ...   \nKitsunetsuki: Kedamonodamono                                    0.0   \nIrodorimidori: Outsider Requiem                                 0.0   \nKura Sushi                                                      0.0   \nHigh School Fleet Movie                                         0.0   \nDrive Agent Personal: Shiawase wo Mamoru Mono                   0.0   \n\nname                                           MIRChee: Kyak Kyak Kyak Flamenco  \\\nname                                                                              \nThe Prince of Tennis                                                        0.0   \nNeon Genesis Evangelion                                                     0.0   \nFull Metal Panic! The Second Raid                                           0.0   \n22/7: Shampoo no Nioi ga Shita                                              0.0   \nOshiri Tantei: Puputto Fumutto Kaiketsu Dance                               0.0   \n...                                                                         ...   \nKitsunetsuki: Kedamonodamono                                                0.0   \nIrodorimidori: Outsider Requiem                                             0.0   \nKura Sushi                                                                  0.0   \nHigh School Fleet Movie                                                     0.0   \nDrive Agent Personal: Shiawase wo Mamoru Mono                               0.0   \n\nname                                           Mang Huang Ji  \\\nname                                                           \nThe Prince of Tennis                                0.049717   \nNeon Genesis Evangelion                             0.000000   \nFull Metal Panic! The Second Raid                   0.122907   \n22/7: Shampoo no Nioi ga Shita                      0.076533   \nOshiri Tantei: Puputto Fumutto Kaiketsu Dance       0.000000   \n...                                                      ...   \nKitsunetsuki: Kedamonodamono                        0.000000   \nIrodorimidori: Outsider Requiem                     0.000000   \nKura Sushi                                          0.097771   \nHigh School Fleet Movie                             0.029704   \nDrive Agent Personal: Shiawase wo Mamoru Mono       0.000000   \n\nname                                           sora tob sakana: Ribbon  \\\nname                                                                     \nThe Prince of Tennis                                               0.0   \nNeon Genesis Evangelion                                            0.0   \nFull Metal Panic! The Second Raid                                  0.0   \n22/7: Shampoo no Nioi ga Shita                                     0.0   \nOshiri Tantei: Puputto Fumutto Kaiketsu Dance                      0.0   \n...                                                                ...   \nKitsunetsuki: Kedamonodamono                                       0.0   \nIrodorimidori: Outsider Requiem                                    0.0   \nKura Sushi                                                         0.0   \nHigh School Fleet Movie                                            0.0   \nDrive Agent Personal: Shiawase wo Mamoru Mono                      0.0   \n\nname                                           Kindan no Tasuketsu: Nosferatu  \\\nname                                                                            \nThe Prince of Tennis                                                      0.0   \nNeon Genesis Evangelion                                                   0.0   \nFull Metal Panic! The Second Raid                                         0.0   \n22/7: Shampoo no Nioi ga Shita                                            0.0   \nOshiri Tantei: Puputto Fumutto Kaiketsu Dance                             0.0   \n...                                                                       ...   \nKitsunetsuki: Kedamonodamono                                              0.0   \nIrodorimidori: Outsider Requiem                                           0.0   \nKura Sushi                                                                0.0   \nHigh School Fleet Movie                                                   0.0   \nDrive Agent Personal: Shiawase wo Mamoru Mono                             0.0   \n\nname                                           ...  Crystal Sky of Yesterday  \\\nname                                           ...                             \nThe Prince of Tennis                           ...                  0.083285   \nNeon Genesis Evangelion                        ...                  0.040785   \nFull Metal Panic! The Second Raid              ...                  0.000000   \n22/7: Shampoo no Nioi ga Shita                 ...                  0.298747   \nOshiri Tantei: Puputto Fumutto Kaiketsu Dance  ...                  0.000000   \n...                                            ...                       ...   \nKitsunetsuki: Kedamonodamono                   ...                  0.000000   \nIrodorimidori: Outsider Requiem                ...                  0.000000   \nKura Sushi                                     ...                  0.047914   \nHigh School Fleet Movie                        ...                  0.169240   \nDrive Agent Personal: Shiawase wo Mamoru Mono  ...                  0.164215   \n\nname                                           Tamaki Roy: Koto no Shidai  \\\nname                                                                        \nThe Prince of Tennis                                                  0.0   \nNeon Genesis Evangelion                                               0.0   \nFull Metal Panic! The Second Raid                                     0.0   \n22/7: Shampoo no Nioi ga Shita                                        0.0   \nOshiri Tantei: Puputto Fumutto Kaiketsu Dance                         0.0   \n...                                                                   ...   \nKitsunetsuki: Kedamonodamono                                          0.0   \nIrodorimidori: Outsider Requiem                                       0.0   \nKura Sushi                                                            0.0   \nHigh School Fleet Movie                                               0.0   \nDrive Agent Personal: Shiawase wo Mamoru Mono                         0.0   \n\nname                                           22/7: Ano Hi no Kanojo-tachi  \\\nname                                                                          \nThe Prince of Tennis                                               0.000000   \nNeon Genesis Evangelion                                            0.000000   \nFull Metal Panic! The Second Raid                                  0.000000   \n22/7: Shampoo no Nioi ga Shita                                     0.439422   \nOshiri Tantei: Puputto Fumutto Kaiketsu Dance                      0.000000   \n...                                                                     ...   \nKitsunetsuki: Kedamonodamono                                       0.000000   \nIrodorimidori: Outsider Requiem                                    0.401547   \nKura Sushi                                                         0.219144   \nHigh School Fleet Movie                                            0.059216   \nDrive Agent Personal: Shiawase wo Mamoru Mono                      0.000000   \n\nname                                           Kenshi Yonezu: Sajou no Yumekui Shoujo  \\\nname                                                                                    \nThe Prince of Tennis                                                              0.0   \nNeon Genesis Evangelion                                                           0.0   \nFull Metal Panic! The Second Raid                                                 0.0   \n22/7: Shampoo no Nioi ga Shita                                                    0.0   \nOshiri Tantei: Puputto Fumutto Kaiketsu Dance                                     0.0   \n...                                                                               ...   \nKitsunetsuki: Kedamonodamono                                                      0.0   \nIrodorimidori: Outsider Requiem                                                   0.0   \nKura Sushi                                                                        0.0   \nHigh School Fleet Movie                                                           0.0   \nDrive Agent Personal: Shiawase wo Mamoru Mono                                     0.0   \n\nname                                           Sangatsu no Phantasia: Cobalt World  \\\nname                                                                                 \nThe Prince of Tennis                                                           0.0   \nNeon Genesis Evangelion                                                        0.0   \nFull Metal Panic! The Second Raid                                              0.0   \n22/7: Shampoo no Nioi ga Shita                                                 0.0   \nOshiri Tantei: Puputto Fumutto Kaiketsu Dance                                  0.0   \n...                                                                            ...   \nKitsunetsuki: Kedamonodamono                                                   0.0   \nIrodorimidori: Outsider Requiem                                                0.0   \nKura Sushi                                                                     0.0   \nHigh School Fleet Movie                                                        0.0   \nDrive Agent Personal: Shiawase wo Mamoru Mono                                  0.0   \n\nname                                           Kitsunetsuki: Kedamonodamono  \\\nname                                                                          \nThe Prince of Tennis                                                    0.0   \nNeon Genesis Evangelion                                                 0.0   \nFull Metal Panic! The Second Raid                                       0.0   \n22/7: Shampoo no Nioi ga Shita                                          0.0   \nOshiri Tantei: Puputto Fumutto Kaiketsu Dance                           0.0   \n...                                                                     ...   \nKitsunetsuki: Kedamonodamono                                            1.0   \nIrodorimidori: Outsider Requiem                                         0.0   \nKura Sushi                                                              0.0   \nHigh School Fleet Movie                                                 0.0   \nDrive Agent Personal: Shiawase wo Mamoru Mono                           0.0   \n\nname                                           Irodorimidori: Outsider Requiem  \\\nname                                                                             \nThe Prince of Tennis                                                  0.000000   \nNeon Genesis Evangelion                                               0.000000   \nFull Metal Panic! The Second Raid                                     0.000000   \n22/7: Shampoo no Nioi ga Shita                                        0.426297   \nOshiri Tantei: Puputto Fumutto Kaiketsu Dance                         0.000000   \n...                                                                        ...   \nKitsunetsuki: Kedamonodamono                                          0.000000   \nIrodorimidori: Outsider Requiem                                       1.000000   \nKura Sushi                                                            0.000000   \nHigh School Fleet Movie                                               0.000000   \nDrive Agent Personal: Shiawase wo Mamoru Mono                         0.000000   \n\nname                                           Kura Sushi  \\\nname                                                        \nThe Prince of Tennis                             0.000000   \nNeon Genesis Evangelion                          0.028076   \nFull Metal Panic! The Second Raid                0.000000   \n22/7: Shampoo no Nioi ga Shita                   0.069993   \nOshiri Tantei: Puputto Fumutto Kaiketsu Dance    0.000000   \n...                                                   ...   \nKitsunetsuki: Kedamonodamono                     0.000000   \nIrodorimidori: Outsider Requiem                  0.000000   \nKura Sushi                                       1.000000   \nHigh School Fleet Movie                          0.071872   \nDrive Agent Personal: Shiawase wo Mamoru Mono    0.228085   \n\nname                                           High School Fleet Movie  \\\nname                                                                     \nThe Prince of Tennis                                          0.000000   \nNeon Genesis Evangelion                                       0.184627   \nFull Metal Panic! The Second Raid                             0.219939   \n22/7: Shampoo no Nioi ga Shita                                0.247229   \nOshiri Tantei: Puputto Fumutto Kaiketsu Dance                 0.000000   \n...                                                                ...   \nKitsunetsuki: Kedamonodamono                                  0.000000   \nIrodorimidori: Outsider Requiem                               0.000000   \nKura Sushi                                                    0.071872   \nHigh School Fleet Movie                                       1.000000   \nDrive Agent Personal: Shiawase wo Mamoru Mono                 0.000000   \n\nname                                           Drive Agent Personal: Shiawase wo Mamoru Mono  \nname                                                                                          \nThe Prince of Tennis                                                                0.187673  \nNeon Genesis Evangelion                                                             0.091905  \nFull Metal Panic! The Second Raid                                                   0.000000  \n22/7: Shampoo no Nioi ga Shita                                                      0.000000  \nOshiri Tantei: Puputto Fumutto Kaiketsu Dance                                       0.000000  \n...                                                                                      ...  \nKitsunetsuki: Kedamonodamono                                                        0.000000  \nIrodorimidori: Outsider Requiem                                                     0.000000  \nKura Sushi                                                                          0.228085  \nHigh School Fleet Movie                                                             0.000000  \nDrive Agent Personal: Shiawase wo Mamoru Mono                                       1.000000  \n\n[16621 rows x 16621 columns]",
            "text/html": "<div>\n<style scoped>\n    .dataframe tbody tr th:only-of-type {\n        vertical-align: middle;\n    }\n\n    .dataframe tbody tr th {\n        vertical-align: top;\n    }\n\n    .dataframe thead th {\n        text-align: right;\n    }\n</style>\n<table border=\"1\" class=\"dataframe\">\n  <thead>\n    <tr style=\"text-align: right;\">\n      <th>name</th>\n      <th>The Prince of Tennis</th>\n      <th>Neon Genesis Evangelion</th>\n      <th>Full Metal Panic! The Second Raid</th>\n      <th>22/7: Shampoo no Nioi ga Shita</th>\n      <th>Oshiri Tantei: Puputto Fumutto Kaiketsu Dance</th>\n      <th>BACK DROP BOMB: Sigh</th>\n      <th>MIRChee: Kyak Kyak Kyak Flamenco</th>\n      <th>Mang Huang Ji</th>\n      <th>sora tob sakana: Ribbon</th>\n      <th>Kindan no Tasuketsu: Nosferatu</th>\n      <th>...</th>\n      <th>Crystal Sky of Yesterday</th>\n      <th>Tamaki Roy: Koto no Shidai</th>\n      <th>22/7: Ano Hi no Kanojo-tachi</th>\n      <th>Kenshi Yonezu: Sajou no Yumekui Shoujo</th>\n      <th>Sangatsu no Phantasia: Cobalt World</th>\n      <th>Kitsunetsuki: Kedamonodamono</th>\n      <th>Irodorimidori: Outsider Requiem</th>\n      <th>Kura Sushi</th>\n      <th>High School Fleet Movie</th>\n      <th>Drive Agent Personal: Shiawase wo Mamoru Mono</th>\n    </tr>\n    <tr>\n      <th>name</th>\n      <th></th>\n      <th></th>\n      <th></th>\n      <th></th>\n      <th></th>\n      <th></th>\n      <th></th>\n      <th></th>\n      <th></th>\n      <th></th>\n      <th></th>\n      <th></th>\n      <th></th>\n      <th></th>\n      <th></th>\n      <th></th>\n      <th></th>\n      <th></th>\n      <th></th>\n      <th></th>\n      <th></th>\n    </tr>\n  </thead>\n  <tbody>\n    <tr>\n      <th>The Prince of Tennis</th>\n      <td>1.000000</td>\n      <td>0.046612</td>\n      <td>0.143670</td>\n      <td>0.000000</td>\n      <td>0.0</td>\n      <td>0.0</td>\n      <td>0.0</td>\n      <td>0.049717</td>\n      <td>0.0</td>\n      <td>0.0</td>\n      <td>...</td>\n      <td>0.083285</td>\n      <td>0.0</td>\n      <td>0.000000</td>\n      <td>0.0</td>\n      <td>0.0</td>\n      <td>0.0</td>\n      <td>0.000000</td>\n      <td>0.000000</td>\n      <td>0.000000</td>\n      <td>0.187673</td>\n    </tr>\n    <tr>\n      <th>Neon Genesis Evangelion</th>\n      <td>0.046612</td>\n      <td>1.000000</td>\n      <td>0.265614</td>\n      <td>0.000000</td>\n      <td>0.0</td>\n      <td>0.0</td>\n      <td>0.0</td>\n      <td>0.000000</td>\n      <td>0.0</td>\n      <td>0.0</td>\n      <td>...</td>\n      <td>0.040785</td>\n      <td>0.0</td>\n      <td>0.000000</td>\n      <td>0.0</td>\n      <td>0.0</td>\n      <td>0.0</td>\n      <td>0.000000</td>\n      <td>0.028076</td>\n      <td>0.184627</td>\n      <td>0.091905</td>\n    </tr>\n    <tr>\n      <th>Full Metal Panic! The Second Raid</th>\n      <td>0.143670</td>\n      <td>0.265614</td>\n      <td>1.000000</td>\n      <td>0.000000</td>\n      <td>0.0</td>\n      <td>0.0</td>\n      <td>0.0</td>\n      <td>0.122907</td>\n      <td>0.0</td>\n      <td>0.0</td>\n      <td>...</td>\n      <td>0.000000</td>\n      <td>0.0</td>\n      <td>0.000000</td>\n      <td>0.0</td>\n      <td>0.0</td>\n      <td>0.0</td>\n      <td>0.000000</td>\n      <td>0.000000</td>\n      <td>0.219939</td>\n      <td>0.000000</td>\n    </tr>\n    <tr>\n      <th>22/7: Shampoo no Nioi ga Shita</th>\n      <td>0.000000</td>\n      <td>0.000000</td>\n      <td>0.000000</td>\n      <td>1.000000</td>\n      <td>0.0</td>\n      <td>0.0</td>\n      <td>0.0</td>\n      <td>0.076533</td>\n      <td>0.0</td>\n      <td>0.0</td>\n      <td>...</td>\n      <td>0.298747</td>\n      <td>0.0</td>\n      <td>0.439422</td>\n      <td>0.0</td>\n      <td>0.0</td>\n      <td>0.0</td>\n      <td>0.426297</td>\n      <td>0.069993</td>\n      <td>0.247229</td>\n      <td>0.000000</td>\n    </tr>\n    <tr>\n      <th>Oshiri Tantei: Puputto Fumutto Kaiketsu Dance</th>\n      <td>0.000000</td>\n      <td>0.000000</td>\n      <td>0.000000</td>\n      <td>0.000000</td>\n      <td>1.0</td>\n      <td>0.0</td>\n      <td>0.0</td>\n      <td>0.000000</td>\n      <td>0.0</td>\n      <td>0.0</td>\n      <td>...</td>\n      <td>0.000000</td>\n      <td>0.0</td>\n      <td>0.000000</td>\n      <td>0.0</td>\n      <td>0.0</td>\n      <td>0.0</td>\n      <td>0.000000</td>\n      <td>0.000000</td>\n      <td>0.000000</td>\n      <td>0.000000</td>\n    </tr>\n    <tr>\n      <th>...</th>\n      <td>...</td>\n      <td>...</td>\n      <td>...</td>\n      <td>...</td>\n      <td>...</td>\n      <td>...</td>\n      <td>...</td>\n      <td>...</td>\n      <td>...</td>\n      <td>...</td>\n      <td>...</td>\n      <td>...</td>\n      <td>...</td>\n      <td>...</td>\n      <td>...</td>\n      <td>...</td>\n      <td>...</td>\n      <td>...</td>\n      <td>...</td>\n      <td>...</td>\n      <td>...</td>\n    </tr>\n    <tr>\n      <th>Kitsunetsuki: Kedamonodamono</th>\n      <td>0.000000</td>\n      <td>0.000000</td>\n      <td>0.000000</td>\n      <td>0.000000</td>\n      <td>0.0</td>\n      <td>0.0</td>\n      <td>0.0</td>\n      <td>0.000000</td>\n      <td>0.0</td>\n      <td>0.0</td>\n      <td>...</td>\n      <td>0.000000</td>\n      <td>0.0</td>\n      <td>0.000000</td>\n      <td>0.0</td>\n      <td>0.0</td>\n      <td>1.0</td>\n      <td>0.000000</td>\n      <td>0.000000</td>\n      <td>0.000000</td>\n      <td>0.000000</td>\n    </tr>\n    <tr>\n      <th>Irodorimidori: Outsider Requiem</th>\n      <td>0.000000</td>\n      <td>0.000000</td>\n      <td>0.000000</td>\n      <td>0.426297</td>\n      <td>0.0</td>\n      <td>0.0</td>\n      <td>0.0</td>\n      <td>0.000000</td>\n      <td>0.0</td>\n      <td>0.0</td>\n      <td>...</td>\n      <td>0.000000</td>\n      <td>0.0</td>\n      <td>0.401547</td>\n      <td>0.0</td>\n      <td>0.0</td>\n      <td>0.0</td>\n      <td>1.000000</td>\n      <td>0.000000</td>\n      <td>0.000000</td>\n      <td>0.000000</td>\n    </tr>\n    <tr>\n      <th>Kura Sushi</th>\n      <td>0.000000</td>\n      <td>0.028076</td>\n      <td>0.000000</td>\n      <td>0.069993</td>\n      <td>0.0</td>\n      <td>0.0</td>\n      <td>0.0</td>\n      <td>0.097771</td>\n      <td>0.0</td>\n      <td>0.0</td>\n      <td>...</td>\n      <td>0.047914</td>\n      <td>0.0</td>\n      <td>0.219144</td>\n      <td>0.0</td>\n      <td>0.0</td>\n      <td>0.0</td>\n      <td>0.000000</td>\n      <td>1.000000</td>\n      <td>0.071872</td>\n      <td>0.228085</td>\n    </tr>\n    <tr>\n      <th>High School Fleet Movie</th>\n      <td>0.000000</td>\n      <td>0.184627</td>\n      <td>0.219939</td>\n      <td>0.247229</td>\n      <td>0.0</td>\n      <td>0.0</td>\n      <td>0.0</td>\n      <td>0.029704</td>\n      <td>0.0</td>\n      <td>0.0</td>\n      <td>...</td>\n      <td>0.169240</td>\n      <td>0.0</td>\n      <td>0.059216</td>\n      <td>0.0</td>\n      <td>0.0</td>\n      <td>0.0</td>\n      <td>0.000000</td>\n      <td>0.071872</td>\n      <td>1.000000</td>\n      <td>0.000000</td>\n    </tr>\n    <tr>\n      <th>Drive Agent Personal: Shiawase wo Mamoru Mono</th>\n      <td>0.187673</td>\n      <td>0.091905</td>\n      <td>0.000000</td>\n      <td>0.000000</td>\n      <td>0.0</td>\n      <td>0.0</td>\n      <td>0.0</td>\n      <td>0.000000</td>\n      <td>0.0</td>\n      <td>0.0</td>\n      <td>...</td>\n      <td>0.164215</td>\n      <td>0.0</td>\n      <td>0.000000</td>\n      <td>0.0</td>\n      <td>0.0</td>\n      <td>0.0</td>\n      <td>0.000000</td>\n      <td>0.228085</td>\n      <td>0.000000</td>\n      <td>1.000000</td>\n    </tr>\n  </tbody>\n</table>\n<p>16621 rows × 16621 columns</p>\n</div>"
          },
          "metadata": {}
        }
      ]
    },
    {
      "cell_type": "markdown",
      "source": [
        "Deklarasi fungsi untuk mendapatkan rekomendasi"
      ],
      "metadata": {
        "id": "qhV0TLNJCFg7"
      }
    },
    {
      "cell_type": "code",
      "source": [
        "def anime_recommendations(nama_anime, similarity_data=cosine_sim_df, items=data[['name', 'tags']], k=5):\n",
        "        # Mengambil data dengan menggunakan argpartition untuk melakukan partisi secara tidak langsung sepanjang sumbu yang diberikan\n",
        "        # Dataframe diubah menjadi numpy\n",
        "        # Range(start, stop, step)\n",
        "        index = similarity_data.loc[:,nama_anime].to_numpy().argpartition(\n",
        "            range(-1, -k, -1))\n",
        "\n",
        "        # Mengambil data dengan similarity terbesar dari index yang ada\n",
        "        closest = similarity_data.columns[index[-1:-(k+2):-1]]\n",
        "\n",
        "        # Drop nama_anime agar nama anime yang dicari tidak muncul dalam daftar rekomendasi\n",
        "        closest = closest.drop(nama_anime, errors='ignore')\n",
        "\n",
        "        return pd.DataFrame(closest).merge(items).head(k)"
      ],
      "metadata": {
        "execution": {
          "iopub.status.busy": "2023-07-30T14:43:05.869251Z",
          "iopub.execute_input": "2023-07-30T14:43:05.869642Z",
          "iopub.status.idle": "2023-07-30T14:43:05.878829Z",
          "shell.execute_reply.started": "2023-07-30T14:43:05.869609Z",
          "shell.execute_reply": "2023-07-30T14:43:05.877454Z"
        },
        "trusted": true,
        "id": "JDE5oY8Uy-hm"
      },
      "execution_count": null,
      "outputs": []
    },
    {
      "cell_type": "markdown",
      "source": [
        "### Content Based Filtering - Result"
      ],
      "metadata": {
        "id": "WJr1RsiHy-hn"
      }
    },
    {
      "cell_type": "markdown",
      "source": [
        "Mendapatkan nama anime random"
      ],
      "metadata": {
        "id": "ZGEgWhDvCMW4"
      }
    },
    {
      "cell_type": "code",
      "source": [
        "anime_title = np.random.choice(data.name)\n",
        "anime_title\n",
        "data[data.name.eq(anime_title)]"
      ],
      "metadata": {
        "execution": {
          "iopub.status.busy": "2023-07-30T14:43:30.269999Z",
          "iopub.execute_input": "2023-07-30T14:43:30.270401Z",
          "iopub.status.idle": "2023-07-30T14:43:30.285997Z",
          "shell.execute_reply.started": "2023-07-30T14:43:30.270365Z",
          "shell.execute_reply": "2023-07-30T14:43:30.284818Z"
        },
        "trusted": true,
        "id": "VH2RCgD2y-hn",
        "outputId": "d2cd904a-3467-449b-9730-540525fa0cd1"
      },
      "execution_count": null,
      "outputs": [
        {
          "execution_count": 63,
          "output_type": "execute_result",
          "data": {
            "text/plain": "         anime_id                      name rating_score             tags  \\\n2269159     12689  THE CHARM PARK: Timeless        2.529  Abstract, Aging   \n\n         user_id  rating  \n2269159     1635     0.0  ",
            "text/html": "<div>\n<style scoped>\n    .dataframe tbody tr th:only-of-type {\n        vertical-align: middle;\n    }\n\n    .dataframe tbody tr th {\n        vertical-align: top;\n    }\n\n    .dataframe thead th {\n        text-align: right;\n    }\n</style>\n<table border=\"1\" class=\"dataframe\">\n  <thead>\n    <tr style=\"text-align: right;\">\n      <th></th>\n      <th>anime_id</th>\n      <th>name</th>\n      <th>rating_score</th>\n      <th>tags</th>\n      <th>user_id</th>\n      <th>rating</th>\n    </tr>\n  </thead>\n  <tbody>\n    <tr>\n      <th>2269159</th>\n      <td>12689</td>\n      <td>THE CHARM PARK: Timeless</td>\n      <td>2.529</td>\n      <td>Abstract, Aging</td>\n      <td>1635</td>\n      <td>0.0</td>\n    </tr>\n  </tbody>\n</table>\n</div>"
          },
          "metadata": {}
        }
      ]
    },
    {
      "cell_type": "markdown",
      "source": [
        "Mendapatkan nama anime rekomendasi"
      ],
      "metadata": {
        "id": "IAfd4PAeCQEM"
      }
    },
    {
      "cell_type": "code",
      "source": [
        "anime_recommendations(anime_title)"
      ],
      "metadata": {
        "execution": {
          "iopub.status.busy": "2023-07-30T14:43:33.826227Z",
          "iopub.execute_input": "2023-07-30T14:43:33.826935Z",
          "iopub.status.idle": "2023-07-30T14:43:33.855923Z",
          "shell.execute_reply.started": "2023-07-30T14:43:33.826896Z",
          "shell.execute_reply": "2023-07-30T14:43:33.854782Z"
        },
        "trusted": true,
        "id": "pnKxPG9gy-hn",
        "outputId": "0dd8d8ba-36d6-456e-d73e-8a286a317747"
      },
      "execution_count": null,
      "outputs": [
        {
          "execution_count": 64,
          "output_type": "execute_result",
          "data": {
            "text/plain": "                            name  \\\n0                         Furiko   \n1                Best Care Group   \n2  The Sakuramoto Broom Workshop   \n3                          Walls   \n4                  Canigou: Tape   \n\n                                                tags  \n0     Drama, Romance, Aging, Black and White, Shorts  \n1  Slice of Life, Aging, No Dialogue, Promotional...  \n2  Drama, Aging, No Dialogue, Shorts, Stop Motion...  \n3                                           Abstract  \n4                                           Abstract  ",
            "text/html": "<div>\n<style scoped>\n    .dataframe tbody tr th:only-of-type {\n        vertical-align: middle;\n    }\n\n    .dataframe tbody tr th {\n        vertical-align: top;\n    }\n\n    .dataframe thead th {\n        text-align: right;\n    }\n</style>\n<table border=\"1\" class=\"dataframe\">\n  <thead>\n    <tr style=\"text-align: right;\">\n      <th></th>\n      <th>name</th>\n      <th>tags</th>\n    </tr>\n  </thead>\n  <tbody>\n    <tr>\n      <th>0</th>\n      <td>Furiko</td>\n      <td>Drama, Romance, Aging, Black and White, Shorts</td>\n    </tr>\n    <tr>\n      <th>1</th>\n      <td>Best Care Group</td>\n      <td>Slice of Life, Aging, No Dialogue, Promotional...</td>\n    </tr>\n    <tr>\n      <th>2</th>\n      <td>The Sakuramoto Broom Workshop</td>\n      <td>Drama, Aging, No Dialogue, Shorts, Stop Motion...</td>\n    </tr>\n    <tr>\n      <th>3</th>\n      <td>Walls</td>\n      <td>Abstract</td>\n    </tr>\n    <tr>\n      <th>4</th>\n      <td>Canigou: Tape</td>\n      <td>Abstract</td>\n    </tr>\n  </tbody>\n</table>\n</div>"
          },
          "metadata": {}
        }
      ]
    },
    {
      "cell_type": "markdown",
      "source": [
        "### Collaborative Based Filtering - Modelling"
      ],
      "metadata": {
        "id": "B95HhP9Ry-ho"
      }
    },
    {
      "cell_type": "markdown",
      "source": [
        "Membuat fungsi rekomender dengan Collaborative Based Filtering"
      ],
      "metadata": {
        "id": "hHv-t6UdCWTb"
      }
    },
    {
      "cell_type": "code",
      "source": [
        "import tensorflow as tf\n",
        "from tensorflow.keras.layers import Add, Activation, Lambda, BatchNormalization, Concatenate, Dropout, Input, Embedding, Dot, Reshape, Dense, Flatten\n",
        "from tensorflow.keras.models import Model\n",
        "\n",
        "def RecommenderNet(num_users, num_anime, embedding_size):\n",
        "\n",
        "        user = Input(name = 'user', shape = [1])\n",
        "        embedding_size = embedding_size\n",
        "\n",
        "        user_embedding = Embedding( # layer embedding user\n",
        "            name = 'user_embedding',\n",
        "            input_dim = num_users,\n",
        "            output_dim = embedding_size,\n",
        "        )(user)\n",
        "\n",
        "        anime = Input(name = 'anime', shape = [1])\n",
        "        anime_embedding = Embedding( # layer embeddings anime\n",
        "            name = 'anime_embedding',\n",
        "            input_dim = num_anime,\n",
        "            output_dim = embedding_size)(anime)\n",
        "\n",
        "\n",
        "        x = Dot(name = 'dot_product', normalize = True, axes = 2)([user_embedding, anime_embedding])\n",
        "        x = Flatten()(x)\n",
        "\n",
        "        x = Dense(1, kernel_initializer='he_normal')(x)\n",
        "        x = BatchNormalization()(x)\n",
        "        x = Activation(\"sigmoid\")(x)\n",
        "\n",
        "        model = Model(inputs=[user, anime], outputs=x)\n",
        "\n",
        "\n",
        "        return model\n",
        ""
      ],
      "metadata": {
        "execution": {
          "iopub.status.busy": "2023-07-30T14:48:10.502433Z",
          "iopub.execute_input": "2023-07-30T14:48:10.502884Z",
          "iopub.status.idle": "2023-07-30T14:48:10.513561Z",
          "shell.execute_reply.started": "2023-07-30T14:48:10.502846Z",
          "shell.execute_reply": "2023-07-30T14:48:10.512488Z"
        },
        "trusted": true,
        "id": "bbCQTcIAy-ho"
      },
      "execution_count": null,
      "outputs": []
    },
    {
      "cell_type": "markdown",
      "source": [
        "Inisialisasi model dan tampilkan summary"
      ],
      "metadata": {
        "id": "XiP_7mT9C0EE"
      }
    },
    {
      "cell_type": "code",
      "source": [
        "model = RecommenderNet(n_users, n_animes, 50) # inisialisasi model\n",
        "\n",
        "# model compile\n",
        "model.compile(\n",
        "        loss = tf.keras.losses.BinaryCrossentropy(),\n",
        "        optimizer = tf.keras.optimizers.Adam(learning_rate=0.001),\n",
        "        metrics=[tf.keras.metrics.RootMeanSquaredError()]\n",
        "        )\n",
        "\n",
        "model.summary()"
      ],
      "metadata": {
        "execution": {
          "iopub.status.busy": "2023-07-30T14:48:27.177184Z",
          "iopub.execute_input": "2023-07-30T14:48:27.177570Z",
          "iopub.status.idle": "2023-07-30T14:48:27.282791Z",
          "shell.execute_reply.started": "2023-07-30T14:48:27.177537Z",
          "shell.execute_reply": "2023-07-30T14:48:27.282030Z"
        },
        "trusted": true,
        "id": "NRNEBf-Qy-ho",
        "outputId": "8dffa73e-3b28-4407-9006-d52f64530588"
      },
      "execution_count": null,
      "outputs": [
        {
          "name": "stdout",
          "text": "Model: \"model_2\"\n__________________________________________________________________________________________________\n Layer (type)                   Output Shape         Param #     Connected to                     \n==================================================================================================\n user (InputLayer)              [(None, 1)]          0           []                               \n                                                                                                  \n anime (InputLayer)             [(None, 1)]          0           []                               \n                                                                                                  \n user_embedding (Embedding)     (None, 1, 50)        6650        ['user[0][0]']                   \n                                                                                                  \n anime_embedding (Embedding)    (None, 1, 50)        788100      ['anime[0][0]']                  \n                                                                                                  \n dot_product (Dot)              (None, 1, 1)         0           ['user_embedding[0][0]',         \n                                                                  'anime_embedding[0][0]']        \n                                                                                                  \n flatten_2 (Flatten)            (None, 1)            0           ['dot_product[0][0]']            \n                                                                                                  \n dense_2 (Dense)                (None, 1)            2           ['flatten_2[0][0]']              \n                                                                                                  \n batch_normalization_2 (BatchNo  (None, 1)           4           ['dense_2[0][0]']                \n rmalization)                                                                                     \n                                                                                                  \n activation_2 (Activation)      (None, 1)            0           ['batch_normalization_2[0][0]']  \n                                                                                                  \n==================================================================================================\nTotal params: 794,756\nTrainable params: 794,754\nNon-trainable params: 2\n__________________________________________________________________________________________________\n",
          "output_type": "stream"
        }
      ]
    },
    {
      "cell_type": "markdown",
      "source": [
        "Buat callback ModelCheckPoint untuk menyimpan hasil pelatihan terbaik"
      ],
      "metadata": {
        "id": "OigiDXhsC9Uj"
      }
    },
    {
      "cell_type": "code",
      "source": [
        "from tensorflow.keras.callbacks import ModelCheckpoint\n",
        "\n",
        "model_checkpoints = ModelCheckpoint(filepath='./weights.h5',\n",
        "                                        save_weights_only=True,\n",
        "                                        monitor='val_loss',\n",
        "                                        mode='min',\n",
        "                                        save_best_only=True)\n",
        "\n",
        "\n",
        "my_callbacks = [\n",
        "    model_checkpoints,\n",
        "]"
      ],
      "metadata": {
        "execution": {
          "iopub.status.busy": "2023-07-30T14:48:34.101955Z",
          "iopub.execute_input": "2023-07-30T14:48:34.102321Z",
          "iopub.status.idle": "2023-07-30T14:48:34.109083Z",
          "shell.execute_reply.started": "2023-07-30T14:48:34.102284Z",
          "shell.execute_reply": "2023-07-30T14:48:34.107881Z"
        },
        "trusted": true,
        "id": "iqqRJn0ky-hp"
      },
      "execution_count": null,
      "outputs": []
    },
    {
      "cell_type": "markdown",
      "source": [
        "Memulai training"
      ],
      "metadata": {
        "id": "hrI4rs1DDITU"
      }
    },
    {
      "cell_type": "code",
      "source": [
        "history = model.fit(\n",
        "        x = x_train_array,\n",
        "        y = y_train,\n",
        "        batch_size = 8,\n",
        "        epochs = 100,\n",
        "        validation_data = (x_test_array, y_test),\n",
        "        callbacks=my_callbacks,\n",
        "    )"
      ],
      "metadata": {
        "execution": {
          "iopub.status.busy": "2023-07-30T14:49:09.958079Z",
          "iopub.execute_input": "2023-07-30T14:49:09.958498Z",
          "iopub.status.idle": "2023-07-30T15:07:33.290113Z",
          "shell.execute_reply.started": "2023-07-30T14:49:09.958463Z",
          "shell.execute_reply": "2023-07-30T15:07:33.288865Z"
        },
        "trusted": true,
        "id": "273QbcGky-hp",
        "outputId": "66a42369-fd51-44a0-a5c8-03ea2c8c49ac"
      },
      "execution_count": null,
      "outputs": [
        {
          "name": "stdout",
          "text": "Epoch 1/100\n1577/1577 [==============================] - 21s 8ms/step - loss: 0.5308 - root_mean_squared_error: 0.3612 - val_loss: 0.3851 - val_root_mean_squared_error: 0.2592\nEpoch 2/100\n1577/1577 [==============================] - 12s 8ms/step - loss: 0.3119 - root_mean_squared_error: 0.2106 - val_loss: 0.3404 - val_root_mean_squared_error: 0.2299\nEpoch 3/100\n1577/1577 [==============================] - 10s 7ms/step - loss: 0.2364 - root_mean_squared_error: 0.1591 - val_loss: 0.3354 - val_root_mean_squared_error: 0.2254\nEpoch 4/100\n1577/1577 [==============================] - 11s 7ms/step - loss: 0.2118 - root_mean_squared_error: 0.1447 - val_loss: 0.3374 - val_root_mean_squared_error: 0.2231\nEpoch 5/100\n1577/1577 [==============================] - 12s 7ms/step - loss: 0.1981 - root_mean_squared_error: 0.1341 - val_loss: 0.3424 - val_root_mean_squared_error: 0.2237\nEpoch 6/100\n1577/1577 [==============================] - 11s 7ms/step - loss: 0.1819 - root_mean_squared_error: 0.1142 - val_loss: 0.3530 - val_root_mean_squared_error: 0.2253\nEpoch 7/100\n1577/1577 [==============================] - 11s 7ms/step - loss: 0.1747 - root_mean_squared_error: 0.1071 - val_loss: 0.3742 - val_root_mean_squared_error: 0.2273\nEpoch 8/100\n1577/1577 [==============================] - 11s 7ms/step - loss: 0.1730 - root_mean_squared_error: 0.1067 - val_loss: 0.3646 - val_root_mean_squared_error: 0.2268\nEpoch 9/100\n1577/1577 [==============================] - 11s 7ms/step - loss: 0.1705 - root_mean_squared_error: 0.1041 - val_loss: 0.3916 - val_root_mean_squared_error: 0.2288\nEpoch 10/100\n1577/1577 [==============================] - 11s 7ms/step - loss: 0.1683 - root_mean_squared_error: 0.1020 - val_loss: 0.3629 - val_root_mean_squared_error: 0.2265\nEpoch 11/100\n1577/1577 [==============================] - 11s 7ms/step - loss: 0.1648 - root_mean_squared_error: 0.0970 - val_loss: 0.3874 - val_root_mean_squared_error: 0.2285\nEpoch 12/100\n1577/1577 [==============================] - 11s 7ms/step - loss: 0.1637 - root_mean_squared_error: 0.0975 - val_loss: 0.3736 - val_root_mean_squared_error: 0.2280\nEpoch 13/100\n1577/1577 [==============================] - 11s 7ms/step - loss: 0.1635 - root_mean_squared_error: 0.0971 - val_loss: 0.3821 - val_root_mean_squared_error: 0.2280\nEpoch 14/100\n1577/1577 [==============================] - 12s 7ms/step - loss: 0.1652 - root_mean_squared_error: 0.1012 - val_loss: 0.3722 - val_root_mean_squared_error: 0.2298\nEpoch 15/100\n1577/1577 [==============================] - 11s 7ms/step - loss: 0.1632 - root_mean_squared_error: 0.0977 - val_loss: 0.3859 - val_root_mean_squared_error: 0.2284\nEpoch 16/100\n1577/1577 [==============================] - 11s 7ms/step - loss: 0.1623 - root_mean_squared_error: 0.0971 - val_loss: 0.4939 - val_root_mean_squared_error: 0.2350\nEpoch 17/100\n1577/1577 [==============================] - 11s 7ms/step - loss: 0.1626 - root_mean_squared_error: 0.0979 - val_loss: 0.3656 - val_root_mean_squared_error: 0.2324\nEpoch 18/100\n1577/1577 [==============================] - 11s 7ms/step - loss: 0.1612 - root_mean_squared_error: 0.0955 - val_loss: 0.3596 - val_root_mean_squared_error: 0.2323\nEpoch 19/100\n1577/1577 [==============================] - 11s 7ms/step - loss: 0.1604 - root_mean_squared_error: 0.0951 - val_loss: 0.3905 - val_root_mean_squared_error: 0.2287\nEpoch 20/100\n1577/1577 [==============================] - 11s 7ms/step - loss: 0.1600 - root_mean_squared_error: 0.0939 - val_loss: 0.4169 - val_root_mean_squared_error: 0.2307\nEpoch 21/100\n1577/1577 [==============================] - 11s 7ms/step - loss: 0.1591 - root_mean_squared_error: 0.0936 - val_loss: 0.4346 - val_root_mean_squared_error: 0.2318\nEpoch 22/100\n1577/1577 [==============================] - 11s 7ms/step - loss: 0.1589 - root_mean_squared_error: 0.0937 - val_loss: 0.4441 - val_root_mean_squared_error: 0.2324\nEpoch 23/100\n1577/1577 [==============================] - 11s 7ms/step - loss: 0.1590 - root_mean_squared_error: 0.0932 - val_loss: 0.5105 - val_root_mean_squared_error: 0.2354\nEpoch 24/100\n1577/1577 [==============================] - 10s 7ms/step - loss: 0.1601 - root_mean_squared_error: 0.0955 - val_loss: 0.4817 - val_root_mean_squared_error: 0.2343\nEpoch 25/100\n1577/1577 [==============================] - 11s 7ms/step - loss: 0.1568 - root_mean_squared_error: 0.0910 - val_loss: 0.4611 - val_root_mean_squared_error: 0.2331\nEpoch 26/100\n1577/1577 [==============================] - 10s 7ms/step - loss: 0.1581 - root_mean_squared_error: 0.0934 - val_loss: 0.4681 - val_root_mean_squared_error: 0.2335\nEpoch 27/100\n1577/1577 [==============================] - 11s 7ms/step - loss: 0.1587 - root_mean_squared_error: 0.0937 - val_loss: 0.4730 - val_root_mean_squared_error: 0.2338\nEpoch 28/100\n1577/1577 [==============================] - 11s 7ms/step - loss: 0.1580 - root_mean_squared_error: 0.0928 - val_loss: 0.4911 - val_root_mean_squared_error: 0.2345\nEpoch 29/100\n1577/1577 [==============================] - 11s 7ms/step - loss: 0.1566 - root_mean_squared_error: 0.0908 - val_loss: 0.5617 - val_root_mean_squared_error: 0.2366\nEpoch 30/100\n1577/1577 [==============================] - 11s 7ms/step - loss: 0.1559 - root_mean_squared_error: 0.0898 - val_loss: 0.5165 - val_root_mean_squared_error: 0.2355\nEpoch 31/100\n1577/1577 [==============================] - 12s 7ms/step - loss: 0.1557 - root_mean_squared_error: 0.0898 - val_loss: 0.3785 - val_root_mean_squared_error: 0.2306\nEpoch 32/100\n1577/1577 [==============================] - 11s 7ms/step - loss: 0.1566 - root_mean_squared_error: 0.0912 - val_loss: 0.4599 - val_root_mean_squared_error: 0.2333\nEpoch 33/100\n1577/1577 [==============================] - 11s 7ms/step - loss: 0.1560 - root_mean_squared_error: 0.0903 - val_loss: 0.6246 - val_root_mean_squared_error: 0.2377\nEpoch 34/100\n1577/1577 [==============================] - 12s 7ms/step - loss: 0.1544 - root_mean_squared_error: 0.0875 - val_loss: 0.5845 - val_root_mean_squared_error: 0.2371\nEpoch 35/100\n1577/1577 [==============================] - 11s 7ms/step - loss: 0.1553 - root_mean_squared_error: 0.0895 - val_loss: 0.5761 - val_root_mean_squared_error: 0.2370\nEpoch 36/100\n1577/1577 [==============================] - 11s 7ms/step - loss: 0.1568 - root_mean_squared_error: 0.0919 - val_loss: 0.4599 - val_root_mean_squared_error: 0.2330\nEpoch 37/100\n1577/1577 [==============================] - 11s 7ms/step - loss: 0.1568 - root_mean_squared_error: 0.0915 - val_loss: 0.5118 - val_root_mean_squared_error: 0.2351\nEpoch 38/100\n1577/1577 [==============================] - 11s 7ms/step - loss: 0.1547 - root_mean_squared_error: 0.0887 - val_loss: 0.4876 - val_root_mean_squared_error: 0.2340\nEpoch 39/100\n1577/1577 [==============================] - 11s 7ms/step - loss: 0.1554 - root_mean_squared_error: 0.0898 - val_loss: 0.5342 - val_root_mean_squared_error: 0.2359\nEpoch 40/100\n1577/1577 [==============================] - 11s 7ms/step - loss: 0.1548 - root_mean_squared_error: 0.0891 - val_loss: 0.6325 - val_root_mean_squared_error: 0.2377\nEpoch 41/100\n1577/1577 [==============================] - 11s 7ms/step - loss: 0.1555 - root_mean_squared_error: 0.0904 - val_loss: 0.5185 - val_root_mean_squared_error: 0.2354\nEpoch 42/100\n1577/1577 [==============================] - 10s 7ms/step - loss: 0.1549 - root_mean_squared_error: 0.0896 - val_loss: 0.4601 - val_root_mean_squared_error: 0.2325\nEpoch 43/100\n1577/1577 [==============================] - 11s 7ms/step - loss: 0.1550 - root_mean_squared_error: 0.0893 - val_loss: 0.5043 - val_root_mean_squared_error: 0.2349\nEpoch 44/100\n1577/1577 [==============================] - 10s 7ms/step - loss: 0.1573 - root_mean_squared_error: 0.0924 - val_loss: 0.3900 - val_root_mean_squared_error: 0.2309\nEpoch 45/100\n1577/1577 [==============================] - 10s 7ms/step - loss: 0.1551 - root_mean_squared_error: 0.0893 - val_loss: 0.5886 - val_root_mean_squared_error: 0.2372\nEpoch 46/100\n1577/1577 [==============================] - 11s 7ms/step - loss: 0.1544 - root_mean_squared_error: 0.0883 - val_loss: 0.4437 - val_root_mean_squared_error: 0.2319\nEpoch 47/100\n1577/1577 [==============================] - 10s 7ms/step - loss: 0.1540 - root_mean_squared_error: 0.0881 - val_loss: 0.6717 - val_root_mean_squared_error: 0.2381\nEpoch 48/100\n1577/1577 [==============================] - 11s 7ms/step - loss: 0.1558 - root_mean_squared_error: 0.0898 - val_loss: 0.6166 - val_root_mean_squared_error: 0.2375\nEpoch 49/100\n1577/1577 [==============================] - 11s 7ms/step - loss: 0.1540 - root_mean_squared_error: 0.0878 - val_loss: 0.6766 - val_root_mean_squared_error: 0.2381\nEpoch 50/100\n1577/1577 [==============================] - 11s 7ms/step - loss: 0.1552 - root_mean_squared_error: 0.0905 - val_loss: 0.4909 - val_root_mean_squared_error: 0.2342\nEpoch 51/100\n1577/1577 [==============================] - 11s 7ms/step - loss: 0.1538 - root_mean_squared_error: 0.0880 - val_loss: 0.5544 - val_root_mean_squared_error: 0.2361\nEpoch 52/100\n1577/1577 [==============================] - 11s 7ms/step - loss: 0.1553 - root_mean_squared_error: 0.0902 - val_loss: 0.4480 - val_root_mean_squared_error: 0.2321\nEpoch 53/100\n1577/1577 [==============================] - 11s 7ms/step - loss: 0.1546 - root_mean_squared_error: 0.0883 - val_loss: 0.4190 - val_root_mean_squared_error: 0.2303\nEpoch 54/100\n1577/1577 [==============================] - 11s 7ms/step - loss: 0.1548 - root_mean_squared_error: 0.0894 - val_loss: 0.4597 - val_root_mean_squared_error: 0.2327\nEpoch 55/100\n1577/1577 [==============================] - 10s 7ms/step - loss: 0.1536 - root_mean_squared_error: 0.0868 - val_loss: 0.5645 - val_root_mean_squared_error: 0.2366\nEpoch 56/100\n1577/1577 [==============================] - 11s 7ms/step - loss: 0.1536 - root_mean_squared_error: 0.0875 - val_loss: 0.6560 - val_root_mean_squared_error: 0.2379\nEpoch 57/100\n1577/1577 [==============================] - 11s 7ms/step - loss: 0.1541 - root_mean_squared_error: 0.0881 - val_loss: 0.4583 - val_root_mean_squared_error: 0.2324\nEpoch 58/100\n1577/1577 [==============================] - 10s 7ms/step - loss: 0.1547 - root_mean_squared_error: 0.0898 - val_loss: 0.4962 - val_root_mean_squared_error: 0.2340\nEpoch 59/100\n1577/1577 [==============================] - 11s 7ms/step - loss: 0.1556 - root_mean_squared_error: 0.0913 - val_loss: 0.4984 - val_root_mean_squared_error: 0.2342\nEpoch 60/100\n1577/1577 [==============================] - 11s 7ms/step - loss: 0.1546 - root_mean_squared_error: 0.0883 - val_loss: 0.5857 - val_root_mean_squared_error: 0.2368\nEpoch 61/100\n1577/1577 [==============================] - 11s 7ms/step - loss: 0.1532 - root_mean_squared_error: 0.0866 - val_loss: 0.6431 - val_root_mean_squared_error: 0.2378\nEpoch 62/100\n1577/1577 [==============================] - 10s 7ms/step - loss: 0.1544 - root_mean_squared_error: 0.0893 - val_loss: 0.5483 - val_root_mean_squared_error: 0.2361\nEpoch 63/100\n1577/1577 [==============================] - 11s 7ms/step - loss: 0.1557 - root_mean_squared_error: 0.0909 - val_loss: 0.6873 - val_root_mean_squared_error: 0.2381\nEpoch 64/100\n1577/1577 [==============================] - 10s 6ms/step - loss: 0.1526 - root_mean_squared_error: 0.0853 - val_loss: 0.6223 - val_root_mean_squared_error: 0.2375\nEpoch 65/100\n1577/1577 [==============================] - 10s 7ms/step - loss: 0.1547 - root_mean_squared_error: 0.0891 - val_loss: 0.6485 - val_root_mean_squared_error: 0.2379\nEpoch 66/100\n1577/1577 [==============================] - 11s 7ms/step - loss: 0.1533 - root_mean_squared_error: 0.0874 - val_loss: 0.5451 - val_root_mean_squared_error: 0.2359\nEpoch 67/100\n1577/1577 [==============================] - 11s 7ms/step - loss: 0.1538 - root_mean_squared_error: 0.0880 - val_loss: 0.6090 - val_root_mean_squared_error: 0.2373\nEpoch 68/100\n1577/1577 [==============================] - 10s 7ms/step - loss: 0.1531 - root_mean_squared_error: 0.0867 - val_loss: 0.7553 - val_root_mean_squared_error: 0.2385\nEpoch 69/100\n1577/1577 [==============================] - 11s 7ms/step - loss: 0.1529 - root_mean_squared_error: 0.0867 - val_loss: 0.6213 - val_root_mean_squared_error: 0.2374\nEpoch 70/100\n1577/1577 [==============================] - 11s 7ms/step - loss: 0.1531 - root_mean_squared_error: 0.0872 - val_loss: 0.6286 - val_root_mean_squared_error: 0.2375\nEpoch 71/100\n1577/1577 [==============================] - 11s 7ms/step - loss: 0.1545 - root_mean_squared_error: 0.0890 - val_loss: 0.5911 - val_root_mean_squared_error: 0.2367\nEpoch 72/100\n1577/1577 [==============================] - 11s 7ms/step - loss: 0.1548 - root_mean_squared_error: 0.0902 - val_loss: 0.6825 - val_root_mean_squared_error: 0.2381\nEpoch 73/100\n1577/1577 [==============================] - 11s 7ms/step - loss: 0.1546 - root_mean_squared_error: 0.0884 - val_loss: 0.5237 - val_root_mean_squared_error: 0.2350\nEpoch 74/100\n1577/1577 [==============================] - 11s 7ms/step - loss: 0.1535 - root_mean_squared_error: 0.0874 - val_loss: 0.7997 - val_root_mean_squared_error: 0.2386\nEpoch 75/100\n1577/1577 [==============================] - 11s 7ms/step - loss: 0.1529 - root_mean_squared_error: 0.0858 - val_loss: 0.6372 - val_root_mean_squared_error: 0.2376\nEpoch 76/100\n1577/1577 [==============================] - 11s 7ms/step - loss: 0.1521 - root_mean_squared_error: 0.0851 - val_loss: 0.7388 - val_root_mean_squared_error: 0.2385\nEpoch 77/100\n1577/1577 [==============================] - 10s 7ms/step - loss: 0.1542 - root_mean_squared_error: 0.0884 - val_loss: 0.6987 - val_root_mean_squared_error: 0.2382\nEpoch 78/100\n1577/1577 [==============================] - 11s 7ms/step - loss: 0.1521 - root_mean_squared_error: 0.0852 - val_loss: 0.7570 - val_root_mean_squared_error: 0.2384\nEpoch 79/100\n1577/1577 [==============================] - 10s 7ms/step - loss: 0.1543 - root_mean_squared_error: 0.0882 - val_loss: 0.4630 - val_root_mean_squared_error: 0.2325\nEpoch 80/100\n1577/1577 [==============================] - 10s 7ms/step - loss: 0.1541 - root_mean_squared_error: 0.0883 - val_loss: 0.6175 - val_root_mean_squared_error: 0.2371\nEpoch 81/100\n1577/1577 [==============================] - 11s 7ms/step - loss: 0.1521 - root_mean_squared_error: 0.0849 - val_loss: 0.6233 - val_root_mean_squared_error: 0.2371\nEpoch 82/100\n1577/1577 [==============================] - 10s 7ms/step - loss: 0.1532 - root_mean_squared_error: 0.0873 - val_loss: 0.6306 - val_root_mean_squared_error: 0.2373\nEpoch 83/100\n1577/1577 [==============================] - 11s 7ms/step - loss: 0.1530 - root_mean_squared_error: 0.0861 - val_loss: 0.6597 - val_root_mean_squared_error: 0.2377\nEpoch 84/100\n1577/1577 [==============================] - 11s 7ms/step - loss: 0.1548 - root_mean_squared_error: 0.0900 - val_loss: 0.6729 - val_root_mean_squared_error: 0.2378\nEpoch 85/100\n1577/1577 [==============================] - 11s 7ms/step - loss: 0.1541 - root_mean_squared_error: 0.0887 - val_loss: 0.9401 - val_root_mean_squared_error: 0.2388\nEpoch 86/100\n1577/1577 [==============================] - 11s 7ms/step - loss: 0.1537 - root_mean_squared_error: 0.0884 - val_loss: 0.9416 - val_root_mean_squared_error: 0.2388\nEpoch 87/100\n1577/1577 [==============================] - 11s 7ms/step - loss: 0.1537 - root_mean_squared_error: 0.0868 - val_loss: 0.6605 - val_root_mean_squared_error: 0.2377\nEpoch 88/100\n1577/1577 [==============================] - 10s 7ms/step - loss: 0.1543 - root_mean_squared_error: 0.0885 - val_loss: 1.0115 - val_root_mean_squared_error: 0.2388\nEpoch 89/100\n1577/1577 [==============================] - 10s 7ms/step - loss: 0.1572 - root_mean_squared_error: 0.0932 - val_loss: 0.8109 - val_root_mean_squared_error: 0.2386\nEpoch 90/100\n1577/1577 [==============================] - 11s 7ms/step - loss: 0.1549 - root_mean_squared_error: 0.0893 - val_loss: 1.0238 - val_root_mean_squared_error: 0.2388\nEpoch 91/100\n1577/1577 [==============================] - 11s 7ms/step - loss: 0.1559 - root_mean_squared_error: 0.0902 - val_loss: 0.7411 - val_root_mean_squared_error: 0.2382\nEpoch 92/100\n1577/1577 [==============================] - 11s 7ms/step - loss: 0.1542 - root_mean_squared_error: 0.0878 - val_loss: 0.5976 - val_root_mean_squared_error: 0.2363\nEpoch 93/100\n1577/1577 [==============================] - 11s 7ms/step - loss: 0.1546 - root_mean_squared_error: 0.0888 - val_loss: 0.6268 - val_root_mean_squared_error: 0.2370\nEpoch 94/100\n1577/1577 [==============================] - 11s 7ms/step - loss: 0.1556 - root_mean_squared_error: 0.0901 - val_loss: 0.7155 - val_root_mean_squared_error: 0.2380\nEpoch 95/100\n1577/1577 [==============================] - 12s 8ms/step - loss: 0.1542 - root_mean_squared_error: 0.0879 - val_loss: 0.8911 - val_root_mean_squared_error: 0.2387\nEpoch 96/100\n1577/1577 [==============================] - 11s 7ms/step - loss: 0.1540 - root_mean_squared_error: 0.0873 - val_loss: 0.7053 - val_root_mean_squared_error: 0.2380\nEpoch 97/100\n1577/1577 [==============================] - 11s 7ms/step - loss: 0.1548 - root_mean_squared_error: 0.0891 - val_loss: 0.7120 - val_root_mean_squared_error: 0.2381\nEpoch 98/100\n1577/1577 [==============================] - 11s 7ms/step - loss: 0.1547 - root_mean_squared_error: 0.0885 - val_loss: 0.7659 - val_root_mean_squared_error: 0.2383\nEpoch 99/100\n1577/1577 [==============================] - 11s 7ms/step - loss: 0.1550 - root_mean_squared_error: 0.0896 - val_loss: 0.7996 - val_root_mean_squared_error: 0.2383\nEpoch 100/100\n1577/1577 [==============================] - 11s 7ms/step - loss: 0.1550 - root_mean_squared_error: 0.0892 - val_loss: 0.9657 - val_root_mean_squared_error: 0.2388\n",
          "output_type": "stream"
        }
      ]
    },
    {
      "cell_type": "markdown",
      "source": [
        "Me-load model terbaik yang telah disimpan dengan callback ModelCheckPoint"
      ],
      "metadata": {
        "id": "z8eIJnASDLuF"
      }
    },
    {
      "cell_type": "code",
      "source": [
        "model.load_weights('./weights.h5')"
      ],
      "metadata": {
        "execution": {
          "iopub.status.busy": "2023-07-30T15:07:33.293129Z",
          "iopub.execute_input": "2023-07-30T15:07:33.293604Z",
          "iopub.status.idle": "2023-07-30T15:07:33.321080Z",
          "shell.execute_reply.started": "2023-07-30T15:07:33.293561Z",
          "shell.execute_reply": "2023-07-30T15:07:33.320053Z"
        },
        "trusted": true,
        "id": "UWiW4je0y-hp"
      },
      "execution_count": null,
      "outputs": []
    },
    {
      "cell_type": "markdown",
      "source": [
        "Replace Unknown menjadi NaN"
      ],
      "metadata": {
        "id": "VS3uF6i2Defa"
      }
    },
    {
      "cell_type": "code",
      "source": [
        "df_test = anime\n",
        "df_test = df_test.replace(\"Unknown\", np.nan)\n",
        "df_test"
      ],
      "metadata": {
        "execution": {
          "iopub.status.busy": "2023-07-30T15:08:03.642221Z",
          "iopub.execute_input": "2023-07-30T15:08:03.642714Z",
          "iopub.status.idle": "2023-07-30T15:08:03.698442Z",
          "shell.execute_reply.started": "2023-07-30T15:08:03.642674Z",
          "shell.execute_reply": "2023-07-30T15:08:03.697513Z"
        },
        "trusted": true,
        "id": "lrVve3qmy-hp",
        "outputId": "f74f551d-fbe5-4645-ecd7-6cba48631707"
      },
      "execution_count": null,
      "outputs": [
        {
          "execution_count": 83,
          "output_type": "execute_result",
          "data": {
            "text/plain": "       anime_planetid                                           name  \\\n0                  10                           The Prince of Tennis   \n1                 100                        Neon Genesis Evangelion   \n2                1000              Full Metal Panic! The Second Raid   \n3               10000                 22/7: Shampoo no Nioi ga Shita   \n4               10001  Oshiri Tantei: Puputto Fumutto Kaiketsu Dance   \n...               ...                                            ...   \n16616            9995                   Kitsunetsuki: Kedamonodamono   \n16617            9996                Irodorimidori: Outsider Requiem   \n16618            9997                                     Kura Sushi   \n16619            9998                        High School Fleet Movie   \n16620            9999  Drive Agent Personal: Shiawase wo Mamoru Mono   \n\n           alternative_name rating_score number_votes  \\\n0       Tennis no Ouji-sama        4.037        10889   \n1      Shinseiki Evangelion        4.248        54463   \n2                       NaN         4.35        23948   \n3                       NaN          2.8          131   \n4                       NaN        1.271           21   \n...                     ...          ...          ...   \n16616                   NaN         2.32           96   \n16617                   NaN        2.277           63   \n16618                   NaN        3.087           45   \n16619         Haifuri Movie        3.912          148   \n16620                   NaN        2.462           24   \n\n                                                    tags  \\\n0      Comedy, Drama, Shounen, Sports, Tennis, Based ...   \n1      Drama, Mecha, Sci Fi, Conspiracy, Kaijuu, Lone...   \n2      Action, Comedy, Mecha, Sci Fi, Shounen, Milita...   \n3                       Idols, School Life, CG Animation   \n4                                        Family Friendly   \n...                                                  ...   \n16616                                             Demons   \n16617                                       Idols, Music   \n16618  Coworkers, Food and Beverage, Promotional, Res...   \n16619  Action, Military, Military School, Ocean, Scho...   \n16620                                 Drama, Promotional   \n\n                                         content_warning   type episodes  \\\n0                                                    NaN     TV      178   \n1      Emotional Abuse, Explicit Violence, Mature The...     TV       26   \n2                              Explicit Violence, Nudity     TV       13   \n3                                                    NaN  Music        1   \n4                                                    NaN    Web        1   \n...                                                  ...    ...      ...   \n16616                                                NaN  Music        1   \n16617                                                NaN  Music        1   \n16618                                                NaN    Web        2   \n16619                                                NaN  Movie        1   \n16620                                                NaN    Web        1   \n\n       finished duration startyear endyear       season  \\\n0          True      NaN      2001    2005    Fall 2001   \n1          True      NaN      1995    1996    Fall 1995   \n2          True      NaN      2005    2005  Summer 2005   \n3          True        5      2018    2018          NaN   \n4          True        2      2017    2017          NaN   \n...         ...      ...       ...     ...          ...   \n16616      True        4      2018    2018          NaN   \n16617      True        2      2018    2018          NaN   \n16618      True        4      2014    2016          NaN   \n16619      True      103      2020    2020          NaN   \n16620      True        2      2018    2018          NaN   \n\n                            studios  \\\n0        Production I.G, Trans Arts   \n1      GAINAX, Tatsunoko Production   \n2                   Kyoto Animation   \n3                               NaN   \n4                    Toei Animation   \n...                             ...   \n16616                           NaN   \n16617                           NaN   \n16618                           NaN   \n16619                  A-1 Pictures   \n16620                           NaN   \n\n                                                synopsis  \\\n0      Meet Ryoma Echizen, the cocky prince of tennis...   \n1      In the future, a devastating event known as Se...   \n2      Half a year has passed since Sousuke Sagara to...   \n3      The idol group 22/7 perform the song Shampoo n...   \n4                     No synopsis yet - check back soon!   \n...                                                  ...   \n16616  The official music video for Killing Bites's e...   \n16617                 No synopsis yet - check back soon!   \n16618                 No synopsis yet - check back soon!   \n16619                 No synopsis yet - check back soon!   \n16620  A mother is driving her son, Hiroki, to the ne...   \n\n                                                     url  \n0      https://www.anime-planet.com/anime/the-prince-...  \n1      https://www.anime-planet.com/anime/neon-genesi...  \n2      https://www.anime-planet.com/anime/full-metal-...  \n3      https://www.anime-planet.com/anime/22-7-shampo...  \n4      https://www.anime-planet.com/anime/oshiri-tant...  \n...                                                  ...  \n16616  https://www.anime-planet.com/anime/kitsunetsuk...  \n16617  https://www.anime-planet.com/anime/irodorimido...  \n16618      https://www.anime-planet.com/anime/kura-sushi  \n16619  https://www.anime-planet.com/anime/high-school...  \n16620  https://www.anime-planet.com/anime/drive-agent...  \n\n[16621 rows x 17 columns]",
            "text/html": "<div>\n<style scoped>\n    .dataframe tbody tr th:only-of-type {\n        vertical-align: middle;\n    }\n\n    .dataframe tbody tr th {\n        vertical-align: top;\n    }\n\n    .dataframe thead th {\n        text-align: right;\n    }\n</style>\n<table border=\"1\" class=\"dataframe\">\n  <thead>\n    <tr style=\"text-align: right;\">\n      <th></th>\n      <th>anime_planetid</th>\n      <th>name</th>\n      <th>alternative_name</th>\n      <th>rating_score</th>\n      <th>number_votes</th>\n      <th>tags</th>\n      <th>content_warning</th>\n      <th>type</th>\n      <th>episodes</th>\n      <th>finished</th>\n      <th>duration</th>\n      <th>startyear</th>\n      <th>endyear</th>\n      <th>season</th>\n      <th>studios</th>\n      <th>synopsis</th>\n      <th>url</th>\n    </tr>\n  </thead>\n  <tbody>\n    <tr>\n      <th>0</th>\n      <td>10</td>\n      <td>The Prince of Tennis</td>\n      <td>Tennis no Ouji-sama</td>\n      <td>4.037</td>\n      <td>10889</td>\n      <td>Comedy, Drama, Shounen, Sports, Tennis, Based ...</td>\n      <td>NaN</td>\n      <td>TV</td>\n      <td>178</td>\n      <td>True</td>\n      <td>NaN</td>\n      <td>2001</td>\n      <td>2005</td>\n      <td>Fall 2001</td>\n      <td>Production I.G, Trans Arts</td>\n      <td>Meet Ryoma Echizen, the cocky prince of tennis...</td>\n      <td>https://www.anime-planet.com/anime/the-prince-...</td>\n    </tr>\n    <tr>\n      <th>1</th>\n      <td>100</td>\n      <td>Neon Genesis Evangelion</td>\n      <td>Shinseiki Evangelion</td>\n      <td>4.248</td>\n      <td>54463</td>\n      <td>Drama, Mecha, Sci Fi, Conspiracy, Kaijuu, Lone...</td>\n      <td>Emotional Abuse, Explicit Violence, Mature The...</td>\n      <td>TV</td>\n      <td>26</td>\n      <td>True</td>\n      <td>NaN</td>\n      <td>1995</td>\n      <td>1996</td>\n      <td>Fall 1995</td>\n      <td>GAINAX, Tatsunoko Production</td>\n      <td>In the future, a devastating event known as Se...</td>\n      <td>https://www.anime-planet.com/anime/neon-genesi...</td>\n    </tr>\n    <tr>\n      <th>2</th>\n      <td>1000</td>\n      <td>Full Metal Panic! The Second Raid</td>\n      <td>NaN</td>\n      <td>4.35</td>\n      <td>23948</td>\n      <td>Action, Comedy, Mecha, Sci Fi, Shounen, Milita...</td>\n      <td>Explicit Violence, Nudity</td>\n      <td>TV</td>\n      <td>13</td>\n      <td>True</td>\n      <td>NaN</td>\n      <td>2005</td>\n      <td>2005</td>\n      <td>Summer 2005</td>\n      <td>Kyoto Animation</td>\n      <td>Half a year has passed since Sousuke Sagara to...</td>\n      <td>https://www.anime-planet.com/anime/full-metal-...</td>\n    </tr>\n    <tr>\n      <th>3</th>\n      <td>10000</td>\n      <td>22/7: Shampoo no Nioi ga Shita</td>\n      <td>NaN</td>\n      <td>2.8</td>\n      <td>131</td>\n      <td>Idols, School Life, CG Animation</td>\n      <td>NaN</td>\n      <td>Music</td>\n      <td>1</td>\n      <td>True</td>\n      <td>5</td>\n      <td>2018</td>\n      <td>2018</td>\n      <td>NaN</td>\n      <td>NaN</td>\n      <td>The idol group 22/7 perform the song Shampoo n...</td>\n      <td>https://www.anime-planet.com/anime/22-7-shampo...</td>\n    </tr>\n    <tr>\n      <th>4</th>\n      <td>10001</td>\n      <td>Oshiri Tantei: Puputto Fumutto Kaiketsu Dance</td>\n      <td>NaN</td>\n      <td>1.271</td>\n      <td>21</td>\n      <td>Family Friendly</td>\n      <td>NaN</td>\n      <td>Web</td>\n      <td>1</td>\n      <td>True</td>\n      <td>2</td>\n      <td>2017</td>\n      <td>2017</td>\n      <td>NaN</td>\n      <td>Toei Animation</td>\n      <td>No synopsis yet - check back soon!</td>\n      <td>https://www.anime-planet.com/anime/oshiri-tant...</td>\n    </tr>\n    <tr>\n      <th>...</th>\n      <td>...</td>\n      <td>...</td>\n      <td>...</td>\n      <td>...</td>\n      <td>...</td>\n      <td>...</td>\n      <td>...</td>\n      <td>...</td>\n      <td>...</td>\n      <td>...</td>\n      <td>...</td>\n      <td>...</td>\n      <td>...</td>\n      <td>...</td>\n      <td>...</td>\n      <td>...</td>\n      <td>...</td>\n    </tr>\n    <tr>\n      <th>16616</th>\n      <td>9995</td>\n      <td>Kitsunetsuki: Kedamonodamono</td>\n      <td>NaN</td>\n      <td>2.32</td>\n      <td>96</td>\n      <td>Demons</td>\n      <td>NaN</td>\n      <td>Music</td>\n      <td>1</td>\n      <td>True</td>\n      <td>4</td>\n      <td>2018</td>\n      <td>2018</td>\n      <td>NaN</td>\n      <td>NaN</td>\n      <td>The official music video for Killing Bites's e...</td>\n      <td>https://www.anime-planet.com/anime/kitsunetsuk...</td>\n    </tr>\n    <tr>\n      <th>16617</th>\n      <td>9996</td>\n      <td>Irodorimidori: Outsider Requiem</td>\n      <td>NaN</td>\n      <td>2.277</td>\n      <td>63</td>\n      <td>Idols, Music</td>\n      <td>NaN</td>\n      <td>Music</td>\n      <td>1</td>\n      <td>True</td>\n      <td>2</td>\n      <td>2018</td>\n      <td>2018</td>\n      <td>NaN</td>\n      <td>NaN</td>\n      <td>No synopsis yet - check back soon!</td>\n      <td>https://www.anime-planet.com/anime/irodorimido...</td>\n    </tr>\n    <tr>\n      <th>16618</th>\n      <td>9997</td>\n      <td>Kura Sushi</td>\n      <td>NaN</td>\n      <td>3.087</td>\n      <td>45</td>\n      <td>Coworkers, Food and Beverage, Promotional, Res...</td>\n      <td>NaN</td>\n      <td>Web</td>\n      <td>2</td>\n      <td>True</td>\n      <td>4</td>\n      <td>2014</td>\n      <td>2016</td>\n      <td>NaN</td>\n      <td>NaN</td>\n      <td>No synopsis yet - check back soon!</td>\n      <td>https://www.anime-planet.com/anime/kura-sushi</td>\n    </tr>\n    <tr>\n      <th>16619</th>\n      <td>9998</td>\n      <td>High School Fleet Movie</td>\n      <td>Haifuri Movie</td>\n      <td>3.912</td>\n      <td>148</td>\n      <td>Action, Military, Military School, Ocean, Scho...</td>\n      <td>NaN</td>\n      <td>Movie</td>\n      <td>1</td>\n      <td>True</td>\n      <td>103</td>\n      <td>2020</td>\n      <td>2020</td>\n      <td>NaN</td>\n      <td>A-1 Pictures</td>\n      <td>No synopsis yet - check back soon!</td>\n      <td>https://www.anime-planet.com/anime/high-school...</td>\n    </tr>\n    <tr>\n      <th>16620</th>\n      <td>9999</td>\n      <td>Drive Agent Personal: Shiawase wo Mamoru Mono</td>\n      <td>NaN</td>\n      <td>2.462</td>\n      <td>24</td>\n      <td>Drama, Promotional</td>\n      <td>NaN</td>\n      <td>Web</td>\n      <td>1</td>\n      <td>True</td>\n      <td>2</td>\n      <td>2018</td>\n      <td>2018</td>\n      <td>NaN</td>\n      <td>NaN</td>\n      <td>A mother is driving her son, Hiroki, to the ne...</td>\n      <td>https://www.anime-planet.com/anime/drive-agent...</td>\n    </tr>\n  </tbody>\n</table>\n<p>16621 rows × 17 columns</p>\n</div>"
          },
          "metadata": {}
        }
      ]
    },
    {
      "cell_type": "markdown",
      "source": [
        "Rubah nama kolom anime_planetid menjadi anime_id"
      ],
      "metadata": {
        "id": "gdl_3PtvDk-I"
      }
    },
    {
      "cell_type": "code",
      "source": [
        "df_test.rename(columns = {'anime_planetid':'anime_id'}, inplace = True)"
      ],
      "metadata": {
        "execution": {
          "iopub.status.busy": "2023-07-30T15:08:05.174007Z",
          "iopub.execute_input": "2023-07-30T15:08:05.174438Z",
          "iopub.status.idle": "2023-07-30T15:08:05.180015Z",
          "shell.execute_reply.started": "2023-07-30T15:08:05.174405Z",
          "shell.execute_reply": "2023-07-30T15:08:05.179065Z"
        },
        "trusted": true,
        "id": "O4dY9SAWy-hq"
      },
      "execution_count": null,
      "outputs": []
    },
    {
      "cell_type": "markdown",
      "source": [
        "Buat fungsi untuk mendapatkan rekomendasi, dimana hasil rekomendasi merupakan anime yang belum pernah ditonton"
      ],
      "metadata": {
        "id": "CIv3SrNjDr9u"
      }
    },
    {
      "cell_type": "code",
      "source": [
        "def get_recommendations(user_id, recom_n=5):\n",
        "    print(\"===\" * 10)\n",
        "    print(\"Recommendation for id: {}\".format(user_id))\n",
        "    print(\"===\" * 10)\n",
        "\n",
        "    animes_watched_by_user = rating_df[rating_df.user_id==user_id]\n",
        "    anime_not_watched_df = df_test[\n",
        "        ~df_test[\"anime_id\"].isin(animes_watched_by_user.anime_id.values)\n",
        "    ]\n",
        "\n",
        "    anime_not_watched = list(\n",
        "        set(anime_not_watched_df['anime_id']).intersection(set(anime2anime_encoded.keys()))\n",
        "    )\n",
        "\n",
        "    anime_not_watched = [[anime2anime_encoded.get(x)] for x in anime_not_watched]\n",
        "\n",
        "    user_encoder = user2user_encoded.get(user_id)\n",
        "\n",
        "    user_anime_array = np.hstack(\n",
        "        ([[user_encoder]] * len(anime_not_watched), anime_not_watched)\n",
        "    )\n",
        "\n",
        "    user_anime_array = [user_anime_array[:, 0], user_anime_array[:, 1]]\n",
        "    ratings = model.predict(user_anime_array).flatten()\n",
        "\n",
        "    top_ratings_indices = (-ratings).argsort()[:recom_n]\n",
        "\n",
        "    recommended_anime_ids = [\n",
        "        anime_encoded2anime.get(anime_not_watched[x][0]) for x in top_ratings_indices\n",
        "    ]\n",
        "\n",
        "    Results = []\n",
        "    top_rated_ids = []\n",
        "\n",
        "    for index, anime_id in enumerate(anime_not_watched):\n",
        "        rating = ratings[index]\n",
        "        id_ = anime_encoded2anime.get(anime_id[0])\n",
        "\n",
        "        if id_ in recommended_anime_ids:\n",
        "            top_rated_ids.append(id_)\n",
        "            try:\n",
        "                condition = (df_test.anime_id == id_)\n",
        "                name = df_test[condition]['name'].values[0]\n",
        "                sypnopsis = df_test[condition].synopsis.values[0]\n",
        "                tags = df_test[condition].tags.values[0]\n",
        "            except:\n",
        "                continue\n",
        "\n",
        "            Results.append({#\"anime_id\": id_,\n",
        "                            \"name\": name,\n",
        "                            \"pred_rating\": rating,\n",
        "                            \"tags\": tags,\n",
        "                            'sypnopsis': sypnopsis} )\n",
        "\n",
        "\n",
        "    print('>>>>>>>> Top ',recom_n,' anime recommendations for you <<<<<<<<<<<<')\n",
        "\n",
        "\n",
        "    Results = pd.DataFrame(Results).sort_values(by='pred_rating', ascending=False)\n",
        "    return Results"
      ],
      "metadata": {
        "execution": {
          "iopub.status.busy": "2023-07-30T15:08:19.953721Z",
          "iopub.execute_input": "2023-07-30T15:08:19.954096Z",
          "iopub.status.idle": "2023-07-30T15:08:19.970101Z",
          "shell.execute_reply.started": "2023-07-30T15:08:19.954065Z",
          "shell.execute_reply": "2023-07-30T15:08:19.968240Z"
        },
        "trusted": true,
        "id": "hBndshVVy-hq"
      },
      "execution_count": null,
      "outputs": []
    },
    {
      "cell_type": "markdown",
      "source": [
        "### Collaborative Based Filtering - Result"
      ],
      "metadata": {
        "id": "oCnA0XNny-hq"
      }
    },
    {
      "cell_type": "markdown",
      "source": [
        "Mendapatkan user id random"
      ],
      "metadata": {
        "id": "UFuUsHSTD6MU"
      }
    },
    {
      "cell_type": "code",
      "source": [
        "ratings_per_user = rating_df.groupby('user_id').size()\n",
        "random_user = ratings_per_user[ratings_per_user < 500].sample(1, random_state=None).index[0]\n",
        "print('> user_id:', random_user)"
      ],
      "metadata": {
        "execution": {
          "iopub.status.busy": "2023-07-30T15:08:28.667897Z",
          "iopub.execute_input": "2023-07-30T15:08:28.668263Z",
          "iopub.status.idle": "2023-07-30T15:08:28.677283Z",
          "shell.execute_reply.started": "2023-07-30T15:08:28.668234Z",
          "shell.execute_reply": "2023-07-30T15:08:28.676235Z"
        },
        "trusted": true,
        "id": "4G_DL0vNy-hr",
        "outputId": "8bebbe51-8948-430b-fd3a-3cc46f459bed"
      },
      "execution_count": null,
      "outputs": [
        {
          "name": "stdout",
          "text": "> user_id: 21\n",
          "output_type": "stream"
        }
      ]
    },
    {
      "cell_type": "markdown",
      "source": [
        "Mendapatkan rekomendasi anime"
      ],
      "metadata": {
        "id": "s_4lbpo7D7_J"
      }
    },
    {
      "cell_type": "code",
      "source": [
        "get_recommendations(random_user)"
      ],
      "metadata": {
        "execution": {
          "iopub.status.busy": "2023-07-30T15:08:31.560843Z",
          "iopub.execute_input": "2023-07-30T15:08:31.561227Z",
          "iopub.status.idle": "2023-07-30T15:08:33.217221Z",
          "shell.execute_reply.started": "2023-07-30T15:08:31.561195Z",
          "shell.execute_reply": "2023-07-30T15:08:33.216093Z"
        },
        "trusted": true,
        "id": "7RbwTwgZy-hr",
        "outputId": "711e5721-5404-4fbb-9b6f-6bb3db952de5"
      },
      "execution_count": null,
      "outputs": [
        {
          "name": "stdout",
          "text": "==============================\nRecommendation for id: 21\n==============================\n492/492 [==============================] - 1s 2ms/step\n>>>>>>>> Top  5  anime recommendations for you <<<<<<<<<<<<\n",
          "output_type": "stream"
        },
        {
          "execution_count": 87,
          "output_type": "execute_result",
          "data": {
            "text/plain": "                                                name  pred_rating  \\\n0                              Ultraviolet: Code 044     0.381287   \n3                        Black Jack: Karte NG Extras     0.371905   \n1  One Piece Movie 9: Episode of Chopper - The Mi...     0.371399   \n4                                           Wolf Guy     0.362220   \n2                  Queen's Blade: Beautiful Warriors     0.358461   \n\n                                                tags  \\\n0    Action, Sci Fi, Vampires, Based on a Comic Book   \n3  Comedy, Shounen, Doctors, Gag, Medical, Slapst...   \n1  Action, Adventure, Comedy, Shounen, Island, Pi...   \n4  Action, Sci Fi, Seinen, Animal Transformation,...   \n2                             Action, Ecchi, Fantasy   \n\n                                           sypnopsis  \n0  In a future where genetic modification is comm...  \n3                 No synopsis yet - check back soon!  \n1  When Nami suddenly comes down with a fever, Lu...  \n4                 No synopsis yet - check back soon!  \n2  The Queen's Blade tournament may be over, but ...  ",
            "text/html": "<div>\n<style scoped>\n    .dataframe tbody tr th:only-of-type {\n        vertical-align: middle;\n    }\n\n    .dataframe tbody tr th {\n        vertical-align: top;\n    }\n\n    .dataframe thead th {\n        text-align: right;\n    }\n</style>\n<table border=\"1\" class=\"dataframe\">\n  <thead>\n    <tr style=\"text-align: right;\">\n      <th></th>\n      <th>name</th>\n      <th>pred_rating</th>\n      <th>tags</th>\n      <th>sypnopsis</th>\n    </tr>\n  </thead>\n  <tbody>\n    <tr>\n      <th>0</th>\n      <td>Ultraviolet: Code 044</td>\n      <td>0.381287</td>\n      <td>Action, Sci Fi, Vampires, Based on a Comic Book</td>\n      <td>In a future where genetic modification is comm...</td>\n    </tr>\n    <tr>\n      <th>3</th>\n      <td>Black Jack: Karte NG Extras</td>\n      <td>0.371905</td>\n      <td>Comedy, Shounen, Doctors, Gag, Medical, Slapst...</td>\n      <td>No synopsis yet - check back soon!</td>\n    </tr>\n    <tr>\n      <th>1</th>\n      <td>One Piece Movie 9: Episode of Chopper - The Mi...</td>\n      <td>0.371399</td>\n      <td>Action, Adventure, Comedy, Shounen, Island, Pi...</td>\n      <td>When Nami suddenly comes down with a fever, Lu...</td>\n    </tr>\n    <tr>\n      <th>4</th>\n      <td>Wolf Guy</td>\n      <td>0.362220</td>\n      <td>Action, Sci Fi, Seinen, Animal Transformation,...</td>\n      <td>No synopsis yet - check back soon!</td>\n    </tr>\n    <tr>\n      <th>2</th>\n      <td>Queen's Blade: Beautiful Warriors</td>\n      <td>0.358461</td>\n      <td>Action, Ecchi, Fantasy</td>\n      <td>The Queen's Blade tournament may be over, but ...</td>\n    </tr>\n  </tbody>\n</table>\n</div>"
          },
          "metadata": {}
        }
      ]
    },
    {
      "cell_type": "markdown",
      "source": [
        "## Evaluation"
      ],
      "metadata": {
        "id": "p2GVmBudy-hr"
      }
    },
    {
      "cell_type": "markdown",
      "source": [
        "## Content Based Filtering\n",
        "Data yang akan diberi rekomendasi\n",
        "\n",
        "| anime_id \t|  name \t|             rating_score \t|  tags \t|         user_id \t| rating \t|     \t|\n",
        "|---------:\t|------:\t|-------------------------:\t|------:\t|----------------:\t|-------:\t|-----\t|\n",
        "|  2269159 \t| 12689 \t| THE CHARM PARK: Timeless \t| 2.529 \t| Abstract, Aging \t| 1635   \t| 0.0 \t|\n",
        "\n",
        "\n",
        "Hasil rekomendasi\n",
        "\n",
        "|   \t|              name             \t|                        tags                       \t|\n",
        "|--:\t|:-----------------------------:\t|:-------------------------------------------------:\t|\n",
        "| 0 \t| Furiko                        \t| Drama, Romance, Aging, Black and White, Shorts    \t|\n",
        "| 1 \t| Best Care Group               \t| Slice of Life, Aging, No Dialogue, Promotional... \t|\n",
        "| 2 \t| The Sakuramoto Broom Workshop \t| Drama, Aging, No Dialogue, Shorts, Stop Motion... \t|\n",
        "| 3 \t| Walls                         \t| Abstract                                          \t|\n",
        "| 4 \t| Canigou: Tape                 \t| Abstract                                          \t|\n",
        "\n",
        "rekomendasi dianggap benar jika memiliki salah satu tags dari tags data referensi (yang diberi rekomendasi) sehingga dapat dihitung nilai precision nya,\n",
        "\n",
        "$$\n",
        "Precision = \\frac{rekomendasi yang relevan}{jumlah yang direkomendasikan}\n",
        "$$\n",
        "\n",
        "$$\n",
        "Precision = \\frac{5}{5}\n",
        "$$\n",
        "\n",
        "Sehingga didapatkan nilai presisinya 100%\n",
        "\n"
      ],
      "metadata": {
        "id": "wevkBVMwEofJ"
      }
    },
    {
      "cell_type": "markdown",
      "source": [
        "### Collaborative Based Filtering"
      ],
      "metadata": {
        "id": "THHHRSmpy-hr"
      }
    },
    {
      "cell_type": "markdown",
      "source": [
        "Tampilkan plot metrik RMSE"
      ],
      "metadata": {
        "id": "GltK6UsWEAW5"
      }
    },
    {
      "cell_type": "code",
      "source": [
        "plt.plot(history.history['root_mean_squared_error'])\n",
        "plt.plot(history.history['val_root_mean_squared_error'])\n",
        "plt.title('model_metrics')\n",
        "plt.ylabel('root_mean_squared_error')\n",
        "plt.xlabel('epoch')\n",
        "plt.legend(['train', 'test'], loc='upper left')\n",
        "plt.show()"
      ],
      "metadata": {
        "execution": {
          "iopub.status.busy": "2023-07-30T15:08:55.741287Z",
          "iopub.execute_input": "2023-07-30T15:08:55.741685Z",
          "iopub.status.idle": "2023-07-30T15:08:56.484931Z",
          "shell.execute_reply.started": "2023-07-30T15:08:55.741651Z",
          "shell.execute_reply": "2023-07-30T15:08:56.483449Z"
        },
        "trusted": true,
        "id": "CywBfHaNy-hr",
        "outputId": "7169d77c-0632-48c6-a486-d839418402d6"
      },
      "execution_count": null,
      "outputs": [
        {
          "output_type": "display_data",
          "data": {
            "text/plain": "<Figure size 640x480 with 1 Axes>",
            "image/png": "[encoded data removed]"
          },
          "metadata": {}
        }
      ]
    },
    {
      "cell_type": "code",
      "source": [],
      "metadata": {
        "id": "dl7dGofPy-hs"
      },
      "execution_count": null,
      "outputs": []
    }
  ]
}